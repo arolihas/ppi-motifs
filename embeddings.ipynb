{
 "metadata": {
  "language_info": {
   "codemirror_mode": {
    "name": "ipython",
    "version": 3
   },
   "file_extension": ".py",
   "mimetype": "text/x-python",
   "name": "python",
   "nbconvert_exporter": "python",
   "pygments_lexer": "ipython3",
   "version": "3.8.3-final"
  },
  "orig_nbformat": 2,
  "kernelspec": {
   "name": "Python 3.8.3 64-bit",
   "display_name": "Python 3.8.3 64-bit",
   "metadata": {
    "interpreter": {
     "hash": "aee8b7b246df8f9039afb4144a1f6fd8d2ca17a180786b69acc140d282b71a49"
    }
   }
  }
 },
 "nbformat": 4,
 "nbformat_minor": 2,
 "cells": [
  {
   "cell_type": "code",
   "execution_count": 33,
   "metadata": {},
   "outputs": [],
   "source": [
    "import pandas as pd\n",
    "import networkx as nx\n",
    "from node2vec import Node2Vec\n",
    "from collections import defaultdict\n",
    "from sklearn.manifold import TSNE"
   ]
  },
  {
   "cell_type": "code",
   "execution_count": 2,
   "metadata": {},
   "outputs": [],
   "source": [
    "network = pd.read_csv('data/bio-pathways-network.csv')\n",
    "graph = nx.from_pandas_edgelist(network, 'Gene ID 1', 'Gene ID 2')"
   ]
  },
  {
   "cell_type": "code",
   "execution_count": 6,
   "metadata": {},
   "outputs": [
    {
     "output_type": "stream",
     "name": "stderr",
     "text": [
      "Computing transition probabilities: 100%|██████████| 21557/21557 [07:31<00:00, 47.75it/s] \n"
     ]
    }
   ],
   "source": [
    "node2vec = Node2Vec(graph, workers=4)"
   ]
  },
  {
   "cell_type": "code",
   "execution_count": 8,
   "metadata": {},
   "outputs": [],
   "source": [
    "n2v_model = node2vec.fit(window=10, min_count=1, batch_words=4)"
   ]
  },
  {
   "cell_type": "code",
   "execution_count": 10,
   "metadata": {},
   "outputs": [],
   "source": [
    "# Save embeddings for later use\n",
    "n2v_model.wv.save_word2vec_format('node2vec_embedding.pt')\n",
    "\n",
    "# Save model for later use\n",
    "n2v_model.save('node2vec_model.pt')"
   ]
  },
  {
   "cell_type": "code",
   "execution_count": 15,
   "metadata": {},
   "outputs": [
    {
     "output_type": "execute_result",
     "data": {
      "text/plain": [
       "[('348', 0.7114304304122925),\n",
       " ('1558', 0.6682052612304688),\n",
       " ('22983', 0.6370899677276611),\n",
       " ('1562', 0.6319289207458496),\n",
       " ('1990', 0.6176955103874207),\n",
       " ('124912', 0.6062756776809692),\n",
       " ('26085', 0.6044849753379822),\n",
       " ('140545', 0.600368857383728),\n",
       " ('24138', 0.5945776104927063),\n",
       " ('1510', 0.5849873423576355)]"
      ]
     },
     "metadata": {},
     "execution_count": 15
    }
   ],
   "source": [
    "n2v_model.wv.most_similar('2')"
   ]
  },
  {
   "cell_type": "code",
   "execution_count": 21,
   "metadata": {},
   "outputs": [
    {
     "output_type": "execute_result",
     "data": {
      "text/plain": [
       "21557"
      ]
     },
     "metadata": {},
     "execution_count": 21
    }
   ],
   "source": [
    "len(n2v_model.wv.vocab)"
   ]
  },
  {
   "cell_type": "code",
   "execution_count": 3,
   "metadata": {},
   "outputs": [],
   "source": [
    "import stellargraph as sg\n",
    "import tensorflow as tf"
   ]
  },
  {
   "cell_type": "code",
   "execution_count": 5,
   "metadata": {},
   "outputs": [],
   "source": [
    "G = sg.StellarGraph.from_networkx(graph)"
   ]
  },
  {
   "cell_type": "code",
   "execution_count": 6,
   "metadata": {},
   "outputs": [
    {
     "output_type": "stream",
     "name": "stdout",
     "text": [
      "Number of random walks: 215570\n"
     ]
    }
   ],
   "source": [
    "rw = sg.data.BiasedRandomWalk(G)\n",
    "\n",
    "walks = rw.run(\n",
    "    nodes=list(G.nodes()),  # root nodes\n",
    "    length=100,  # maximum length of a random walk\n",
    "    n=10,  # number of random walks per root node\n",
    "    p=0.5,  # Defines (unormalised) probability, 1/p, of returning to source node\n",
    "    q=2.0,  # Defines (unormalised) probability, 1/q, for moving away from source node\n",
    ")\n",
    "print(\"Number of random walks: {}\".format(len(walks)))"
   ]
  },
  {
   "cell_type": "code",
   "execution_count": 7,
   "metadata": {},
   "outputs": [],
   "source": [
    "from gensim.models import Word2Vec\n",
    "\n",
    "str_walks = [[str(n) for n in walk] for walk in walks]\n",
    "model = Word2Vec(str_walks, size=128, window=5, min_count=0, sg=1, workers=8, iter=1)"
   ]
  },
  {
   "cell_type": "code",
   "execution_count": 14,
   "metadata": {},
   "outputs": [
    {
     "output_type": "execute_result",
     "data": {
      "text/plain": [
       "           inherited metabolic disorder  integumentary system disease  \\\n",
       "3295                                  1                             0   \n",
       "5189                                  1                             0   \n",
       "5190                                  1                             0   \n",
       "5192                                  1                             0   \n",
       "5193                                  1                             0   \n",
       "...                                 ...                           ...   \n",
       "19400                                 0                             0   \n",
       "81918                                 0                             0   \n",
       "139378                                0                             0   \n",
       "18744                                 0                             0   \n",
       "100360522                             0                             0   \n",
       "\n",
       "           urinary system disease  nervous system disease  \\\n",
       "3295                            0                       1   \n",
       "5189                            0                       1   \n",
       "5190                            0                       0   \n",
       "5192                            0                       0   \n",
       "5193                            0                       0   \n",
       "...                           ...                     ...   \n",
       "19400                           0                       0   \n",
       "81918                           0                       0   \n",
       "139378                          0                       0   \n",
       "18744                           0                       0   \n",
       "100360522                       0                       0   \n",
       "\n",
       "           gastrointestinal system disease  substance-related disorder  \\\n",
       "3295                                     0                           0   \n",
       "5189                                     0                           0   \n",
       "5190                                     0                           0   \n",
       "5192                                     0                           0   \n",
       "5193                                     0                           0   \n",
       "...                                    ...                         ...   \n",
       "19400                                    0                           0   \n",
       "81918                                    0                           0   \n",
       "139378                                   0                           0   \n",
       "18744                                    0                           0   \n",
       "100360522                                0                           0   \n",
       "\n",
       "           immune system disease  musculoskeletal system disease  \\\n",
       "3295                           0                               0   \n",
       "5189                           0                               0   \n",
       "5190                           0                               0   \n",
       "5192                           0                               0   \n",
       "5193                           0                               0   \n",
       "...                          ...                             ...   \n",
       "19400                          0                               0   \n",
       "81918                          0                               0   \n",
       "139378                         0                               0   \n",
       "18744                          0                               0   \n",
       "100360522                      0                               0   \n",
       "\n",
       "           psoriatic arthritis  cancer  ...  chromosomal disease  hypospadias  \\\n",
       "3295                         0       0  ...                    0            0   \n",
       "5189                         0       0  ...                    0            0   \n",
       "5190                         0       0  ...                    0            0   \n",
       "5192                         0       0  ...                    0            0   \n",
       "5193                         0       0  ...                    0            0   \n",
       "...                        ...     ...  ...                  ...          ...   \n",
       "19400                        0       0  ...                    0            0   \n",
       "81918                        0       0  ...                    0            0   \n",
       "139378                       0       0  ...                    0            0   \n",
       "18744                        0       0  ...                    0            0   \n",
       "100360522                    0       0  ...                    0            0   \n",
       "\n",
       "           ciliopathy  developmental disorder of mental health  \\\n",
       "3295                0                                        0   \n",
       "5189                0                                        0   \n",
       "5190                0                                        0   \n",
       "5192                0                                        0   \n",
       "5193                0                                        0   \n",
       "...               ...                                      ...   \n",
       "19400               0                                        0   \n",
       "81918               0                                        0   \n",
       "139378              0                                        0   \n",
       "18744               0                                        0   \n",
       "100360522           0                                        0   \n",
       "\n",
       "           sleep disorder  bacterial infectious disease  \\\n",
       "3295                    0                             0   \n",
       "5189                    0                             0   \n",
       "5190                    0                             0   \n",
       "5192                    0                             0   \n",
       "5193                    0                             0   \n",
       "...                   ...                           ...   \n",
       "19400                   0                             0   \n",
       "81918                   0                             0   \n",
       "139378                  0                             0   \n",
       "18744                   0                             0   \n",
       "100360522               0                             0   \n",
       "\n",
       "           respiratory system disease  polycystic ovary syndrome  \\\n",
       "3295                                0                          0   \n",
       "5189                                0                          0   \n",
       "5190                                0                          0   \n",
       "5192                                0                          0   \n",
       "5193                                0                          0   \n",
       "...                               ...                        ...   \n",
       "19400                               0                          0   \n",
       "81918                               0                          0   \n",
       "139378                              0                          0   \n",
       "18744                               0                          0   \n",
       "100360522                           0                          0   \n",
       "\n",
       "           reproductive system disease  orofacial cleft  \n",
       "3295                                 0                0  \n",
       "5189                                 0                0  \n",
       "5190                                 0                0  \n",
       "5192                                 0                0  \n",
       "5193                                 0                0  \n",
       "...                                ...              ...  \n",
       "19400                                0                0  \n",
       "81918                                0                0  \n",
       "139378                               0                0  \n",
       "18744                                0                0  \n",
       "100360522                            0                0  \n",
       "\n",
       "[22255 rows x 30 columns]"
      ],
      "text/html": "<div>\n<style scoped>\n    .dataframe tbody tr th:only-of-type {\n        vertical-align: middle;\n    }\n\n    .dataframe tbody tr th {\n        vertical-align: top;\n    }\n\n    .dataframe thead th {\n        text-align: right;\n    }\n</style>\n<table border=\"1\" class=\"dataframe\">\n  <thead>\n    <tr style=\"text-align: right;\">\n      <th></th>\n      <th>inherited metabolic disorder</th>\n      <th>integumentary system disease</th>\n      <th>urinary system disease</th>\n      <th>nervous system disease</th>\n      <th>gastrointestinal system disease</th>\n      <th>substance-related disorder</th>\n      <th>immune system disease</th>\n      <th>musculoskeletal system disease</th>\n      <th>psoriatic arthritis</th>\n      <th>cancer</th>\n      <th>...</th>\n      <th>chromosomal disease</th>\n      <th>hypospadias</th>\n      <th>ciliopathy</th>\n      <th>developmental disorder of mental health</th>\n      <th>sleep disorder</th>\n      <th>bacterial infectious disease</th>\n      <th>respiratory system disease</th>\n      <th>polycystic ovary syndrome</th>\n      <th>reproductive system disease</th>\n      <th>orofacial cleft</th>\n    </tr>\n  </thead>\n  <tbody>\n    <tr>\n      <th>3295</th>\n      <td>1</td>\n      <td>0</td>\n      <td>0</td>\n      <td>1</td>\n      <td>0</td>\n      <td>0</td>\n      <td>0</td>\n      <td>0</td>\n      <td>0</td>\n      <td>0</td>\n      <td>...</td>\n      <td>0</td>\n      <td>0</td>\n      <td>0</td>\n      <td>0</td>\n      <td>0</td>\n      <td>0</td>\n      <td>0</td>\n      <td>0</td>\n      <td>0</td>\n      <td>0</td>\n    </tr>\n    <tr>\n      <th>5189</th>\n      <td>1</td>\n      <td>0</td>\n      <td>0</td>\n      <td>1</td>\n      <td>0</td>\n      <td>0</td>\n      <td>0</td>\n      <td>0</td>\n      <td>0</td>\n      <td>0</td>\n      <td>...</td>\n      <td>0</td>\n      <td>0</td>\n      <td>0</td>\n      <td>0</td>\n      <td>0</td>\n      <td>0</td>\n      <td>0</td>\n      <td>0</td>\n      <td>0</td>\n      <td>0</td>\n    </tr>\n    <tr>\n      <th>5190</th>\n      <td>1</td>\n      <td>0</td>\n      <td>0</td>\n      <td>0</td>\n      <td>0</td>\n      <td>0</td>\n      <td>0</td>\n      <td>0</td>\n      <td>0</td>\n      <td>0</td>\n      <td>...</td>\n      <td>0</td>\n      <td>0</td>\n      <td>0</td>\n      <td>0</td>\n      <td>0</td>\n      <td>0</td>\n      <td>0</td>\n      <td>0</td>\n      <td>0</td>\n      <td>0</td>\n    </tr>\n    <tr>\n      <th>5192</th>\n      <td>1</td>\n      <td>0</td>\n      <td>0</td>\n      <td>0</td>\n      <td>0</td>\n      <td>0</td>\n      <td>0</td>\n      <td>0</td>\n      <td>0</td>\n      <td>0</td>\n      <td>...</td>\n      <td>0</td>\n      <td>0</td>\n      <td>0</td>\n      <td>0</td>\n      <td>0</td>\n      <td>0</td>\n      <td>0</td>\n      <td>0</td>\n      <td>0</td>\n      <td>0</td>\n    </tr>\n    <tr>\n      <th>5193</th>\n      <td>1</td>\n      <td>0</td>\n      <td>0</td>\n      <td>0</td>\n      <td>0</td>\n      <td>0</td>\n      <td>0</td>\n      <td>0</td>\n      <td>0</td>\n      <td>0</td>\n      <td>...</td>\n      <td>0</td>\n      <td>0</td>\n      <td>0</td>\n      <td>0</td>\n      <td>0</td>\n      <td>0</td>\n      <td>0</td>\n      <td>0</td>\n      <td>0</td>\n      <td>0</td>\n    </tr>\n    <tr>\n      <th>...</th>\n      <td>...</td>\n      <td>...</td>\n      <td>...</td>\n      <td>...</td>\n      <td>...</td>\n      <td>...</td>\n      <td>...</td>\n      <td>...</td>\n      <td>...</td>\n      <td>...</td>\n      <td>...</td>\n      <td>...</td>\n      <td>...</td>\n      <td>...</td>\n      <td>...</td>\n      <td>...</td>\n      <td>...</td>\n      <td>...</td>\n      <td>...</td>\n      <td>...</td>\n      <td>...</td>\n    </tr>\n    <tr>\n      <th>19400</th>\n      <td>0</td>\n      <td>0</td>\n      <td>0</td>\n      <td>0</td>\n      <td>0</td>\n      <td>0</td>\n      <td>0</td>\n      <td>0</td>\n      <td>0</td>\n      <td>0</td>\n      <td>...</td>\n      <td>0</td>\n      <td>0</td>\n      <td>0</td>\n      <td>0</td>\n      <td>0</td>\n      <td>0</td>\n      <td>0</td>\n      <td>0</td>\n      <td>0</td>\n      <td>0</td>\n    </tr>\n    <tr>\n      <th>81918</th>\n      <td>0</td>\n      <td>0</td>\n      <td>0</td>\n      <td>0</td>\n      <td>0</td>\n      <td>0</td>\n      <td>0</td>\n      <td>0</td>\n      <td>0</td>\n      <td>0</td>\n      <td>...</td>\n      <td>0</td>\n      <td>0</td>\n      <td>0</td>\n      <td>0</td>\n      <td>0</td>\n      <td>0</td>\n      <td>0</td>\n      <td>0</td>\n      <td>0</td>\n      <td>0</td>\n    </tr>\n    <tr>\n      <th>139378</th>\n      <td>0</td>\n      <td>0</td>\n      <td>0</td>\n      <td>0</td>\n      <td>0</td>\n      <td>0</td>\n      <td>0</td>\n      <td>0</td>\n      <td>0</td>\n      <td>0</td>\n      <td>...</td>\n      <td>0</td>\n      <td>0</td>\n      <td>0</td>\n      <td>0</td>\n      <td>0</td>\n      <td>0</td>\n      <td>0</td>\n      <td>0</td>\n      <td>0</td>\n      <td>0</td>\n    </tr>\n    <tr>\n      <th>18744</th>\n      <td>0</td>\n      <td>0</td>\n      <td>0</td>\n      <td>0</td>\n      <td>0</td>\n      <td>0</td>\n      <td>0</td>\n      <td>0</td>\n      <td>0</td>\n      <td>0</td>\n      <td>...</td>\n      <td>0</td>\n      <td>0</td>\n      <td>0</td>\n      <td>0</td>\n      <td>0</td>\n      <td>0</td>\n      <td>0</td>\n      <td>0</td>\n      <td>0</td>\n      <td>0</td>\n    </tr>\n    <tr>\n      <th>100360522</th>\n      <td>0</td>\n      <td>0</td>\n      <td>0</td>\n      <td>0</td>\n      <td>0</td>\n      <td>0</td>\n      <td>0</td>\n      <td>0</td>\n      <td>0</td>\n      <td>0</td>\n      <td>...</td>\n      <td>0</td>\n      <td>0</td>\n      <td>0</td>\n      <td>0</td>\n      <td>0</td>\n      <td>0</td>\n      <td>0</td>\n      <td>0</td>\n      <td>0</td>\n      <td>0</td>\n    </tr>\n  </tbody>\n</table>\n<p>22255 rows × 30 columns</p>\n</div>"
     },
     "metadata": {},
     "execution_count": 14
    }
   ],
   "source": [
    "pd.read_csv('data/all-proteins.csv', index_col=0)"
   ]
  },
  {
   "cell_type": "code",
   "execution_count": 31,
   "metadata": {},
   "outputs": [],
   "source": [
    "node_subject = pd.read_csv('data/binary-classes.csv', index_col=0)\n",
    "diseased = node_subject.iloc[:,0]"
   ]
  },
  {
   "cell_type": "code",
   "execution_count": 32,
   "metadata": {},
   "outputs": [
    {
     "output_type": "error",
     "ename": "NameError",
     "evalue": "name 'TSNE' is not defined",
     "traceback": [
      "\u001b[0;31m---------------------------------------------------------------------------\u001b[0m",
      "\u001b[0;31mNameError\u001b[0m                                 Traceback (most recent call last)",
      "\u001b[0;32m<ipython-input-32-d79e7b5be17e>\u001b[0m in \u001b[0;36m<module>\u001b[0;34m\u001b[0m\n\u001b[1;32m      6\u001b[0m \u001b[0mnode_targets\u001b[0m \u001b[0;34m=\u001b[0m \u001b[0mdiseased\u001b[0m\u001b[0;34m[\u001b[0m\u001b[0;34m[\u001b[0m\u001b[0mint\u001b[0m\u001b[0;34m(\u001b[0m\u001b[0mnode_id\u001b[0m\u001b[0;34m)\u001b[0m \u001b[0;32mfor\u001b[0m \u001b[0mnode_id\u001b[0m \u001b[0;32min\u001b[0m \u001b[0mnode_ids\u001b[0m\u001b[0;34m]\u001b[0m\u001b[0;34m]\u001b[0m\u001b[0;34m\u001b[0m\u001b[0;34m\u001b[0m\u001b[0m\n\u001b[1;32m      7\u001b[0m \u001b[0;31m# Apply t-SNE transformation on node embeddings\u001b[0m\u001b[0;34m\u001b[0m\u001b[0;34m\u001b[0m\u001b[0;34m\u001b[0m\u001b[0m\n\u001b[0;32m----> 8\u001b[0;31m \u001b[0mtsne\u001b[0m \u001b[0;34m=\u001b[0m \u001b[0mTSNE\u001b[0m\u001b[0;34m(\u001b[0m\u001b[0mn_components\u001b[0m\u001b[0;34m=\u001b[0m\u001b[0;36m2\u001b[0m\u001b[0;34m)\u001b[0m\u001b[0;34m\u001b[0m\u001b[0;34m\u001b[0m\u001b[0m\n\u001b[0m\u001b[1;32m      9\u001b[0m \u001b[0mnode_embeddings_2d\u001b[0m \u001b[0;34m=\u001b[0m \u001b[0mtsne\u001b[0m\u001b[0;34m.\u001b[0m\u001b[0mfit_transform\u001b[0m\u001b[0;34m(\u001b[0m\u001b[0mnode_embeddings\u001b[0m\u001b[0;34m)\u001b[0m\u001b[0;34m\u001b[0m\u001b[0;34m\u001b[0m\u001b[0m\n\u001b[1;32m     10\u001b[0m \u001b[0;31m# draw the points\u001b[0m\u001b[0;34m\u001b[0m\u001b[0;34m\u001b[0m\u001b[0;34m\u001b[0m\u001b[0m\n",
      "\u001b[0;31mNameError\u001b[0m: name 'TSNE' is not defined"
     ]
    }
   ],
   "source": [
    "# Retrieve node embeddings and corresponding subjects\n",
    "node_ids = model.wv.index2word  # list of node IDs\n",
    "node_embeddings = (\n",
    "    model.wv.vectors\n",
    ")  # numpy.ndarray of size number of nodes times embeddings dimensionality\n",
    "node_targets = diseased[[int(node_id) for node_id in node_ids]]\n",
    "# Apply t-SNE transformation on node embeddings\n",
    "tsne = TSNE(n_components=2)\n",
    "node_embeddings_2d = tsne.fit_transform(node_embeddings)\n",
    "# draw the points\n",
    "alpha = 0.7\n",
    "label_map = {l: i for i, l in enumerate(np.unique(node_targets))}\n",
    "node_colours = [label_map[target] for target in node_targets]\n",
    "\n",
    "plt.figure(figsize=(10, 8))\n",
    "plt.scatter(\n",
    "    node_embeddings_2d[:, 0],\n",
    "    node_embeddings_2d[:, 1],\n",
    "    c=node_colours,\n",
    "    cmap=\"jet\",\n",
    "    alpha=alpha,\n",
    ")"
   ]
  }
 ]
}