{
  "nbformat": 4,
  "nbformat_minor": 0,
  "metadata": {
    "colab": {
      "name": "subsampled motifs_dectection.ipynb",
      "provenance": [],
      "collapsed_sections": []
    },
    "kernelspec": {
      "display_name": "Python 3",
      "name": "python3"
    }
  },
  "cells": [
    {
      "cell_type": "code",
      "metadata": {
        "id": "Nk-Q8Ea4JtU0",
        "outputId": "748c6cc7-25af-4b30-9d0c-7bad1ea22da6",
        "colab": {
          "base_uri": "https://localhost:8080/"
        }
      },
      "source": [
        "!git clone https://github.com/arolihas/ppi-motifs.git\n",
        "!git clone https://github.com/benedekrozemberczki/OrbitalFeatures.git"
      ],
      "execution_count": null,
      "outputs": [
        {
          "output_type": "stream",
          "text": [
            "fatal: destination path 'ppi-motifs' already exists and is not an empty directory.\n",
            "fatal: destination path 'OrbitalFeatures' already exists and is not an empty directory.\n"
          ],
          "name": "stdout"
        }
      ]
    },
    {
      "cell_type": "code",
      "metadata": {
        "id": "20ru2j28Jzlt",
        "outputId": "6eae464a-813f-4304-c092-e780a461a1fe",
        "colab": {
          "base_uri": "https://localhost:8080/"
        }
      },
      "source": [
        "!pip install texttable\n",
        "!pip install python-igraph\n",
        "!pip install cairocffi"
      ],
      "execution_count": null,
      "outputs": [
        {
          "output_type": "stream",
          "text": [
            "Requirement already satisfied: texttable in /usr/local/lib/python3.6/dist-packages (1.6.3)\n",
            "Requirement already satisfied: python-igraph in /usr/local/lib/python3.6/dist-packages (0.8.3)\n",
            "Requirement already satisfied: texttable>=1.6.2 in /usr/local/lib/python3.6/dist-packages (from python-igraph) (1.6.3)\n",
            "Requirement already satisfied: cairocffi in /usr/local/lib/python3.6/dist-packages (1.2.0)\n",
            "Requirement already satisfied: cffi>=1.1.0 in /usr/local/lib/python3.6/dist-packages (from cairocffi) (1.14.3)\n",
            "Requirement already satisfied: pycparser in /usr/local/lib/python3.6/dist-packages (from cffi>=1.1.0->cairocffi) (2.20)\n"
          ],
          "name": "stdout"
        }
      ]
    },
    {
      "cell_type": "code",
      "metadata": {
        "id": "otj7xRWgJz00"
      },
      "source": [
        "import numpy as np\n",
        "import scipy.sparse as sp\n",
        "import networkx as nx\n",
        "import pandas as pd\n",
        "from texttable import Texttable\n",
        "from tqdm import tqdm\n",
        "from networkx.generators.atlas import *\n",
        "import igraph as ig\n",
        "from igraph import Graph\n",
        "from collections import defaultdict\n",
        "import cairocffi"
      ],
      "execution_count": null,
      "outputs": []
    },
    {
      "cell_type": "code",
      "metadata": {
        "id": "HE5HxulKJ0wQ"
      },
      "source": [
        "G = Graph.Read_GML('/content/ppi-motifs/networks/full-ppi')"
      ],
      "execution_count": null,
      "outputs": []
    },
    {
      "cell_type": "code",
      "metadata": {
        "id": "sPlg-6W0odww"
      },
      "source": [
        "class MotifCounter():\n",
        "\n",
        "    def __init__(self, graph, size, cut_prob):\n",
        "        self.graph = graph\n",
        "        self.size = size\n",
        "        self.motifDict = defaultdict(list)\n",
        "        self.cut_prob = cut_prob\n",
        "\n",
        "    def counter(self, graph, vertices, motif):\n",
        "        self.motifDict[motif].append(vertices)\n",
        "\n",
        "    def count(self):\n",
        "        Graph.motifs_randesu(self.graph, size=self.size, cut_prob=self.cut_prob, callback = self.counter)\n",
        "\n",
        "    def enumerate_categories(self):\n",
        "        main_index = 0\n",
        "        self.orbital_position = dict()\n",
        "        for index,key in enumerate(self.motifDict.keys()):\n",
        "            self.orbital_position[key] = dict()\n",
        "            degrees = set(Graph.Isoclass(self.size, key).degree())\n",
        "            for degree in degrees:\n",
        "                self.orbital_position[key][degree] = main_index\n",
        "                main_index = main_index + 1\n",
        "        self.unique_motif_count = main_index\n",
        "\n",
        "    def count_orbital_position(self):\n",
        "        self.features = {node['label']: {i:0 for i in range(self.unique_motif_count)} for node in self.graph.vs}\n",
        "        for size, node_lists in self.motifDict.items():\n",
        "            for nodes in tqdm(node_lists):\n",
        "                subgraph = self.graph.induced_subgraph(nodes, \"create_from_scratch\")\n",
        "                subgraph = subgraph.simplify()\n",
        "                degrees = subgraph.degree()\n",
        "                for idx, v in enumerate(subgraph.vs):\n",
        "                    degree = degrees[idx]\n",
        "                    position = self.orbital_position[size][degree]\n",
        "                    self.features[v['label']][position] += 1\n",
        "                    \n",
        "    def create_tabular_motifs(self):\n",
        "         self.motifs = [[n['label']]+[self.features[n['label']][i] for i in  range(self.unique_motif_count)] for n in self.graph.vs()]\n",
        "         self.motifs = pd.DataFrame(self.motifs)\n",
        "         self.motifs.columns = [\"id\"] + [\"role_\"+str(index) for index in range(self.unique_motif_count)]"
      ],
      "execution_count": null,
      "outputs": []
    },
    {
      "cell_type": "code",
      "metadata": {
        "id": "YHaa2I4vkMDK"
      },
      "source": [
        "model = MotifCounter(G, 3, [0.9,0.8,0.7])\n",
        "model.count()\n",
        "model.enumerate_categories()"
      ],
      "execution_count": null,
      "outputs": []
    },
    {
      "cell_type": "code",
      "metadata": {
        "id": "FuIjBEQW68fc",
        "outputId": "0ea00958-3937-420c-ef37-b784461976c1",
        "colab": {
          "base_uri": "https://localhost:8080/"
        }
      },
      "source": [
        "model.orbital_position"
      ],
      "execution_count": null,
      "outputs": [
        {
          "output_type": "execute_result",
          "data": {
            "text/plain": [
              "{2: {1: 1, 2: 2}, 3: {2: 0}}"
            ]
          },
          "metadata": {
            "tags": []
          },
          "execution_count": 138
        }
      ]
    },
    {
      "cell_type": "code",
      "metadata": {
        "id": "kMWzhsu4qyC6",
        "outputId": "47d1b6b7-2e96-44b8-966d-4a1ae9e5d162",
        "colab": {
          "base_uri": "https://localhost:8080/"
        }
      },
      "source": [
        "model.count_orbital_position()"
      ],
      "execution_count": null,
      "outputs": [
        {
          "output_type": "stream",
          "text": [
            "100%|██████████| 16020/16020 [00:00<00:00, 32817.68it/s]\n",
            "100%|██████████| 292766/292766 [00:08<00:00, 34699.76it/s]\n"
          ],
          "name": "stderr"
        }
      ]
    },
    {
      "cell_type": "code",
      "metadata": {
        "id": "y_qMH6GFujQU"
      },
      "source": [
        "model.create_tabular_motifs()"
      ],
      "execution_count": null,
      "outputs": []
    },
    {
      "cell_type": "code",
      "metadata": {
        "id": "IrtQMn4p7yHW",
        "outputId": "67175c59-a139-440d-f5e8-9a264802f1c6",
        "colab": {
          "base_uri": "https://localhost:8080/",
          "height": 406
        }
      },
      "source": [
        "model.motifs"
      ],
      "execution_count": null,
      "outputs": [
        {
          "output_type": "execute_result",
          "data": {
            "text/html": [
              "<div>\n",
              "<style scoped>\n",
              "    .dataframe tbody tr th:only-of-type {\n",
              "        vertical-align: middle;\n",
              "    }\n",
              "\n",
              "    .dataframe tbody tr th {\n",
              "        vertical-align: top;\n",
              "    }\n",
              "\n",
              "    .dataframe thead th {\n",
              "        text-align: right;\n",
              "    }\n",
              "</style>\n",
              "<table border=\"1\" class=\"dataframe\">\n",
              "  <thead>\n",
              "    <tr style=\"text-align: right;\">\n",
              "      <th></th>\n",
              "      <th>id</th>\n",
              "      <th>role_0</th>\n",
              "      <th>role_1</th>\n",
              "      <th>role_2</th>\n",
              "    </tr>\n",
              "  </thead>\n",
              "  <tbody>\n",
              "    <tr>\n",
              "      <th>0</th>\n",
              "      <td>1394</td>\n",
              "      <td>0</td>\n",
              "      <td>0</td>\n",
              "      <td>0</td>\n",
              "    </tr>\n",
              "    <tr>\n",
              "      <th>1</th>\n",
              "      <td>2778</td>\n",
              "      <td>0</td>\n",
              "      <td>0</td>\n",
              "      <td>0</td>\n",
              "    </tr>\n",
              "    <tr>\n",
              "      <th>2</th>\n",
              "      <td>6331</td>\n",
              "      <td>0</td>\n",
              "      <td>0</td>\n",
              "      <td>0</td>\n",
              "    </tr>\n",
              "    <tr>\n",
              "      <th>3</th>\n",
              "      <td>17999</td>\n",
              "      <td>0</td>\n",
              "      <td>0</td>\n",
              "      <td>0</td>\n",
              "    </tr>\n",
              "    <tr>\n",
              "      <th>4</th>\n",
              "      <td>122704</td>\n",
              "      <td>0</td>\n",
              "      <td>0</td>\n",
              "      <td>0</td>\n",
              "    </tr>\n",
              "    <tr>\n",
              "      <th>...</th>\n",
              "      <td>...</td>\n",
              "      <td>...</td>\n",
              "      <td>...</td>\n",
              "      <td>...</td>\n",
              "    </tr>\n",
              "    <tr>\n",
              "      <th>21552</th>\n",
              "      <td>19400</td>\n",
              "      <td>0</td>\n",
              "      <td>0</td>\n",
              "      <td>0</td>\n",
              "    </tr>\n",
              "    <tr>\n",
              "      <th>21553</th>\n",
              "      <td>81918</td>\n",
              "      <td>0</td>\n",
              "      <td>0</td>\n",
              "      <td>0</td>\n",
              "    </tr>\n",
              "    <tr>\n",
              "      <th>21554</th>\n",
              "      <td>139378</td>\n",
              "      <td>0</td>\n",
              "      <td>1</td>\n",
              "      <td>0</td>\n",
              "    </tr>\n",
              "    <tr>\n",
              "      <th>21555</th>\n",
              "      <td>18744</td>\n",
              "      <td>0</td>\n",
              "      <td>2</td>\n",
              "      <td>0</td>\n",
              "    </tr>\n",
              "    <tr>\n",
              "      <th>21556</th>\n",
              "      <td>100360522</td>\n",
              "      <td>0</td>\n",
              "      <td>0</td>\n",
              "      <td>0</td>\n",
              "    </tr>\n",
              "  </tbody>\n",
              "</table>\n",
              "<p>21557 rows × 4 columns</p>\n",
              "</div>"
            ],
            "text/plain": [
              "              id  role_0  role_1  role_2\n",
              "0           1394       0       0       0\n",
              "1           2778       0       0       0\n",
              "2           6331       0       0       0\n",
              "3          17999       0       0       0\n",
              "4         122704       0       0       0\n",
              "...          ...     ...     ...     ...\n",
              "21552      19400       0       0       0\n",
              "21553      81918       0       0       0\n",
              "21554     139378       0       1       0\n",
              "21555      18744       0       2       0\n",
              "21556  100360522       0       0       0\n",
              "\n",
              "[21557 rows x 4 columns]"
            ]
          },
          "metadata": {
            "tags": []
          },
          "execution_count": 141
        }
      ]
    },
    {
      "cell_type": "code",
      "metadata": {
        "id": "qiIQdwMW83ug"
      },
      "source": [
        ""
      ],
      "execution_count": null,
      "outputs": []
    }
  ]
}