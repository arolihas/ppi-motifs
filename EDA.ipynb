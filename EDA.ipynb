{
 "metadata": {
  "language_info": {
   "codemirror_mode": {
    "name": "ipython",
    "version": 3
   },
   "file_extension": ".py",
   "mimetype": "text/x-python",
   "name": "python",
   "nbconvert_exporter": "python",
   "pygments_lexer": "ipython3",
   "version": "3.8.3-final"
  },
  "orig_nbformat": 2,
  "kernelspec": {
   "name": "Python 3.8.3 64-bit",
   "display_name": "Python 3.8.3 64-bit",
   "metadata": {
    "interpreter": {
     "hash": "aee8b7b246df8f9039afb4144a1f6fd8d2ca17a180786b69acc140d282b71a49"
    }
   }
  }
 },
 "nbformat": 4,
 "nbformat_minor": 2,
 "cells": [
  {
   "cell_type": "code",
   "execution_count": 1,
   "metadata": {},
   "outputs": [],
   "source": [
    "import pandas as pd\n",
    "import numpy as np\n",
    "import networkx as nx\n",
    "from igraph import Graph"
   ]
  },
  {
   "cell_type": "code",
   "execution_count": 2,
   "metadata": {},
   "outputs": [],
   "source": [
    "associations = pd.read_csv('data/bio-pathways-associations.csv')\n",
    "classes = pd.read_csv('data/bio-pathways-diseaseclasses.csv')\n",
    "dmotifs = pd.read_csv('data/bio-pathways-diseasemotifs.csv')\n",
    "features = pd.read_csv('data/bio-pathways-features.csv')\n",
    "network = pd.read_csv('data/bio-pathways-network.csv')\n",
    "pmotifs = pd.read_csv('data/bio-pathways-proteinmotifs.csv')"
   ]
  },
  {
   "source": [
    "## Associations"
   ],
   "cell_type": "markdown",
   "metadata": {}
  },
  {
   "cell_type": "code",
   "execution_count": 3,
   "metadata": {},
   "outputs": [
    {
     "output_type": "execute_result",
     "data": {
      "text/plain": [
       "  Disease ID                  Disease Name  \\\n",
       "0   C0036095      Salivary Gland Neoplasms   \n",
       "1   C0033941  Psychoses, Substance-Induced   \n",
       "2   C0043459            Zellweger Syndrome   \n",
       "3   C0033860                     Psoriasis   \n",
       "4   C0027726            Nephrotic Syndrome   \n",
       "\n",
       "                                 Associated Gene IDs  \n",
       "0  1462, 1612, 182, 2011, 2019, 2175, 2195, 23209...  \n",
       "1  135, 1636, 207, 2099, 2912, 2950, 3350, 3362, ...  \n",
       "2  3295, 5189, 5190, 5192, 5193, 5194, 5195, 5567...  \n",
       "3  100271719, 10318, 10498, 10547, 10758, 10866, ...  \n",
       "4  1277, 1282, 1284, 2, 213, 2152, 2247, 2262, 29...  "
      ],
      "text/html": "<div>\n<style scoped>\n    .dataframe tbody tr th:only-of-type {\n        vertical-align: middle;\n    }\n\n    .dataframe tbody tr th {\n        vertical-align: top;\n    }\n\n    .dataframe thead th {\n        text-align: right;\n    }\n</style>\n<table border=\"1\" class=\"dataframe\">\n  <thead>\n    <tr style=\"text-align: right;\">\n      <th></th>\n      <th>Disease ID</th>\n      <th>Disease Name</th>\n      <th>Associated Gene IDs</th>\n    </tr>\n  </thead>\n  <tbody>\n    <tr>\n      <th>0</th>\n      <td>C0036095</td>\n      <td>Salivary Gland Neoplasms</td>\n      <td>1462, 1612, 182, 2011, 2019, 2175, 2195, 23209...</td>\n    </tr>\n    <tr>\n      <th>1</th>\n      <td>C0033941</td>\n      <td>Psychoses, Substance-Induced</td>\n      <td>135, 1636, 207, 2099, 2912, 2950, 3350, 3362, ...</td>\n    </tr>\n    <tr>\n      <th>2</th>\n      <td>C0043459</td>\n      <td>Zellweger Syndrome</td>\n      <td>3295, 5189, 5190, 5192, 5193, 5194, 5195, 5567...</td>\n    </tr>\n    <tr>\n      <th>3</th>\n      <td>C0033860</td>\n      <td>Psoriasis</td>\n      <td>100271719, 10318, 10498, 10547, 10758, 10866, ...</td>\n    </tr>\n    <tr>\n      <th>4</th>\n      <td>C0027726</td>\n      <td>Nephrotic Syndrome</td>\n      <td>1277, 1282, 1284, 2, 213, 2152, 2247, 2262, 29...</td>\n    </tr>\n  </tbody>\n</table>\n</div>"
     },
     "metadata": {},
     "execution_count": 3
    }
   ],
   "source": [
    "associations.head()"
   ]
  },
  {
   "cell_type": "code",
   "execution_count": 4,
   "metadata": {},
   "outputs": [
    {
     "output_type": "execute_result",
     "data": {
      "text/plain": [
       "       Disease ID                                       Disease Name  \\\n",
       "count         519                                                519   \n",
       "unique        519                                                519   \n",
       "top      C0243026  Early infantile epileptic encephalopathy with ...   \n",
       "freq            1                                                  1   \n",
       "\n",
       "                                      Associated Gene IDs  \n",
       "count                                                 519  \n",
       "unique                                                513  \n",
       "top     2253, 2619, 2736, 28514, 4838, 50937, 5727, 64...  \n",
       "freq                                                    4  "
      ],
      "text/html": "<div>\n<style scoped>\n    .dataframe tbody tr th:only-of-type {\n        vertical-align: middle;\n    }\n\n    .dataframe tbody tr th {\n        vertical-align: top;\n    }\n\n    .dataframe thead th {\n        text-align: right;\n    }\n</style>\n<table border=\"1\" class=\"dataframe\">\n  <thead>\n    <tr style=\"text-align: right;\">\n      <th></th>\n      <th>Disease ID</th>\n      <th>Disease Name</th>\n      <th>Associated Gene IDs</th>\n    </tr>\n  </thead>\n  <tbody>\n    <tr>\n      <th>count</th>\n      <td>519</td>\n      <td>519</td>\n      <td>519</td>\n    </tr>\n    <tr>\n      <th>unique</th>\n      <td>519</td>\n      <td>519</td>\n      <td>513</td>\n    </tr>\n    <tr>\n      <th>top</th>\n      <td>C0243026</td>\n      <td>Early infantile epileptic encephalopathy with ...</td>\n      <td>2253, 2619, 2736, 28514, 4838, 50937, 5727, 64...</td>\n    </tr>\n    <tr>\n      <th>freq</th>\n      <td>1</td>\n      <td>1</td>\n      <td>4</td>\n    </tr>\n  </tbody>\n</table>\n</div>"
     },
     "metadata": {},
     "execution_count": 4
    }
   ],
   "source": [
    "associations.describe()"
   ]
  },
  {
   "source": [
    "## Disease classes"
   ],
   "cell_type": "markdown",
   "metadata": {}
  },
  {
   "cell_type": "code",
   "execution_count": 5,
   "metadata": {},
   "outputs": [
    {
     "output_type": "execute_result",
     "data": {
      "text/plain": [
       "  Disease ID              Disease Name                  Disease Class\n",
       "0   C0023903           Liver neoplasms                         cancer\n",
       "1   C0018798  Congenital Heart Defects  cardiovascular system disease\n",
       "2   C0027051     Myocardial Infarction  cardiovascular system disease\n",
       "3   C0028754                   Obesity     acquired metabolic disease\n",
       "4   C0005138               Berylliosis     respiratory system disease"
      ],
      "text/html": "<div>\n<style scoped>\n    .dataframe tbody tr th:only-of-type {\n        vertical-align: middle;\n    }\n\n    .dataframe tbody tr th {\n        vertical-align: top;\n    }\n\n    .dataframe thead th {\n        text-align: right;\n    }\n</style>\n<table border=\"1\" class=\"dataframe\">\n  <thead>\n    <tr style=\"text-align: right;\">\n      <th></th>\n      <th>Disease ID</th>\n      <th>Disease Name</th>\n      <th>Disease Class</th>\n    </tr>\n  </thead>\n  <tbody>\n    <tr>\n      <th>0</th>\n      <td>C0023903</td>\n      <td>Liver neoplasms</td>\n      <td>cancer</td>\n    </tr>\n    <tr>\n      <th>1</th>\n      <td>C0018798</td>\n      <td>Congenital Heart Defects</td>\n      <td>cardiovascular system disease</td>\n    </tr>\n    <tr>\n      <th>2</th>\n      <td>C0027051</td>\n      <td>Myocardial Infarction</td>\n      <td>cardiovascular system disease</td>\n    </tr>\n    <tr>\n      <th>3</th>\n      <td>C0028754</td>\n      <td>Obesity</td>\n      <td>acquired metabolic disease</td>\n    </tr>\n    <tr>\n      <th>4</th>\n      <td>C0005138</td>\n      <td>Berylliosis</td>\n      <td>respiratory system disease</td>\n    </tr>\n  </tbody>\n</table>\n</div>"
     },
     "metadata": {},
     "execution_count": 5
    }
   ],
   "source": [
    "classes.head()"
   ]
  },
  {
   "cell_type": "code",
   "execution_count": 6,
   "metadata": {},
   "outputs": [
    {
     "output_type": "execute_result",
     "data": {
      "text/plain": [
       "       Disease ID Disease Name Disease Class\n",
       "count         300          300           300\n",
       "unique        300          300            30\n",
       "top      C0242383       Uremia        cancer\n",
       "freq            1            1            68"
      ],
      "text/html": "<div>\n<style scoped>\n    .dataframe tbody tr th:only-of-type {\n        vertical-align: middle;\n    }\n\n    .dataframe tbody tr th {\n        vertical-align: top;\n    }\n\n    .dataframe thead th {\n        text-align: right;\n    }\n</style>\n<table border=\"1\" class=\"dataframe\">\n  <thead>\n    <tr style=\"text-align: right;\">\n      <th></th>\n      <th>Disease ID</th>\n      <th>Disease Name</th>\n      <th>Disease Class</th>\n    </tr>\n  </thead>\n  <tbody>\n    <tr>\n      <th>count</th>\n      <td>300</td>\n      <td>300</td>\n      <td>300</td>\n    </tr>\n    <tr>\n      <th>unique</th>\n      <td>300</td>\n      <td>300</td>\n      <td>30</td>\n    </tr>\n    <tr>\n      <th>top</th>\n      <td>C0242383</td>\n      <td>Uremia</td>\n      <td>cancer</td>\n    </tr>\n    <tr>\n      <th>freq</th>\n      <td>1</td>\n      <td>1</td>\n      <td>68</td>\n    </tr>\n  </tbody>\n</table>\n</div>"
     },
     "metadata": {},
     "execution_count": 6
    }
   ],
   "source": [
    "classes.describe()"
   ]
  },
  {
   "source": [
    "## Disease motifs"
   ],
   "cell_type": "markdown",
   "metadata": {}
  },
  {
   "cell_type": "code",
   "execution_count": 7,
   "metadata": {},
   "outputs": [
    {
     "output_type": "execute_result",
     "data": {
      "text/plain": [
       "  Disease ID                  Disease Name  P-values for each orbit  \\\n",
       "0   C0036095      Salivary Gland Neoplasms                   0.2868   \n",
       "1   C0033941  Psychoses, Substance-Induced                   0.6732   \n",
       "2   C0043459            Zellweger Syndrome                   0.5018   \n",
       "3   C0033860                     Psoriasis                   0.0034   \n",
       "4   C0027726            Nephrotic Syndrome                   0.3848   \n",
       "\n",
       "   Unnamed: 3  Unnamed: 4  Unnamed: 5  Unnamed: 6  Unnamed: 7  Unnamed: 8  \\\n",
       "0      0.1406      1.0000      0.9996      0.1822      0.9994      0.2686   \n",
       "1      0.2918      0.9986      0.9854      0.4228      0.9984      0.0696   \n",
       "2      0.4802      0.7728      0.7928      0.2640      0.8392      0.4160   \n",
       "3      0.0000      0.9802      0.9884      0.0000      0.9894      0.0446   \n",
       "4      0.0756      1.0000      0.9894      0.1678      0.9984      0.3860   \n",
       "\n",
       "   Unnamed: 9  ...  Unnamed: 65  Unnamed: 66  Unnamed: 67  Unnamed: 68  \\\n",
       "0      0.9998  ...       0.9992       1.0000       0.9988       0.9978   \n",
       "1      0.9970  ...       0.9872       0.9862       0.9308       0.9812   \n",
       "2      0.7320  ...       0.7040       0.5930       0.8620       0.8434   \n",
       "3      0.9944  ...       0.9486       0.9218       0.9586       0.9618   \n",
       "4      0.9988  ...       0.9918       0.9834       0.9722       0.9866   \n",
       "\n",
       "   Unnamed: 69  Unnamed: 70  Unnamed: 71  Unnamed: 72  Unnamed: 73  \\\n",
       "0       0.9996       0.9998       1.0000       0.9908       0.9980   \n",
       "1       0.9788       0.9660       0.9962       0.9724       0.9730   \n",
       "2       0.8360       0.6456       0.0000       0.8376       0.9066   \n",
       "3       0.9618       0.8456       0.0000       0.8756       0.0000   \n",
       "4       0.9956       0.9940       0.9966       0.9492       0.9898   \n",
       "\n",
       "   Unnamed: 74  \n",
       "0       0.9944  \n",
       "1       0.9844  \n",
       "2       0.0000  \n",
       "3       0.0000  \n",
       "4       0.9720  \n",
       "\n",
       "[5 rows x 75 columns]"
      ],
      "text/html": "<div>\n<style scoped>\n    .dataframe tbody tr th:only-of-type {\n        vertical-align: middle;\n    }\n\n    .dataframe tbody tr th {\n        vertical-align: top;\n    }\n\n    .dataframe thead th {\n        text-align: right;\n    }\n</style>\n<table border=\"1\" class=\"dataframe\">\n  <thead>\n    <tr style=\"text-align: right;\">\n      <th></th>\n      <th>Disease ID</th>\n      <th>Disease Name</th>\n      <th>P-values for each orbit</th>\n      <th>Unnamed: 3</th>\n      <th>Unnamed: 4</th>\n      <th>Unnamed: 5</th>\n      <th>Unnamed: 6</th>\n      <th>Unnamed: 7</th>\n      <th>Unnamed: 8</th>\n      <th>Unnamed: 9</th>\n      <th>...</th>\n      <th>Unnamed: 65</th>\n      <th>Unnamed: 66</th>\n      <th>Unnamed: 67</th>\n      <th>Unnamed: 68</th>\n      <th>Unnamed: 69</th>\n      <th>Unnamed: 70</th>\n      <th>Unnamed: 71</th>\n      <th>Unnamed: 72</th>\n      <th>Unnamed: 73</th>\n      <th>Unnamed: 74</th>\n    </tr>\n  </thead>\n  <tbody>\n    <tr>\n      <th>0</th>\n      <td>C0036095</td>\n      <td>Salivary Gland Neoplasms</td>\n      <td>0.2868</td>\n      <td>0.1406</td>\n      <td>1.0000</td>\n      <td>0.9996</td>\n      <td>0.1822</td>\n      <td>0.9994</td>\n      <td>0.2686</td>\n      <td>0.9998</td>\n      <td>...</td>\n      <td>0.9992</td>\n      <td>1.0000</td>\n      <td>0.9988</td>\n      <td>0.9978</td>\n      <td>0.9996</td>\n      <td>0.9998</td>\n      <td>1.0000</td>\n      <td>0.9908</td>\n      <td>0.9980</td>\n      <td>0.9944</td>\n    </tr>\n    <tr>\n      <th>1</th>\n      <td>C0033941</td>\n      <td>Psychoses, Substance-Induced</td>\n      <td>0.6732</td>\n      <td>0.2918</td>\n      <td>0.9986</td>\n      <td>0.9854</td>\n      <td>0.4228</td>\n      <td>0.9984</td>\n      <td>0.0696</td>\n      <td>0.9970</td>\n      <td>...</td>\n      <td>0.9872</td>\n      <td>0.9862</td>\n      <td>0.9308</td>\n      <td>0.9812</td>\n      <td>0.9788</td>\n      <td>0.9660</td>\n      <td>0.9962</td>\n      <td>0.9724</td>\n      <td>0.9730</td>\n      <td>0.9844</td>\n    </tr>\n    <tr>\n      <th>2</th>\n      <td>C0043459</td>\n      <td>Zellweger Syndrome</td>\n      <td>0.5018</td>\n      <td>0.4802</td>\n      <td>0.7728</td>\n      <td>0.7928</td>\n      <td>0.2640</td>\n      <td>0.8392</td>\n      <td>0.4160</td>\n      <td>0.7320</td>\n      <td>...</td>\n      <td>0.7040</td>\n      <td>0.5930</td>\n      <td>0.8620</td>\n      <td>0.8434</td>\n      <td>0.8360</td>\n      <td>0.6456</td>\n      <td>0.0000</td>\n      <td>0.8376</td>\n      <td>0.9066</td>\n      <td>0.0000</td>\n    </tr>\n    <tr>\n      <th>3</th>\n      <td>C0033860</td>\n      <td>Psoriasis</td>\n      <td>0.0034</td>\n      <td>0.0000</td>\n      <td>0.9802</td>\n      <td>0.9884</td>\n      <td>0.0000</td>\n      <td>0.9894</td>\n      <td>0.0446</td>\n      <td>0.9944</td>\n      <td>...</td>\n      <td>0.9486</td>\n      <td>0.9218</td>\n      <td>0.9586</td>\n      <td>0.9618</td>\n      <td>0.9618</td>\n      <td>0.8456</td>\n      <td>0.0000</td>\n      <td>0.8756</td>\n      <td>0.0000</td>\n      <td>0.0000</td>\n    </tr>\n    <tr>\n      <th>4</th>\n      <td>C0027726</td>\n      <td>Nephrotic Syndrome</td>\n      <td>0.3848</td>\n      <td>0.0756</td>\n      <td>1.0000</td>\n      <td>0.9894</td>\n      <td>0.1678</td>\n      <td>0.9984</td>\n      <td>0.3860</td>\n      <td>0.9988</td>\n      <td>...</td>\n      <td>0.9918</td>\n      <td>0.9834</td>\n      <td>0.9722</td>\n      <td>0.9866</td>\n      <td>0.9956</td>\n      <td>0.9940</td>\n      <td>0.9966</td>\n      <td>0.9492</td>\n      <td>0.9898</td>\n      <td>0.9720</td>\n    </tr>\n  </tbody>\n</table>\n<p>5 rows × 75 columns</p>\n</div>"
     },
     "metadata": {},
     "execution_count": 7
    }
   ],
   "source": [
    "dmotifs.head()"
   ]
  },
  {
   "cell_type": "code",
   "execution_count": 8,
   "metadata": {},
   "outputs": [
    {
     "output_type": "execute_result",
     "data": {
      "text/plain": [
       "       P-values for each orbit  Unnamed: 3  Unnamed: 4  Unnamed: 5  \\\n",
       "count               519.000000  519.000000  519.000000  519.000000   \n",
       "mean                  0.390649    0.258887    0.902943    0.895556   \n",
       "std                   0.302447    0.271436    0.181507    0.187775   \n",
       "min                   0.000000    0.000000    0.000000    0.000000   \n",
       "25%                   0.130000    0.034200    0.885200    0.888200   \n",
       "50%                   0.335000    0.165600    0.982000    0.979600   \n",
       "75%                   0.620000    0.389600    0.999500    0.998800   \n",
       "max                   0.998200    0.983600    1.000000    1.000000   \n",
       "\n",
       "       Unnamed: 6  Unnamed: 7  Unnamed: 8  Unnamed: 9  Unnamed: 10  \\\n",
       "count  519.000000  519.000000  519.000000   519.00000   519.000000   \n",
       "mean     0.285543    0.896049    0.294663     0.90265     0.849971   \n",
       "std      0.271206    0.191393    0.249950     0.18890     0.216353   \n",
       "min      0.000000    0.000000    0.000000     0.00000     0.000000   \n",
       "25%      0.056900    0.878700    0.076300     0.90050     0.775800   \n",
       "50%      0.190800    0.987800    0.230000     0.98920     0.954800   \n",
       "75%      0.453400    0.999600    0.464600     0.99980     0.997800   \n",
       "max      0.982800    1.000000    0.978600     1.00000     1.000000   \n",
       "\n",
       "       Unnamed: 11  ...  Unnamed: 65  Unnamed: 66  Unnamed: 67  Unnamed: 68  \\\n",
       "count   519.000000  ...   519.000000   519.000000   519.000000   519.000000   \n",
       "mean      0.499053  ...     0.866909     0.860435     0.841662     0.831766   \n",
       "std       0.292587  ...     0.215899     0.238677     0.228640     0.299034   \n",
       "min       0.000000  ...     0.000000     0.000000     0.000000     0.000000   \n",
       "25%       0.262600  ...     0.818200     0.829300     0.775400     0.828700   \n",
       "50%       0.518000  ...     0.968800     0.969000     0.945000     0.964400   \n",
       "75%       0.746100  ...     0.999400     0.999700     0.996900     0.999600   \n",
       "max       0.994600  ...     1.000000     1.000000     1.000000     1.000000   \n",
       "\n",
       "       Unnamed: 69  Unnamed: 70  Unnamed: 71  Unnamed: 72  Unnamed: 73  \\\n",
       "count   519.000000   519.000000   519.000000   519.000000   519.000000   \n",
       "mean      0.797350     0.853201     0.549867     0.806204     0.656933   \n",
       "std       0.361448     0.257473     0.489598     0.328585     0.456462   \n",
       "min       0.000000     0.000000     0.000000     0.000000     0.000000   \n",
       "25%       0.861500     0.841800     0.000000     0.811800     0.000000   \n",
       "50%       0.979000     0.966400     0.949200     0.962600     0.959000   \n",
       "75%       0.999800     0.999600     0.999400     0.999000     0.999400   \n",
       "max       1.000000     1.000000     1.000000     1.000000     1.000000   \n",
       "\n",
       "       Unnamed: 74  \n",
       "count   519.000000  \n",
       "mean      0.548546  \n",
       "std       0.486747  \n",
       "min       0.000000  \n",
       "25%       0.000000  \n",
       "50%       0.923200  \n",
       "75%       0.998400  \n",
       "max       1.000000  \n",
       "\n",
       "[8 rows x 73 columns]"
      ],
      "text/html": "<div>\n<style scoped>\n    .dataframe tbody tr th:only-of-type {\n        vertical-align: middle;\n    }\n\n    .dataframe tbody tr th {\n        vertical-align: top;\n    }\n\n    .dataframe thead th {\n        text-align: right;\n    }\n</style>\n<table border=\"1\" class=\"dataframe\">\n  <thead>\n    <tr style=\"text-align: right;\">\n      <th></th>\n      <th>P-values for each orbit</th>\n      <th>Unnamed: 3</th>\n      <th>Unnamed: 4</th>\n      <th>Unnamed: 5</th>\n      <th>Unnamed: 6</th>\n      <th>Unnamed: 7</th>\n      <th>Unnamed: 8</th>\n      <th>Unnamed: 9</th>\n      <th>Unnamed: 10</th>\n      <th>Unnamed: 11</th>\n      <th>...</th>\n      <th>Unnamed: 65</th>\n      <th>Unnamed: 66</th>\n      <th>Unnamed: 67</th>\n      <th>Unnamed: 68</th>\n      <th>Unnamed: 69</th>\n      <th>Unnamed: 70</th>\n      <th>Unnamed: 71</th>\n      <th>Unnamed: 72</th>\n      <th>Unnamed: 73</th>\n      <th>Unnamed: 74</th>\n    </tr>\n  </thead>\n  <tbody>\n    <tr>\n      <th>count</th>\n      <td>519.000000</td>\n      <td>519.000000</td>\n      <td>519.000000</td>\n      <td>519.000000</td>\n      <td>519.000000</td>\n      <td>519.000000</td>\n      <td>519.000000</td>\n      <td>519.00000</td>\n      <td>519.000000</td>\n      <td>519.000000</td>\n      <td>...</td>\n      <td>519.000000</td>\n      <td>519.000000</td>\n      <td>519.000000</td>\n      <td>519.000000</td>\n      <td>519.000000</td>\n      <td>519.000000</td>\n      <td>519.000000</td>\n      <td>519.000000</td>\n      <td>519.000000</td>\n      <td>519.000000</td>\n    </tr>\n    <tr>\n      <th>mean</th>\n      <td>0.390649</td>\n      <td>0.258887</td>\n      <td>0.902943</td>\n      <td>0.895556</td>\n      <td>0.285543</td>\n      <td>0.896049</td>\n      <td>0.294663</td>\n      <td>0.90265</td>\n      <td>0.849971</td>\n      <td>0.499053</td>\n      <td>...</td>\n      <td>0.866909</td>\n      <td>0.860435</td>\n      <td>0.841662</td>\n      <td>0.831766</td>\n      <td>0.797350</td>\n      <td>0.853201</td>\n      <td>0.549867</td>\n      <td>0.806204</td>\n      <td>0.656933</td>\n      <td>0.548546</td>\n    </tr>\n    <tr>\n      <th>std</th>\n      <td>0.302447</td>\n      <td>0.271436</td>\n      <td>0.181507</td>\n      <td>0.187775</td>\n      <td>0.271206</td>\n      <td>0.191393</td>\n      <td>0.249950</td>\n      <td>0.18890</td>\n      <td>0.216353</td>\n      <td>0.292587</td>\n      <td>...</td>\n      <td>0.215899</td>\n      <td>0.238677</td>\n      <td>0.228640</td>\n      <td>0.299034</td>\n      <td>0.361448</td>\n      <td>0.257473</td>\n      <td>0.489598</td>\n      <td>0.328585</td>\n      <td>0.456462</td>\n      <td>0.486747</td>\n    </tr>\n    <tr>\n      <th>min</th>\n      <td>0.000000</td>\n      <td>0.000000</td>\n      <td>0.000000</td>\n      <td>0.000000</td>\n      <td>0.000000</td>\n      <td>0.000000</td>\n      <td>0.000000</td>\n      <td>0.00000</td>\n      <td>0.000000</td>\n      <td>0.000000</td>\n      <td>...</td>\n      <td>0.000000</td>\n      <td>0.000000</td>\n      <td>0.000000</td>\n      <td>0.000000</td>\n      <td>0.000000</td>\n      <td>0.000000</td>\n      <td>0.000000</td>\n      <td>0.000000</td>\n      <td>0.000000</td>\n      <td>0.000000</td>\n    </tr>\n    <tr>\n      <th>25%</th>\n      <td>0.130000</td>\n      <td>0.034200</td>\n      <td>0.885200</td>\n      <td>0.888200</td>\n      <td>0.056900</td>\n      <td>0.878700</td>\n      <td>0.076300</td>\n      <td>0.90050</td>\n      <td>0.775800</td>\n      <td>0.262600</td>\n      <td>...</td>\n      <td>0.818200</td>\n      <td>0.829300</td>\n      <td>0.775400</td>\n      <td>0.828700</td>\n      <td>0.861500</td>\n      <td>0.841800</td>\n      <td>0.000000</td>\n      <td>0.811800</td>\n      <td>0.000000</td>\n      <td>0.000000</td>\n    </tr>\n    <tr>\n      <th>50%</th>\n      <td>0.335000</td>\n      <td>0.165600</td>\n      <td>0.982000</td>\n      <td>0.979600</td>\n      <td>0.190800</td>\n      <td>0.987800</td>\n      <td>0.230000</td>\n      <td>0.98920</td>\n      <td>0.954800</td>\n      <td>0.518000</td>\n      <td>...</td>\n      <td>0.968800</td>\n      <td>0.969000</td>\n      <td>0.945000</td>\n      <td>0.964400</td>\n      <td>0.979000</td>\n      <td>0.966400</td>\n      <td>0.949200</td>\n      <td>0.962600</td>\n      <td>0.959000</td>\n      <td>0.923200</td>\n    </tr>\n    <tr>\n      <th>75%</th>\n      <td>0.620000</td>\n      <td>0.389600</td>\n      <td>0.999500</td>\n      <td>0.998800</td>\n      <td>0.453400</td>\n      <td>0.999600</td>\n      <td>0.464600</td>\n      <td>0.99980</td>\n      <td>0.997800</td>\n      <td>0.746100</td>\n      <td>...</td>\n      <td>0.999400</td>\n      <td>0.999700</td>\n      <td>0.996900</td>\n      <td>0.999600</td>\n      <td>0.999800</td>\n      <td>0.999600</td>\n      <td>0.999400</td>\n      <td>0.999000</td>\n      <td>0.999400</td>\n      <td>0.998400</td>\n    </tr>\n    <tr>\n      <th>max</th>\n      <td>0.998200</td>\n      <td>0.983600</td>\n      <td>1.000000</td>\n      <td>1.000000</td>\n      <td>0.982800</td>\n      <td>1.000000</td>\n      <td>0.978600</td>\n      <td>1.00000</td>\n      <td>1.000000</td>\n      <td>0.994600</td>\n      <td>...</td>\n      <td>1.000000</td>\n      <td>1.000000</td>\n      <td>1.000000</td>\n      <td>1.000000</td>\n      <td>1.000000</td>\n      <td>1.000000</td>\n      <td>1.000000</td>\n      <td>1.000000</td>\n      <td>1.000000</td>\n      <td>1.000000</td>\n    </tr>\n  </tbody>\n</table>\n<p>8 rows × 73 columns</p>\n</div>"
     },
     "metadata": {},
     "execution_count": 8
    }
   ],
   "source": [
    "dmotifs.describe()"
   ]
  },
  {
   "source": [
    "## Features"
   ],
   "cell_type": "markdown",
   "metadata": {}
  },
  {
   "cell_type": "code",
   "execution_count": 9,
   "metadata": {},
   "outputs": [
    {
     "output_type": "execute_result",
     "data": {
      "text/plain": [
       "  Disease ID                  Disease Name  Size of largest pathway component  \\\n",
       "0   C0036095      Salivary Gland Neoplasms                           0.088889   \n",
       "1   C0033941  Psychoses, Substance-Induced                           0.352941   \n",
       "2   C0043459            Zellweger Syndrome                           1.000000   \n",
       "3   C0033860                     Psoriasis                           0.250000   \n",
       "4   C0027726            Nephrotic Syndrome                           0.095238   \n",
       "\n",
       "   Density of pathway  Network Modularity  Distance of Pathway Components  \\\n",
       "0            0.019192           -0.006214                        2.925300   \n",
       "1            0.117647           -0.008137                        2.840909   \n",
       "2            0.352381           -0.001201                             NaN   \n",
       "3            0.018354           -0.013313                        3.008827   \n",
       "4            0.085714           -0.004027                        2.781046   \n",
       "\n",
       "   Spatial Network Association  \n",
       "0                     0.404333  \n",
       "1                     0.256645  \n",
       "2                     0.132935  \n",
       "3                     0.225171  \n",
       "4                     0.214739  "
      ],
      "text/html": "<div>\n<style scoped>\n    .dataframe tbody tr th:only-of-type {\n        vertical-align: middle;\n    }\n\n    .dataframe tbody tr th {\n        vertical-align: top;\n    }\n\n    .dataframe thead th {\n        text-align: right;\n    }\n</style>\n<table border=\"1\" class=\"dataframe\">\n  <thead>\n    <tr style=\"text-align: right;\">\n      <th></th>\n      <th>Disease ID</th>\n      <th>Disease Name</th>\n      <th>Size of largest pathway component</th>\n      <th>Density of pathway</th>\n      <th>Network Modularity</th>\n      <th>Distance of Pathway Components</th>\n      <th>Spatial Network Association</th>\n    </tr>\n  </thead>\n  <tbody>\n    <tr>\n      <th>0</th>\n      <td>C0036095</td>\n      <td>Salivary Gland Neoplasms</td>\n      <td>0.088889</td>\n      <td>0.019192</td>\n      <td>-0.006214</td>\n      <td>2.925300</td>\n      <td>0.404333</td>\n    </tr>\n    <tr>\n      <th>1</th>\n      <td>C0033941</td>\n      <td>Psychoses, Substance-Induced</td>\n      <td>0.352941</td>\n      <td>0.117647</td>\n      <td>-0.008137</td>\n      <td>2.840909</td>\n      <td>0.256645</td>\n    </tr>\n    <tr>\n      <th>2</th>\n      <td>C0043459</td>\n      <td>Zellweger Syndrome</td>\n      <td>1.000000</td>\n      <td>0.352381</td>\n      <td>-0.001201</td>\n      <td>NaN</td>\n      <td>0.132935</td>\n    </tr>\n    <tr>\n      <th>3</th>\n      <td>C0033860</td>\n      <td>Psoriasis</td>\n      <td>0.250000</td>\n      <td>0.018354</td>\n      <td>-0.013313</td>\n      <td>3.008827</td>\n      <td>0.225171</td>\n    </tr>\n    <tr>\n      <th>4</th>\n      <td>C0027726</td>\n      <td>Nephrotic Syndrome</td>\n      <td>0.095238</td>\n      <td>0.085714</td>\n      <td>-0.004027</td>\n      <td>2.781046</td>\n      <td>0.214739</td>\n    </tr>\n  </tbody>\n</table>\n</div>"
     },
     "metadata": {},
     "execution_count": 9
    }
   ],
   "source": [
    "features.head()"
   ]
  },
  {
   "cell_type": "code",
   "execution_count": 10,
   "metadata": {},
   "outputs": [
    {
     "output_type": "execute_result",
     "data": {
      "text/plain": [
       "       Size of largest pathway component  Density of pathway  \\\n",
       "count                         519.000000          519.000000   \n",
       "mean                            0.284809            0.085650   \n",
       "std                             0.209658            0.079820   \n",
       "min                             0.023256            0.000000   \n",
       "25%                             0.125000            0.032195   \n",
       "50%                             0.207547            0.066667   \n",
       "75%                             0.400893            0.111111   \n",
       "max                             1.000000            0.683333   \n",
       "\n",
       "       Network Modularity  Distance of Pathway Components  \\\n",
       "count          519.000000                      514.000000   \n",
       "mean            -0.007971                        2.911952   \n",
       "std              0.011424                        0.255577   \n",
       "min             -0.105434                        2.000000   \n",
       "25%             -0.009337                        2.761905   \n",
       "50%             -0.004027                        2.933333   \n",
       "75%             -0.001726                        3.080912   \n",
       "max             -0.000195                        3.529762   \n",
       "\n",
       "       Spatial Network Association  \n",
       "count                 5.190000e+02  \n",
       "mean                  4.421181e-01  \n",
       "std                   3.238618e-01  \n",
       "min                   4.710000e-09  \n",
       "25%                   1.586132e-01  \n",
       "50%                   3.680776e-01  \n",
       "75%                   7.415754e-01  \n",
       "max                   1.000000e+00  "
      ],
      "text/html": "<div>\n<style scoped>\n    .dataframe tbody tr th:only-of-type {\n        vertical-align: middle;\n    }\n\n    .dataframe tbody tr th {\n        vertical-align: top;\n    }\n\n    .dataframe thead th {\n        text-align: right;\n    }\n</style>\n<table border=\"1\" class=\"dataframe\">\n  <thead>\n    <tr style=\"text-align: right;\">\n      <th></th>\n      <th>Size of largest pathway component</th>\n      <th>Density of pathway</th>\n      <th>Network Modularity</th>\n      <th>Distance of Pathway Components</th>\n      <th>Spatial Network Association</th>\n    </tr>\n  </thead>\n  <tbody>\n    <tr>\n      <th>count</th>\n      <td>519.000000</td>\n      <td>519.000000</td>\n      <td>519.000000</td>\n      <td>514.000000</td>\n      <td>5.190000e+02</td>\n    </tr>\n    <tr>\n      <th>mean</th>\n      <td>0.284809</td>\n      <td>0.085650</td>\n      <td>-0.007971</td>\n      <td>2.911952</td>\n      <td>4.421181e-01</td>\n    </tr>\n    <tr>\n      <th>std</th>\n      <td>0.209658</td>\n      <td>0.079820</td>\n      <td>0.011424</td>\n      <td>0.255577</td>\n      <td>3.238618e-01</td>\n    </tr>\n    <tr>\n      <th>min</th>\n      <td>0.023256</td>\n      <td>0.000000</td>\n      <td>-0.105434</td>\n      <td>2.000000</td>\n      <td>4.710000e-09</td>\n    </tr>\n    <tr>\n      <th>25%</th>\n      <td>0.125000</td>\n      <td>0.032195</td>\n      <td>-0.009337</td>\n      <td>2.761905</td>\n      <td>1.586132e-01</td>\n    </tr>\n    <tr>\n      <th>50%</th>\n      <td>0.207547</td>\n      <td>0.066667</td>\n      <td>-0.004027</td>\n      <td>2.933333</td>\n      <td>3.680776e-01</td>\n    </tr>\n    <tr>\n      <th>75%</th>\n      <td>0.400893</td>\n      <td>0.111111</td>\n      <td>-0.001726</td>\n      <td>3.080912</td>\n      <td>7.415754e-01</td>\n    </tr>\n    <tr>\n      <th>max</th>\n      <td>1.000000</td>\n      <td>0.683333</td>\n      <td>-0.000195</td>\n      <td>3.529762</td>\n      <td>1.000000e+00</td>\n    </tr>\n  </tbody>\n</table>\n</div>"
     },
     "metadata": {},
     "execution_count": 10
    }
   ],
   "source": [
    "features.describe()"
   ]
  },
  {
   "source": [
    "## PPI Network"
   ],
   "cell_type": "markdown",
   "metadata": {}
  },
  {
   "cell_type": "code",
   "execution_count": 11,
   "metadata": {},
   "outputs": [
    {
     "output_type": "execute_result",
     "data": {
      "text/plain": [
       "   Gene ID 1  Gene ID 2\n",
       "0       1394       2778\n",
       "1       6331      17999\n",
       "2     122704      54460\n",
       "3       2597       2911\n",
       "4       4790      79155"
      ],
      "text/html": "<div>\n<style scoped>\n    .dataframe tbody tr th:only-of-type {\n        vertical-align: middle;\n    }\n\n    .dataframe tbody tr th {\n        vertical-align: top;\n    }\n\n    .dataframe thead th {\n        text-align: right;\n    }\n</style>\n<table border=\"1\" class=\"dataframe\">\n  <thead>\n    <tr style=\"text-align: right;\">\n      <th></th>\n      <th>Gene ID 1</th>\n      <th>Gene ID 2</th>\n    </tr>\n  </thead>\n  <tbody>\n    <tr>\n      <th>0</th>\n      <td>1394</td>\n      <td>2778</td>\n    </tr>\n    <tr>\n      <th>1</th>\n      <td>6331</td>\n      <td>17999</td>\n    </tr>\n    <tr>\n      <th>2</th>\n      <td>122704</td>\n      <td>54460</td>\n    </tr>\n    <tr>\n      <th>3</th>\n      <td>2597</td>\n      <td>2911</td>\n    </tr>\n    <tr>\n      <th>4</th>\n      <td>4790</td>\n      <td>79155</td>\n    </tr>\n  </tbody>\n</table>\n</div>"
     },
     "metadata": {},
     "execution_count": 11
    }
   ],
   "source": [
    "network.head()"
   ]
  },
  {
   "cell_type": "code",
   "execution_count": 12,
   "metadata": {},
   "outputs": [],
   "source": [
    "graph = nx.from_pandas_edgelist(network, 'Gene ID 1', 'Gene ID 2')"
   ]
  },
  {
   "cell_type": "code",
   "execution_count": 13,
   "metadata": {},
   "outputs": [
    {
     "output_type": "execute_result",
     "data": {
      "text/plain": [
       "'Name: \\nType: Graph\\nNumber of nodes: 21557\\nNumber of edges: 342353\\nAverage degree:  31.7626'"
      ]
     },
     "metadata": {},
     "execution_count": 13
    }
   ],
   "source": [
    "nx.info(graph)"
   ]
  },
  {
   "cell_type": "code",
   "execution_count": null,
   "metadata": {},
   "outputs": [],
   "source": [
    "ppi = Graph.from_networkx(graph)"
   ]
  },
  {
   "cell_type": "code",
   "execution_count": null,
   "metadata": {},
   "outputs": [],
   "source": []
  },
  {
   "source": [
    "## Protein motifs"
   ],
   "cell_type": "markdown",
   "metadata": {}
  },
  {
   "cell_type": "code",
   "execution_count": 8,
   "metadata": {},
   "outputs": [
    {
     "output_type": "execute_result",
     "data": {
      "text/plain": [
       "   Gene ID  Orbit Signature  Unnamed: 2  Unnamed: 3  Unnamed: 4  Unnamed: 5  \\\n",
       "0        1               12        1925          65           1      228182   \n",
       "1       10               24        4723         259          17      453121   \n",
       "2      100               32        5186         478          18      585573   \n",
       "3     1000               78       11189        2790         213     1332626   \n",
       "4    10000               76       11270        2624         226     1542635   \n",
       "\n",
       "   Unnamed: 6  Unnamed: 7  Unnamed: 8  Unnamed: 9  ...  Unnamed: 64  \\\n",
       "0       19497      280706         210         596  ...          142   \n",
       "1       95381     2467189        1678        1249  ...          279   \n",
       "2      141129     1444972        4449        2201  ...          656   \n",
       "3      694166     3827388       62206       10013  ...        15341   \n",
       "4      689984     1626042       55589       19746  ...        42472   \n",
       "\n",
       "   Unnamed: 65  Unnamed: 66  Unnamed: 67  Unnamed: 68  Unnamed: 69  \\\n",
       "0            0          120            0            0            0   \n",
       "1          244         1021           28            3           54   \n",
       "2          454        22088          553            8          301   \n",
       "3         9178       224983        17453         3911         5949   \n",
       "4        17290        25317        11970         2960        10240   \n",
       "\n",
       "   Unnamed: 70  Unnamed: 71  Unnamed: 72  Unnamed: 73  \n",
       "0            0            0            0            0  \n",
       "1            1            1            0            0  \n",
       "2            1          169            1            0  \n",
       "3          200         5929          552           96  \n",
       "4          366         1706          359           43  \n",
       "\n",
       "[5 rows x 74 columns]"
      ],
      "text/html": "<div>\n<style scoped>\n    .dataframe tbody tr th:only-of-type {\n        vertical-align: middle;\n    }\n\n    .dataframe tbody tr th {\n        vertical-align: top;\n    }\n\n    .dataframe thead th {\n        text-align: right;\n    }\n</style>\n<table border=\"1\" class=\"dataframe\">\n  <thead>\n    <tr style=\"text-align: right;\">\n      <th></th>\n      <th>Gene ID</th>\n      <th>Orbit Signature</th>\n      <th>Unnamed: 2</th>\n      <th>Unnamed: 3</th>\n      <th>Unnamed: 4</th>\n      <th>Unnamed: 5</th>\n      <th>Unnamed: 6</th>\n      <th>Unnamed: 7</th>\n      <th>Unnamed: 8</th>\n      <th>Unnamed: 9</th>\n      <th>...</th>\n      <th>Unnamed: 64</th>\n      <th>Unnamed: 65</th>\n      <th>Unnamed: 66</th>\n      <th>Unnamed: 67</th>\n      <th>Unnamed: 68</th>\n      <th>Unnamed: 69</th>\n      <th>Unnamed: 70</th>\n      <th>Unnamed: 71</th>\n      <th>Unnamed: 72</th>\n      <th>Unnamed: 73</th>\n    </tr>\n  </thead>\n  <tbody>\n    <tr>\n      <th>0</th>\n      <td>1</td>\n      <td>12</td>\n      <td>1925</td>\n      <td>65</td>\n      <td>1</td>\n      <td>228182</td>\n      <td>19497</td>\n      <td>280706</td>\n      <td>210</td>\n      <td>596</td>\n      <td>...</td>\n      <td>142</td>\n      <td>0</td>\n      <td>120</td>\n      <td>0</td>\n      <td>0</td>\n      <td>0</td>\n      <td>0</td>\n      <td>0</td>\n      <td>0</td>\n      <td>0</td>\n    </tr>\n    <tr>\n      <th>1</th>\n      <td>10</td>\n      <td>24</td>\n      <td>4723</td>\n      <td>259</td>\n      <td>17</td>\n      <td>453121</td>\n      <td>95381</td>\n      <td>2467189</td>\n      <td>1678</td>\n      <td>1249</td>\n      <td>...</td>\n      <td>279</td>\n      <td>244</td>\n      <td>1021</td>\n      <td>28</td>\n      <td>3</td>\n      <td>54</td>\n      <td>1</td>\n      <td>1</td>\n      <td>0</td>\n      <td>0</td>\n    </tr>\n    <tr>\n      <th>2</th>\n      <td>100</td>\n      <td>32</td>\n      <td>5186</td>\n      <td>478</td>\n      <td>18</td>\n      <td>585573</td>\n      <td>141129</td>\n      <td>1444972</td>\n      <td>4449</td>\n      <td>2201</td>\n      <td>...</td>\n      <td>656</td>\n      <td>454</td>\n      <td>22088</td>\n      <td>553</td>\n      <td>8</td>\n      <td>301</td>\n      <td>1</td>\n      <td>169</td>\n      <td>1</td>\n      <td>0</td>\n    </tr>\n    <tr>\n      <th>3</th>\n      <td>1000</td>\n      <td>78</td>\n      <td>11189</td>\n      <td>2790</td>\n      <td>213</td>\n      <td>1332626</td>\n      <td>694166</td>\n      <td>3827388</td>\n      <td>62206</td>\n      <td>10013</td>\n      <td>...</td>\n      <td>15341</td>\n      <td>9178</td>\n      <td>224983</td>\n      <td>17453</td>\n      <td>3911</td>\n      <td>5949</td>\n      <td>200</td>\n      <td>5929</td>\n      <td>552</td>\n      <td>96</td>\n    </tr>\n    <tr>\n      <th>4</th>\n      <td>10000</td>\n      <td>76</td>\n      <td>11270</td>\n      <td>2624</td>\n      <td>226</td>\n      <td>1542635</td>\n      <td>689984</td>\n      <td>1626042</td>\n      <td>55589</td>\n      <td>19746</td>\n      <td>...</td>\n      <td>42472</td>\n      <td>17290</td>\n      <td>25317</td>\n      <td>11970</td>\n      <td>2960</td>\n      <td>10240</td>\n      <td>366</td>\n      <td>1706</td>\n      <td>359</td>\n      <td>43</td>\n    </tr>\n  </tbody>\n</table>\n<p>5 rows × 74 columns</p>\n</div>"
     },
     "metadata": {},
     "execution_count": 8
    }
   ],
   "source": [
    "pmotifs.head()"
   ]
  },
  {
   "cell_type": "code",
   "execution_count": 18,
   "metadata": {},
   "outputs": [
    {
     "output_type": "execute_result",
     "data": {
      "text/plain": [
       "            Gene ID  Orbit Signature     Unnamed: 2    Unnamed: 3  \\\n",
       "count  2.255200e+04     22552.000000   22552.000000  2.255200e+04   \n",
       "mean   2.582002e+06        30.031571    4719.528201  2.359764e+03   \n",
       "std    1.547417e+07        66.969864    8662.697806  2.891876e+04   \n",
       "min    1.000000e+00         0.000000       0.000000  0.000000e+00   \n",
       "25%    8.534750e+03         2.000000     338.750000  0.000000e+00   \n",
       "50%    5.382850e+04         9.000000    1644.000000  2.800000e+01   \n",
       "75%    1.335645e+05        30.000000    5130.500000  3.820000e+02   \n",
       "max    1.028003e+08      2130.000000  128448.000000  2.255358e+06   \n",
       "\n",
       "         Unnamed: 4    Unnamed: 5    Unnamed: 6    Unnamed: 7    Unnamed: 8  \\\n",
       "count  22552.000000  2.255200e+04  2.255200e+04  2.255200e+04  2.255200e+04   \n",
       "mean     318.549663  5.197298e+05  5.197298e+05  1.305885e+06  4.352951e+05   \n",
       "std     1731.550422  9.626748e+05  3.913586e+06  2.054682e+06  1.626372e+07   \n",
       "min        0.000000  0.000000e+00  0.000000e+00  0.000000e+00  0.000000e+00   \n",
       "25%        0.000000  3.737325e+04  0.000000e+00  3.038100e+04  0.000000e+00   \n",
       "50%        3.000000  1.534095e+05  8.179500e+03  2.945340e+05  5.000000e+01   \n",
       "75%       44.000000  5.413622e+05  1.123032e+05  1.921222e+06  2.833250e+03   \n",
       "max    40639.000000  1.119295e+07  2.337301e+08  1.608145e+07  1.583236e+09   \n",
       "\n",
       "         Unnamed: 9  ...   Unnamed: 64   Unnamed: 65   Unnamed: 66  \\\n",
       "count  2.255200e+04  ...  2.255200e+04  2.255200e+04  2.255200e+04   \n",
       "mean   9.157916e+03  ...  6.815916e+04  6.815916e+04  1.575168e+05   \n",
       "std    5.126846e+04  ...  7.065086e+05  5.278503e+05  8.627215e+05   \n",
       "min    0.000000e+00  ...  0.000000e+00  0.000000e+00  0.000000e+00   \n",
       "25%    0.000000e+00  ...  0.000000e+00  0.000000e+00  0.000000e+00   \n",
       "50%    1.330000e+02  ...  9.000000e+00  1.000000e+00  1.210000e+02   \n",
       "75%    2.105000e+03  ...  1.077000e+03  9.952500e+02  1.054600e+04   \n",
       "max    2.652566e+06  ...  4.524413e+07  1.281856e+07  1.305796e+07   \n",
       "\n",
       "        Unnamed: 67   Unnamed: 68   Unnamed: 69   Unnamed: 70   Unnamed: 71  \\\n",
       "count  2.255200e+04  2.255200e+04  2.255200e+04  2.255200e+04  2.255200e+04   \n",
       "mean   3.150336e+05  3.150336e+05  3.787604e+04  9.469010e+03  7.943411e+04   \n",
       "std    2.240956e+06  3.644778e+06  2.972057e+05  1.159768e+05  5.880818e+05   \n",
       "min    0.000000e+00  0.000000e+00  0.000000e+00  0.000000e+00  0.000000e+00   \n",
       "25%    0.000000e+00  0.000000e+00  0.000000e+00  0.000000e+00  0.000000e+00   \n",
       "50%    0.000000e+00  0.000000e+00  0.000000e+00  0.000000e+00  0.000000e+00   \n",
       "75%    1.725250e+03  1.030000e+02  4.530000e+02  5.000000e+00  3.180000e+02   \n",
       "max    3.315589e+07  1.193462e+08  1.148420e+07  4.502431e+06  1.318002e+07   \n",
       "\n",
       "        Unnamed: 72   Unnamed: 73  \n",
       "count  2.255200e+04  2.255200e+04  \n",
       "mean   1.191512e+05  1.596120e+05  \n",
       "std    1.358247e+06  1.338064e+06  \n",
       "min    0.000000e+00  0.000000e+00  \n",
       "25%    0.000000e+00  0.000000e+00  \n",
       "50%    0.000000e+00  0.000000e+00  \n",
       "75%    2.800000e+01  9.000000e+00  \n",
       "max    3.436924e+07  2.731577e+07  \n",
       "\n",
       "[8 rows x 74 columns]"
      ],
      "text/html": "<div>\n<style scoped>\n    .dataframe tbody tr th:only-of-type {\n        vertical-align: middle;\n    }\n\n    .dataframe tbody tr th {\n        vertical-align: top;\n    }\n\n    .dataframe thead th {\n        text-align: right;\n    }\n</style>\n<table border=\"1\" class=\"dataframe\">\n  <thead>\n    <tr style=\"text-align: right;\">\n      <th></th>\n      <th>Gene ID</th>\n      <th>Orbit Signature</th>\n      <th>Unnamed: 2</th>\n      <th>Unnamed: 3</th>\n      <th>Unnamed: 4</th>\n      <th>Unnamed: 5</th>\n      <th>Unnamed: 6</th>\n      <th>Unnamed: 7</th>\n      <th>Unnamed: 8</th>\n      <th>Unnamed: 9</th>\n      <th>...</th>\n      <th>Unnamed: 64</th>\n      <th>Unnamed: 65</th>\n      <th>Unnamed: 66</th>\n      <th>Unnamed: 67</th>\n      <th>Unnamed: 68</th>\n      <th>Unnamed: 69</th>\n      <th>Unnamed: 70</th>\n      <th>Unnamed: 71</th>\n      <th>Unnamed: 72</th>\n      <th>Unnamed: 73</th>\n    </tr>\n  </thead>\n  <tbody>\n    <tr>\n      <th>count</th>\n      <td>2.255200e+04</td>\n      <td>22552.000000</td>\n      <td>22552.000000</td>\n      <td>2.255200e+04</td>\n      <td>22552.000000</td>\n      <td>2.255200e+04</td>\n      <td>2.255200e+04</td>\n      <td>2.255200e+04</td>\n      <td>2.255200e+04</td>\n      <td>2.255200e+04</td>\n      <td>...</td>\n      <td>2.255200e+04</td>\n      <td>2.255200e+04</td>\n      <td>2.255200e+04</td>\n      <td>2.255200e+04</td>\n      <td>2.255200e+04</td>\n      <td>2.255200e+04</td>\n      <td>2.255200e+04</td>\n      <td>2.255200e+04</td>\n      <td>2.255200e+04</td>\n      <td>2.255200e+04</td>\n    </tr>\n    <tr>\n      <th>mean</th>\n      <td>2.582002e+06</td>\n      <td>30.031571</td>\n      <td>4719.528201</td>\n      <td>2.359764e+03</td>\n      <td>318.549663</td>\n      <td>5.197298e+05</td>\n      <td>5.197298e+05</td>\n      <td>1.305885e+06</td>\n      <td>4.352951e+05</td>\n      <td>9.157916e+03</td>\n      <td>...</td>\n      <td>6.815916e+04</td>\n      <td>6.815916e+04</td>\n      <td>1.575168e+05</td>\n      <td>3.150336e+05</td>\n      <td>3.150336e+05</td>\n      <td>3.787604e+04</td>\n      <td>9.469010e+03</td>\n      <td>7.943411e+04</td>\n      <td>1.191512e+05</td>\n      <td>1.596120e+05</td>\n    </tr>\n    <tr>\n      <th>std</th>\n      <td>1.547417e+07</td>\n      <td>66.969864</td>\n      <td>8662.697806</td>\n      <td>2.891876e+04</td>\n      <td>1731.550422</td>\n      <td>9.626748e+05</td>\n      <td>3.913586e+06</td>\n      <td>2.054682e+06</td>\n      <td>1.626372e+07</td>\n      <td>5.126846e+04</td>\n      <td>...</td>\n      <td>7.065086e+05</td>\n      <td>5.278503e+05</td>\n      <td>8.627215e+05</td>\n      <td>2.240956e+06</td>\n      <td>3.644778e+06</td>\n      <td>2.972057e+05</td>\n      <td>1.159768e+05</td>\n      <td>5.880818e+05</td>\n      <td>1.358247e+06</td>\n      <td>1.338064e+06</td>\n    </tr>\n    <tr>\n      <th>min</th>\n      <td>1.000000e+00</td>\n      <td>0.000000</td>\n      <td>0.000000</td>\n      <td>0.000000e+00</td>\n      <td>0.000000</td>\n      <td>0.000000e+00</td>\n      <td>0.000000e+00</td>\n      <td>0.000000e+00</td>\n      <td>0.000000e+00</td>\n      <td>0.000000e+00</td>\n      <td>...</td>\n      <td>0.000000e+00</td>\n      <td>0.000000e+00</td>\n      <td>0.000000e+00</td>\n      <td>0.000000e+00</td>\n      <td>0.000000e+00</td>\n      <td>0.000000e+00</td>\n      <td>0.000000e+00</td>\n      <td>0.000000e+00</td>\n      <td>0.000000e+00</td>\n      <td>0.000000e+00</td>\n    </tr>\n    <tr>\n      <th>25%</th>\n      <td>8.534750e+03</td>\n      <td>2.000000</td>\n      <td>338.750000</td>\n      <td>0.000000e+00</td>\n      <td>0.000000</td>\n      <td>3.737325e+04</td>\n      <td>0.000000e+00</td>\n      <td>3.038100e+04</td>\n      <td>0.000000e+00</td>\n      <td>0.000000e+00</td>\n      <td>...</td>\n      <td>0.000000e+00</td>\n      <td>0.000000e+00</td>\n      <td>0.000000e+00</td>\n      <td>0.000000e+00</td>\n      <td>0.000000e+00</td>\n      <td>0.000000e+00</td>\n      <td>0.000000e+00</td>\n      <td>0.000000e+00</td>\n      <td>0.000000e+00</td>\n      <td>0.000000e+00</td>\n    </tr>\n    <tr>\n      <th>50%</th>\n      <td>5.382850e+04</td>\n      <td>9.000000</td>\n      <td>1644.000000</td>\n      <td>2.800000e+01</td>\n      <td>3.000000</td>\n      <td>1.534095e+05</td>\n      <td>8.179500e+03</td>\n      <td>2.945340e+05</td>\n      <td>5.000000e+01</td>\n      <td>1.330000e+02</td>\n      <td>...</td>\n      <td>9.000000e+00</td>\n      <td>1.000000e+00</td>\n      <td>1.210000e+02</td>\n      <td>0.000000e+00</td>\n      <td>0.000000e+00</td>\n      <td>0.000000e+00</td>\n      <td>0.000000e+00</td>\n      <td>0.000000e+00</td>\n      <td>0.000000e+00</td>\n      <td>0.000000e+00</td>\n    </tr>\n    <tr>\n      <th>75%</th>\n      <td>1.335645e+05</td>\n      <td>30.000000</td>\n      <td>5130.500000</td>\n      <td>3.820000e+02</td>\n      <td>44.000000</td>\n      <td>5.413622e+05</td>\n      <td>1.123032e+05</td>\n      <td>1.921222e+06</td>\n      <td>2.833250e+03</td>\n      <td>2.105000e+03</td>\n      <td>...</td>\n      <td>1.077000e+03</td>\n      <td>9.952500e+02</td>\n      <td>1.054600e+04</td>\n      <td>1.725250e+03</td>\n      <td>1.030000e+02</td>\n      <td>4.530000e+02</td>\n      <td>5.000000e+00</td>\n      <td>3.180000e+02</td>\n      <td>2.800000e+01</td>\n      <td>9.000000e+00</td>\n    </tr>\n    <tr>\n      <th>max</th>\n      <td>1.028003e+08</td>\n      <td>2130.000000</td>\n      <td>128448.000000</td>\n      <td>2.255358e+06</td>\n      <td>40639.000000</td>\n      <td>1.119295e+07</td>\n      <td>2.337301e+08</td>\n      <td>1.608145e+07</td>\n      <td>1.583236e+09</td>\n      <td>2.652566e+06</td>\n      <td>...</td>\n      <td>4.524413e+07</td>\n      <td>1.281856e+07</td>\n      <td>1.305796e+07</td>\n      <td>3.315589e+07</td>\n      <td>1.193462e+08</td>\n      <td>1.148420e+07</td>\n      <td>4.502431e+06</td>\n      <td>1.318002e+07</td>\n      <td>3.436924e+07</td>\n      <td>2.731577e+07</td>\n    </tr>\n  </tbody>\n</table>\n<p>8 rows × 74 columns</p>\n</div>"
     },
     "metadata": {},
     "execution_count": 18
    }
   ],
   "source": [
    "pmotifs.describe()"
   ]
  }
 ]
}