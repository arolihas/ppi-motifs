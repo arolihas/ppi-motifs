{
 "metadata": {
  "language_info": {
   "codemirror_mode": {
    "name": "ipython",
    "version": 3
   },
   "file_extension": ".py",
   "mimetype": "text/x-python",
   "name": "python",
   "nbconvert_exporter": "python",
   "pygments_lexer": "ipython3",
   "version": "3.8.3-final"
  },
  "orig_nbformat": 2,
  "kernelspec": {
   "name": "python3",
   "display_name": "Python 3.8.3 64-bit",
   "metadata": {
    "interpreter": {
     "hash": "aee8b7b246df8f9039afb4144a1f6fd8d2ca17a180786b69acc140d282b71a49"
    }
   }
  }
 },
 "nbformat": 4,
 "nbformat_minor": 2,
 "cells": [
  {
   "cell_type": "code",
   "execution_count": 1,
   "metadata": {},
   "outputs": [],
   "source": [
    "import pandas as pd\n",
    "import numpy as np\n",
    "import networkx as nx\n",
    "import igraph as ig\n",
    "from igraph import Graph\n",
    "import cairocffi\n",
    "from collections import defaultdict"
   ]
  },
  {
   "cell_type": "code",
   "execution_count": 3,
   "metadata": {},
   "outputs": [],
   "source": [
    "associations = pd.read_csv('data/bio-pathways-associations.csv')\n",
    "classes = pd.read_csv('data/bio-pathways-diseaseclasses.csv')\n",
    "dmotifs = pd.read_csv('data/bio-pathways-diseasemotifs.csv')\n",
    "features = pd.read_csv('data/bio-pathways-features.csv')\n",
    "network = pd.read_csv('data/bio-pathways-network.csv')\n",
    "pmotifs = pd.read_csv('data/bio-pathways-proteinmotifs.csv')\n",
    "node_classes = pd.read_csv('data/all-proteins.csv', index_col=0)\n",
    "diseased_classes = pd.read_csv('data/diseased-proteins.csv', index_col=0)"
   ]
  },
  {
   "source": [
    "## Associations"
   ],
   "cell_type": "markdown",
   "metadata": {}
  },
  {
   "cell_type": "code",
   "execution_count": 3,
   "metadata": {},
   "outputs": [
    {
     "output_type": "execute_result",
     "data": {
      "text/plain": [
       "  Disease ID                  Disease Name  \\\n",
       "0   C0036095      Salivary Gland Neoplasms   \n",
       "1   C0033941  Psychoses, Substance-Induced   \n",
       "2   C0043459            Zellweger Syndrome   \n",
       "3   C0033860                     Psoriasis   \n",
       "4   C0027726            Nephrotic Syndrome   \n",
       "\n",
       "                                 Associated Gene IDs  \n",
       "0  1462, 1612, 182, 2011, 2019, 2175, 2195, 23209...  \n",
       "1  135, 1636, 207, 2099, 2912, 2950, 3350, 3362, ...  \n",
       "2  3295, 5189, 5190, 5192, 5193, 5194, 5195, 5567...  \n",
       "3  100271719, 10318, 10498, 10547, 10758, 10866, ...  \n",
       "4  1277, 1282, 1284, 2, 213, 2152, 2247, 2262, 29...  "
      ],
      "text/html": "<div>\n<style scoped>\n    .dataframe tbody tr th:only-of-type {\n        vertical-align: middle;\n    }\n\n    .dataframe tbody tr th {\n        vertical-align: top;\n    }\n\n    .dataframe thead th {\n        text-align: right;\n    }\n</style>\n<table border=\"1\" class=\"dataframe\">\n  <thead>\n    <tr style=\"text-align: right;\">\n      <th></th>\n      <th>Disease ID</th>\n      <th>Disease Name</th>\n      <th>Associated Gene IDs</th>\n    </tr>\n  </thead>\n  <tbody>\n    <tr>\n      <th>0</th>\n      <td>C0036095</td>\n      <td>Salivary Gland Neoplasms</td>\n      <td>1462, 1612, 182, 2011, 2019, 2175, 2195, 23209...</td>\n    </tr>\n    <tr>\n      <th>1</th>\n      <td>C0033941</td>\n      <td>Psychoses, Substance-Induced</td>\n      <td>135, 1636, 207, 2099, 2912, 2950, 3350, 3362, ...</td>\n    </tr>\n    <tr>\n      <th>2</th>\n      <td>C0043459</td>\n      <td>Zellweger Syndrome</td>\n      <td>3295, 5189, 5190, 5192, 5193, 5194, 5195, 5567...</td>\n    </tr>\n    <tr>\n      <th>3</th>\n      <td>C0033860</td>\n      <td>Psoriasis</td>\n      <td>100271719, 10318, 10498, 10547, 10758, 10866, ...</td>\n    </tr>\n    <tr>\n      <th>4</th>\n      <td>C0027726</td>\n      <td>Nephrotic Syndrome</td>\n      <td>1277, 1282, 1284, 2, 213, 2152, 2247, 2262, 29...</td>\n    </tr>\n  </tbody>\n</table>\n</div>"
     },
     "metadata": {},
     "execution_count": 3
    }
   ],
   "source": [
    "associations.head()"
   ]
  },
  {
   "cell_type": "code",
   "execution_count": 4,
   "metadata": {},
   "outputs": [
    {
     "output_type": "execute_result",
     "data": {
      "text/plain": [
       "       Disease ID         Disease Name  \\\n",
       "count         519                  519   \n",
       "unique        519                  519   \n",
       "top      C0014556  Acute kidney injury   \n",
       "freq            1                    1   \n",
       "\n",
       "                                      Associated Gene IDs  \n",
       "count                                                 519  \n",
       "unique                                                513  \n",
       "top     2253, 2619, 2736, 28514, 4838, 50937, 5727, 64...  \n",
       "freq                                                    4  "
      ],
      "text/html": "<div>\n<style scoped>\n    .dataframe tbody tr th:only-of-type {\n        vertical-align: middle;\n    }\n\n    .dataframe tbody tr th {\n        vertical-align: top;\n    }\n\n    .dataframe thead th {\n        text-align: right;\n    }\n</style>\n<table border=\"1\" class=\"dataframe\">\n  <thead>\n    <tr style=\"text-align: right;\">\n      <th></th>\n      <th>Disease ID</th>\n      <th>Disease Name</th>\n      <th>Associated Gene IDs</th>\n    </tr>\n  </thead>\n  <tbody>\n    <tr>\n      <th>count</th>\n      <td>519</td>\n      <td>519</td>\n      <td>519</td>\n    </tr>\n    <tr>\n      <th>unique</th>\n      <td>519</td>\n      <td>519</td>\n      <td>513</td>\n    </tr>\n    <tr>\n      <th>top</th>\n      <td>C0014556</td>\n      <td>Acute kidney injury</td>\n      <td>2253, 2619, 2736, 28514, 4838, 50937, 5727, 64...</td>\n    </tr>\n    <tr>\n      <th>freq</th>\n      <td>1</td>\n      <td>1</td>\n      <td>4</td>\n    </tr>\n  </tbody>\n</table>\n</div>"
     },
     "metadata": {},
     "execution_count": 4
    }
   ],
   "source": [
    "associations.describe()"
   ]
  },
  {
   "source": [
    "## Disease classes"
   ],
   "cell_type": "markdown",
   "metadata": {}
  },
  {
   "cell_type": "code",
   "execution_count": 5,
   "metadata": {},
   "outputs": [
    {
     "output_type": "execute_result",
     "data": {
      "text/plain": [
       "  Disease ID              Disease Name                  Disease Class\n",
       "0   C0023903           Liver neoplasms                         cancer\n",
       "1   C0018798  Congenital Heart Defects  cardiovascular system disease\n",
       "2   C0027051     Myocardial Infarction  cardiovascular system disease\n",
       "3   C0028754                   Obesity     acquired metabolic disease\n",
       "4   C0005138               Berylliosis     respiratory system disease"
      ],
      "text/html": "<div>\n<style scoped>\n    .dataframe tbody tr th:only-of-type {\n        vertical-align: middle;\n    }\n\n    .dataframe tbody tr th {\n        vertical-align: top;\n    }\n\n    .dataframe thead th {\n        text-align: right;\n    }\n</style>\n<table border=\"1\" class=\"dataframe\">\n  <thead>\n    <tr style=\"text-align: right;\">\n      <th></th>\n      <th>Disease ID</th>\n      <th>Disease Name</th>\n      <th>Disease Class</th>\n    </tr>\n  </thead>\n  <tbody>\n    <tr>\n      <th>0</th>\n      <td>C0023903</td>\n      <td>Liver neoplasms</td>\n      <td>cancer</td>\n    </tr>\n    <tr>\n      <th>1</th>\n      <td>C0018798</td>\n      <td>Congenital Heart Defects</td>\n      <td>cardiovascular system disease</td>\n    </tr>\n    <tr>\n      <th>2</th>\n      <td>C0027051</td>\n      <td>Myocardial Infarction</td>\n      <td>cardiovascular system disease</td>\n    </tr>\n    <tr>\n      <th>3</th>\n      <td>C0028754</td>\n      <td>Obesity</td>\n      <td>acquired metabolic disease</td>\n    </tr>\n    <tr>\n      <th>4</th>\n      <td>C0005138</td>\n      <td>Berylliosis</td>\n      <td>respiratory system disease</td>\n    </tr>\n  </tbody>\n</table>\n</div>"
     },
     "metadata": {},
     "execution_count": 5
    }
   ],
   "source": [
    "classes.head()"
   ]
  },
  {
   "cell_type": "code",
   "execution_count": 6,
   "metadata": {},
   "outputs": [
    {
     "output_type": "execute_result",
     "data": {
      "text/plain": [
       "       Disease ID  Disease Name Disease Class\n",
       "count         300           300           300\n",
       "unique        300           300            30\n",
       "top      C0014556  Pancreatitis        cancer\n",
       "freq            1             1            68"
      ],
      "text/html": "<div>\n<style scoped>\n    .dataframe tbody tr th:only-of-type {\n        vertical-align: middle;\n    }\n\n    .dataframe tbody tr th {\n        vertical-align: top;\n    }\n\n    .dataframe thead th {\n        text-align: right;\n    }\n</style>\n<table border=\"1\" class=\"dataframe\">\n  <thead>\n    <tr style=\"text-align: right;\">\n      <th></th>\n      <th>Disease ID</th>\n      <th>Disease Name</th>\n      <th>Disease Class</th>\n    </tr>\n  </thead>\n  <tbody>\n    <tr>\n      <th>count</th>\n      <td>300</td>\n      <td>300</td>\n      <td>300</td>\n    </tr>\n    <tr>\n      <th>unique</th>\n      <td>300</td>\n      <td>300</td>\n      <td>30</td>\n    </tr>\n    <tr>\n      <th>top</th>\n      <td>C0014556</td>\n      <td>Pancreatitis</td>\n      <td>cancer</td>\n    </tr>\n    <tr>\n      <th>freq</th>\n      <td>1</td>\n      <td>1</td>\n      <td>68</td>\n    </tr>\n  </tbody>\n</table>\n</div>"
     },
     "metadata": {},
     "execution_count": 6
    }
   ],
   "source": [
    "classes.describe()"
   ]
  },
  {
   "source": [
    "## Disease motifs"
   ],
   "cell_type": "markdown",
   "metadata": {}
  },
  {
   "cell_type": "code",
   "execution_count": 7,
   "metadata": {},
   "outputs": [
    {
     "output_type": "execute_result",
     "data": {
      "text/plain": [
       "  Disease ID                  Disease Name  P-values for each orbit  \\\n",
       "0   C0036095      Salivary Gland Neoplasms                   0.2868   \n",
       "1   C0033941  Psychoses, Substance-Induced                   0.6732   \n",
       "2   C0043459            Zellweger Syndrome                   0.5018   \n",
       "3   C0033860                     Psoriasis                   0.0034   \n",
       "4   C0027726            Nephrotic Syndrome                   0.3848   \n",
       "\n",
       "   Unnamed: 3  Unnamed: 4  Unnamed: 5  Unnamed: 6  Unnamed: 7  Unnamed: 8  \\\n",
       "0      0.1406      1.0000      0.9996      0.1822      0.9994      0.2686   \n",
       "1      0.2918      0.9986      0.9854      0.4228      0.9984      0.0696   \n",
       "2      0.4802      0.7728      0.7928      0.2640      0.8392      0.4160   \n",
       "3      0.0000      0.9802      0.9884      0.0000      0.9894      0.0446   \n",
       "4      0.0756      1.0000      0.9894      0.1678      0.9984      0.3860   \n",
       "\n",
       "   Unnamed: 9  ...  Unnamed: 65  Unnamed: 66  Unnamed: 67  Unnamed: 68  \\\n",
       "0      0.9998  ...       0.9992       1.0000       0.9988       0.9978   \n",
       "1      0.9970  ...       0.9872       0.9862       0.9308       0.9812   \n",
       "2      0.7320  ...       0.7040       0.5930       0.8620       0.8434   \n",
       "3      0.9944  ...       0.9486       0.9218       0.9586       0.9618   \n",
       "4      0.9988  ...       0.9918       0.9834       0.9722       0.9866   \n",
       "\n",
       "   Unnamed: 69  Unnamed: 70  Unnamed: 71  Unnamed: 72  Unnamed: 73  \\\n",
       "0       0.9996       0.9998       1.0000       0.9908       0.9980   \n",
       "1       0.9788       0.9660       0.9962       0.9724       0.9730   \n",
       "2       0.8360       0.6456       0.0000       0.8376       0.9066   \n",
       "3       0.9618       0.8456       0.0000       0.8756       0.0000   \n",
       "4       0.9956       0.9940       0.9966       0.9492       0.9898   \n",
       "\n",
       "   Unnamed: 74  \n",
       "0       0.9944  \n",
       "1       0.9844  \n",
       "2       0.0000  \n",
       "3       0.0000  \n",
       "4       0.9720  \n",
       "\n",
       "[5 rows x 75 columns]"
      ],
      "text/html": "<div>\n<style scoped>\n    .dataframe tbody tr th:only-of-type {\n        vertical-align: middle;\n    }\n\n    .dataframe tbody tr th {\n        vertical-align: top;\n    }\n\n    .dataframe thead th {\n        text-align: right;\n    }\n</style>\n<table border=\"1\" class=\"dataframe\">\n  <thead>\n    <tr style=\"text-align: right;\">\n      <th></th>\n      <th>Disease ID</th>\n      <th>Disease Name</th>\n      <th>P-values for each orbit</th>\n      <th>Unnamed: 3</th>\n      <th>Unnamed: 4</th>\n      <th>Unnamed: 5</th>\n      <th>Unnamed: 6</th>\n      <th>Unnamed: 7</th>\n      <th>Unnamed: 8</th>\n      <th>Unnamed: 9</th>\n      <th>...</th>\n      <th>Unnamed: 65</th>\n      <th>Unnamed: 66</th>\n      <th>Unnamed: 67</th>\n      <th>Unnamed: 68</th>\n      <th>Unnamed: 69</th>\n      <th>Unnamed: 70</th>\n      <th>Unnamed: 71</th>\n      <th>Unnamed: 72</th>\n      <th>Unnamed: 73</th>\n      <th>Unnamed: 74</th>\n    </tr>\n  </thead>\n  <tbody>\n    <tr>\n      <th>0</th>\n      <td>C0036095</td>\n      <td>Salivary Gland Neoplasms</td>\n      <td>0.2868</td>\n      <td>0.1406</td>\n      <td>1.0000</td>\n      <td>0.9996</td>\n      <td>0.1822</td>\n      <td>0.9994</td>\n      <td>0.2686</td>\n      <td>0.9998</td>\n      <td>...</td>\n      <td>0.9992</td>\n      <td>1.0000</td>\n      <td>0.9988</td>\n      <td>0.9978</td>\n      <td>0.9996</td>\n      <td>0.9998</td>\n      <td>1.0000</td>\n      <td>0.9908</td>\n      <td>0.9980</td>\n      <td>0.9944</td>\n    </tr>\n    <tr>\n      <th>1</th>\n      <td>C0033941</td>\n      <td>Psychoses, Substance-Induced</td>\n      <td>0.6732</td>\n      <td>0.2918</td>\n      <td>0.9986</td>\n      <td>0.9854</td>\n      <td>0.4228</td>\n      <td>0.9984</td>\n      <td>0.0696</td>\n      <td>0.9970</td>\n      <td>...</td>\n      <td>0.9872</td>\n      <td>0.9862</td>\n      <td>0.9308</td>\n      <td>0.9812</td>\n      <td>0.9788</td>\n      <td>0.9660</td>\n      <td>0.9962</td>\n      <td>0.9724</td>\n      <td>0.9730</td>\n      <td>0.9844</td>\n    </tr>\n    <tr>\n      <th>2</th>\n      <td>C0043459</td>\n      <td>Zellweger Syndrome</td>\n      <td>0.5018</td>\n      <td>0.4802</td>\n      <td>0.7728</td>\n      <td>0.7928</td>\n      <td>0.2640</td>\n      <td>0.8392</td>\n      <td>0.4160</td>\n      <td>0.7320</td>\n      <td>...</td>\n      <td>0.7040</td>\n      <td>0.5930</td>\n      <td>0.8620</td>\n      <td>0.8434</td>\n      <td>0.8360</td>\n      <td>0.6456</td>\n      <td>0.0000</td>\n      <td>0.8376</td>\n      <td>0.9066</td>\n      <td>0.0000</td>\n    </tr>\n    <tr>\n      <th>3</th>\n      <td>C0033860</td>\n      <td>Psoriasis</td>\n      <td>0.0034</td>\n      <td>0.0000</td>\n      <td>0.9802</td>\n      <td>0.9884</td>\n      <td>0.0000</td>\n      <td>0.9894</td>\n      <td>0.0446</td>\n      <td>0.9944</td>\n      <td>...</td>\n      <td>0.9486</td>\n      <td>0.9218</td>\n      <td>0.9586</td>\n      <td>0.9618</td>\n      <td>0.9618</td>\n      <td>0.8456</td>\n      <td>0.0000</td>\n      <td>0.8756</td>\n      <td>0.0000</td>\n      <td>0.0000</td>\n    </tr>\n    <tr>\n      <th>4</th>\n      <td>C0027726</td>\n      <td>Nephrotic Syndrome</td>\n      <td>0.3848</td>\n      <td>0.0756</td>\n      <td>1.0000</td>\n      <td>0.9894</td>\n      <td>0.1678</td>\n      <td>0.9984</td>\n      <td>0.3860</td>\n      <td>0.9988</td>\n      <td>...</td>\n      <td>0.9918</td>\n      <td>0.9834</td>\n      <td>0.9722</td>\n      <td>0.9866</td>\n      <td>0.9956</td>\n      <td>0.9940</td>\n      <td>0.9966</td>\n      <td>0.9492</td>\n      <td>0.9898</td>\n      <td>0.9720</td>\n    </tr>\n  </tbody>\n</table>\n<p>5 rows × 75 columns</p>\n</div>"
     },
     "metadata": {},
     "execution_count": 7
    }
   ],
   "source": [
    "dmotifs.head()"
   ]
  },
  {
   "cell_type": "code",
   "execution_count": 8,
   "metadata": {},
   "outputs": [
    {
     "output_type": "execute_result",
     "data": {
      "text/plain": [
       "       P-values for each orbit  Unnamed: 3  Unnamed: 4  Unnamed: 5  \\\n",
       "count               519.000000  519.000000  519.000000  519.000000   \n",
       "mean                  0.390649    0.258887    0.902943    0.895556   \n",
       "std                   0.302447    0.271436    0.181507    0.187775   \n",
       "min                   0.000000    0.000000    0.000000    0.000000   \n",
       "25%                   0.130000    0.034200    0.885200    0.888200   \n",
       "50%                   0.335000    0.165600    0.982000    0.979600   \n",
       "75%                   0.620000    0.389600    0.999500    0.998800   \n",
       "max                   0.998200    0.983600    1.000000    1.000000   \n",
       "\n",
       "       Unnamed: 6  Unnamed: 7  Unnamed: 8  Unnamed: 9  Unnamed: 10  \\\n",
       "count  519.000000  519.000000  519.000000   519.00000   519.000000   \n",
       "mean     0.285543    0.896049    0.294663     0.90265     0.849971   \n",
       "std      0.271206    0.191393    0.249950     0.18890     0.216353   \n",
       "min      0.000000    0.000000    0.000000     0.00000     0.000000   \n",
       "25%      0.056900    0.878700    0.076300     0.90050     0.775800   \n",
       "50%      0.190800    0.987800    0.230000     0.98920     0.954800   \n",
       "75%      0.453400    0.999600    0.464600     0.99980     0.997800   \n",
       "max      0.982800    1.000000    0.978600     1.00000     1.000000   \n",
       "\n",
       "       Unnamed: 11  ...  Unnamed: 65  Unnamed: 66  Unnamed: 67  Unnamed: 68  \\\n",
       "count   519.000000  ...   519.000000   519.000000   519.000000   519.000000   \n",
       "mean      0.499053  ...     0.866909     0.860435     0.841662     0.831766   \n",
       "std       0.292587  ...     0.215899     0.238677     0.228640     0.299034   \n",
       "min       0.000000  ...     0.000000     0.000000     0.000000     0.000000   \n",
       "25%       0.262600  ...     0.818200     0.829300     0.775400     0.828700   \n",
       "50%       0.518000  ...     0.968800     0.969000     0.945000     0.964400   \n",
       "75%       0.746100  ...     0.999400     0.999700     0.996900     0.999600   \n",
       "max       0.994600  ...     1.000000     1.000000     1.000000     1.000000   \n",
       "\n",
       "       Unnamed: 69  Unnamed: 70  Unnamed: 71  Unnamed: 72  Unnamed: 73  \\\n",
       "count   519.000000   519.000000   519.000000   519.000000   519.000000   \n",
       "mean      0.797350     0.853201     0.549867     0.806204     0.656933   \n",
       "std       0.361448     0.257473     0.489598     0.328585     0.456462   \n",
       "min       0.000000     0.000000     0.000000     0.000000     0.000000   \n",
       "25%       0.861500     0.841800     0.000000     0.811800     0.000000   \n",
       "50%       0.979000     0.966400     0.949200     0.962600     0.959000   \n",
       "75%       0.999800     0.999600     0.999400     0.999000     0.999400   \n",
       "max       1.000000     1.000000     1.000000     1.000000     1.000000   \n",
       "\n",
       "       Unnamed: 74  \n",
       "count   519.000000  \n",
       "mean      0.548546  \n",
       "std       0.486747  \n",
       "min       0.000000  \n",
       "25%       0.000000  \n",
       "50%       0.923200  \n",
       "75%       0.998400  \n",
       "max       1.000000  \n",
       "\n",
       "[8 rows x 73 columns]"
      ],
      "text/html": "<div>\n<style scoped>\n    .dataframe tbody tr th:only-of-type {\n        vertical-align: middle;\n    }\n\n    .dataframe tbody tr th {\n        vertical-align: top;\n    }\n\n    .dataframe thead th {\n        text-align: right;\n    }\n</style>\n<table border=\"1\" class=\"dataframe\">\n  <thead>\n    <tr style=\"text-align: right;\">\n      <th></th>\n      <th>P-values for each orbit</th>\n      <th>Unnamed: 3</th>\n      <th>Unnamed: 4</th>\n      <th>Unnamed: 5</th>\n      <th>Unnamed: 6</th>\n      <th>Unnamed: 7</th>\n      <th>Unnamed: 8</th>\n      <th>Unnamed: 9</th>\n      <th>Unnamed: 10</th>\n      <th>Unnamed: 11</th>\n      <th>...</th>\n      <th>Unnamed: 65</th>\n      <th>Unnamed: 66</th>\n      <th>Unnamed: 67</th>\n      <th>Unnamed: 68</th>\n      <th>Unnamed: 69</th>\n      <th>Unnamed: 70</th>\n      <th>Unnamed: 71</th>\n      <th>Unnamed: 72</th>\n      <th>Unnamed: 73</th>\n      <th>Unnamed: 74</th>\n    </tr>\n  </thead>\n  <tbody>\n    <tr>\n      <th>count</th>\n      <td>519.000000</td>\n      <td>519.000000</td>\n      <td>519.000000</td>\n      <td>519.000000</td>\n      <td>519.000000</td>\n      <td>519.000000</td>\n      <td>519.000000</td>\n      <td>519.00000</td>\n      <td>519.000000</td>\n      <td>519.000000</td>\n      <td>...</td>\n      <td>519.000000</td>\n      <td>519.000000</td>\n      <td>519.000000</td>\n      <td>519.000000</td>\n      <td>519.000000</td>\n      <td>519.000000</td>\n      <td>519.000000</td>\n      <td>519.000000</td>\n      <td>519.000000</td>\n      <td>519.000000</td>\n    </tr>\n    <tr>\n      <th>mean</th>\n      <td>0.390649</td>\n      <td>0.258887</td>\n      <td>0.902943</td>\n      <td>0.895556</td>\n      <td>0.285543</td>\n      <td>0.896049</td>\n      <td>0.294663</td>\n      <td>0.90265</td>\n      <td>0.849971</td>\n      <td>0.499053</td>\n      <td>...</td>\n      <td>0.866909</td>\n      <td>0.860435</td>\n      <td>0.841662</td>\n      <td>0.831766</td>\n      <td>0.797350</td>\n      <td>0.853201</td>\n      <td>0.549867</td>\n      <td>0.806204</td>\n      <td>0.656933</td>\n      <td>0.548546</td>\n    </tr>\n    <tr>\n      <th>std</th>\n      <td>0.302447</td>\n      <td>0.271436</td>\n      <td>0.181507</td>\n      <td>0.187775</td>\n      <td>0.271206</td>\n      <td>0.191393</td>\n      <td>0.249950</td>\n      <td>0.18890</td>\n      <td>0.216353</td>\n      <td>0.292587</td>\n      <td>...</td>\n      <td>0.215899</td>\n      <td>0.238677</td>\n      <td>0.228640</td>\n      <td>0.299034</td>\n      <td>0.361448</td>\n      <td>0.257473</td>\n      <td>0.489598</td>\n      <td>0.328585</td>\n      <td>0.456462</td>\n      <td>0.486747</td>\n    </tr>\n    <tr>\n      <th>min</th>\n      <td>0.000000</td>\n      <td>0.000000</td>\n      <td>0.000000</td>\n      <td>0.000000</td>\n      <td>0.000000</td>\n      <td>0.000000</td>\n      <td>0.000000</td>\n      <td>0.00000</td>\n      <td>0.000000</td>\n      <td>0.000000</td>\n      <td>...</td>\n      <td>0.000000</td>\n      <td>0.000000</td>\n      <td>0.000000</td>\n      <td>0.000000</td>\n      <td>0.000000</td>\n      <td>0.000000</td>\n      <td>0.000000</td>\n      <td>0.000000</td>\n      <td>0.000000</td>\n      <td>0.000000</td>\n    </tr>\n    <tr>\n      <th>25%</th>\n      <td>0.130000</td>\n      <td>0.034200</td>\n      <td>0.885200</td>\n      <td>0.888200</td>\n      <td>0.056900</td>\n      <td>0.878700</td>\n      <td>0.076300</td>\n      <td>0.90050</td>\n      <td>0.775800</td>\n      <td>0.262600</td>\n      <td>...</td>\n      <td>0.818200</td>\n      <td>0.829300</td>\n      <td>0.775400</td>\n      <td>0.828700</td>\n      <td>0.861500</td>\n      <td>0.841800</td>\n      <td>0.000000</td>\n      <td>0.811800</td>\n      <td>0.000000</td>\n      <td>0.000000</td>\n    </tr>\n    <tr>\n      <th>50%</th>\n      <td>0.335000</td>\n      <td>0.165600</td>\n      <td>0.982000</td>\n      <td>0.979600</td>\n      <td>0.190800</td>\n      <td>0.987800</td>\n      <td>0.230000</td>\n      <td>0.98920</td>\n      <td>0.954800</td>\n      <td>0.518000</td>\n      <td>...</td>\n      <td>0.968800</td>\n      <td>0.969000</td>\n      <td>0.945000</td>\n      <td>0.964400</td>\n      <td>0.979000</td>\n      <td>0.966400</td>\n      <td>0.949200</td>\n      <td>0.962600</td>\n      <td>0.959000</td>\n      <td>0.923200</td>\n    </tr>\n    <tr>\n      <th>75%</th>\n      <td>0.620000</td>\n      <td>0.389600</td>\n      <td>0.999500</td>\n      <td>0.998800</td>\n      <td>0.453400</td>\n      <td>0.999600</td>\n      <td>0.464600</td>\n      <td>0.99980</td>\n      <td>0.997800</td>\n      <td>0.746100</td>\n      <td>...</td>\n      <td>0.999400</td>\n      <td>0.999700</td>\n      <td>0.996900</td>\n      <td>0.999600</td>\n      <td>0.999800</td>\n      <td>0.999600</td>\n      <td>0.999400</td>\n      <td>0.999000</td>\n      <td>0.999400</td>\n      <td>0.998400</td>\n    </tr>\n    <tr>\n      <th>max</th>\n      <td>0.998200</td>\n      <td>0.983600</td>\n      <td>1.000000</td>\n      <td>1.000000</td>\n      <td>0.982800</td>\n      <td>1.000000</td>\n      <td>0.978600</td>\n      <td>1.00000</td>\n      <td>1.000000</td>\n      <td>0.994600</td>\n      <td>...</td>\n      <td>1.000000</td>\n      <td>1.000000</td>\n      <td>1.000000</td>\n      <td>1.000000</td>\n      <td>1.000000</td>\n      <td>1.000000</td>\n      <td>1.000000</td>\n      <td>1.000000</td>\n      <td>1.000000</td>\n      <td>1.000000</td>\n    </tr>\n  </tbody>\n</table>\n<p>8 rows × 73 columns</p>\n</div>"
     },
     "metadata": {},
     "execution_count": 8
    }
   ],
   "source": [
    "dmotifs.describe()"
   ]
  },
  {
   "source": [
    "## Features"
   ],
   "cell_type": "markdown",
   "metadata": {}
  },
  {
   "cell_type": "code",
   "execution_count": 9,
   "metadata": {},
   "outputs": [
    {
     "output_type": "execute_result",
     "data": {
      "text/plain": [
       "  Disease ID                  Disease Name  Size of largest pathway component  \\\n",
       "0   C0036095      Salivary Gland Neoplasms                           0.088889   \n",
       "1   C0033941  Psychoses, Substance-Induced                           0.352941   \n",
       "2   C0043459            Zellweger Syndrome                           1.000000   \n",
       "3   C0033860                     Psoriasis                           0.250000   \n",
       "4   C0027726            Nephrotic Syndrome                           0.095238   \n",
       "\n",
       "   Density of pathway  Network Modularity  Distance of Pathway Components  \\\n",
       "0            0.019192           -0.006214                        2.925300   \n",
       "1            0.117647           -0.008137                        2.840909   \n",
       "2            0.352381           -0.001201                             NaN   \n",
       "3            0.018354           -0.013313                        3.008827   \n",
       "4            0.085714           -0.004027                        2.781046   \n",
       "\n",
       "   Spatial Network Association  \n",
       "0                     0.404333  \n",
       "1                     0.256645  \n",
       "2                     0.132935  \n",
       "3                     0.225171  \n",
       "4                     0.214739  "
      ],
      "text/html": "<div>\n<style scoped>\n    .dataframe tbody tr th:only-of-type {\n        vertical-align: middle;\n    }\n\n    .dataframe tbody tr th {\n        vertical-align: top;\n    }\n\n    .dataframe thead th {\n        text-align: right;\n    }\n</style>\n<table border=\"1\" class=\"dataframe\">\n  <thead>\n    <tr style=\"text-align: right;\">\n      <th></th>\n      <th>Disease ID</th>\n      <th>Disease Name</th>\n      <th>Size of largest pathway component</th>\n      <th>Density of pathway</th>\n      <th>Network Modularity</th>\n      <th>Distance of Pathway Components</th>\n      <th>Spatial Network Association</th>\n    </tr>\n  </thead>\n  <tbody>\n    <tr>\n      <th>0</th>\n      <td>C0036095</td>\n      <td>Salivary Gland Neoplasms</td>\n      <td>0.088889</td>\n      <td>0.019192</td>\n      <td>-0.006214</td>\n      <td>2.925300</td>\n      <td>0.404333</td>\n    </tr>\n    <tr>\n      <th>1</th>\n      <td>C0033941</td>\n      <td>Psychoses, Substance-Induced</td>\n      <td>0.352941</td>\n      <td>0.117647</td>\n      <td>-0.008137</td>\n      <td>2.840909</td>\n      <td>0.256645</td>\n    </tr>\n    <tr>\n      <th>2</th>\n      <td>C0043459</td>\n      <td>Zellweger Syndrome</td>\n      <td>1.000000</td>\n      <td>0.352381</td>\n      <td>-0.001201</td>\n      <td>NaN</td>\n      <td>0.132935</td>\n    </tr>\n    <tr>\n      <th>3</th>\n      <td>C0033860</td>\n      <td>Psoriasis</td>\n      <td>0.250000</td>\n      <td>0.018354</td>\n      <td>-0.013313</td>\n      <td>3.008827</td>\n      <td>0.225171</td>\n    </tr>\n    <tr>\n      <th>4</th>\n      <td>C0027726</td>\n      <td>Nephrotic Syndrome</td>\n      <td>0.095238</td>\n      <td>0.085714</td>\n      <td>-0.004027</td>\n      <td>2.781046</td>\n      <td>0.214739</td>\n    </tr>\n  </tbody>\n</table>\n</div>"
     },
     "metadata": {},
     "execution_count": 9
    }
   ],
   "source": [
    "features.head()"
   ]
  },
  {
   "cell_type": "code",
   "execution_count": 10,
   "metadata": {},
   "outputs": [
    {
     "output_type": "execute_result",
     "data": {
      "text/plain": [
       "       Size of largest pathway component  Density of pathway  \\\n",
       "count                         519.000000          519.000000   \n",
       "mean                            0.284809            0.085650   \n",
       "std                             0.209658            0.079820   \n",
       "min                             0.023256            0.000000   \n",
       "25%                             0.125000            0.032195   \n",
       "50%                             0.207547            0.066667   \n",
       "75%                             0.400893            0.111111   \n",
       "max                             1.000000            0.683333   \n",
       "\n",
       "       Network Modularity  Distance of Pathway Components  \\\n",
       "count          519.000000                      514.000000   \n",
       "mean            -0.007971                        2.911952   \n",
       "std              0.011424                        0.255577   \n",
       "min             -0.105434                        2.000000   \n",
       "25%             -0.009337                        2.761905   \n",
       "50%             -0.004027                        2.933333   \n",
       "75%             -0.001726                        3.080912   \n",
       "max             -0.000195                        3.529762   \n",
       "\n",
       "       Spatial Network Association  \n",
       "count                 5.190000e+02  \n",
       "mean                  4.421181e-01  \n",
       "std                   3.238618e-01  \n",
       "min                   4.710000e-09  \n",
       "25%                   1.586132e-01  \n",
       "50%                   3.680776e-01  \n",
       "75%                   7.415754e-01  \n",
       "max                   1.000000e+00  "
      ],
      "text/html": "<div>\n<style scoped>\n    .dataframe tbody tr th:only-of-type {\n        vertical-align: middle;\n    }\n\n    .dataframe tbody tr th {\n        vertical-align: top;\n    }\n\n    .dataframe thead th {\n        text-align: right;\n    }\n</style>\n<table border=\"1\" class=\"dataframe\">\n  <thead>\n    <tr style=\"text-align: right;\">\n      <th></th>\n      <th>Size of largest pathway component</th>\n      <th>Density of pathway</th>\n      <th>Network Modularity</th>\n      <th>Distance of Pathway Components</th>\n      <th>Spatial Network Association</th>\n    </tr>\n  </thead>\n  <tbody>\n    <tr>\n      <th>count</th>\n      <td>519.000000</td>\n      <td>519.000000</td>\n      <td>519.000000</td>\n      <td>514.000000</td>\n      <td>5.190000e+02</td>\n    </tr>\n    <tr>\n      <th>mean</th>\n      <td>0.284809</td>\n      <td>0.085650</td>\n      <td>-0.007971</td>\n      <td>2.911952</td>\n      <td>4.421181e-01</td>\n    </tr>\n    <tr>\n      <th>std</th>\n      <td>0.209658</td>\n      <td>0.079820</td>\n      <td>0.011424</td>\n      <td>0.255577</td>\n      <td>3.238618e-01</td>\n    </tr>\n    <tr>\n      <th>min</th>\n      <td>0.023256</td>\n      <td>0.000000</td>\n      <td>-0.105434</td>\n      <td>2.000000</td>\n      <td>4.710000e-09</td>\n    </tr>\n    <tr>\n      <th>25%</th>\n      <td>0.125000</td>\n      <td>0.032195</td>\n      <td>-0.009337</td>\n      <td>2.761905</td>\n      <td>1.586132e-01</td>\n    </tr>\n    <tr>\n      <th>50%</th>\n      <td>0.207547</td>\n      <td>0.066667</td>\n      <td>-0.004027</td>\n      <td>2.933333</td>\n      <td>3.680776e-01</td>\n    </tr>\n    <tr>\n      <th>75%</th>\n      <td>0.400893</td>\n      <td>0.111111</td>\n      <td>-0.001726</td>\n      <td>3.080912</td>\n      <td>7.415754e-01</td>\n    </tr>\n    <tr>\n      <th>max</th>\n      <td>1.000000</td>\n      <td>0.683333</td>\n      <td>-0.000195</td>\n      <td>3.529762</td>\n      <td>1.000000e+00</td>\n    </tr>\n  </tbody>\n</table>\n</div>"
     },
     "metadata": {},
     "execution_count": 10
    }
   ],
   "source": [
    "features.describe()"
   ]
  },
  {
   "source": [
    "## Diseases"
   ],
   "cell_type": "markdown",
   "metadata": {}
  },
  {
   "cell_type": "code",
   "execution_count": 4,
   "metadata": {},
   "outputs": [],
   "source": [
    "diseases = pd.merge(associations, classes)"
   ]
  },
  {
   "cell_type": "code",
   "execution_count": 135,
   "metadata": {},
   "outputs": [],
   "source": [
    "diseases.to_csv('data/disease_class_prot.csv')"
   ]
  },
  {
   "cell_type": "code",
   "execution_count": 24,
   "metadata": {},
   "outputs": [],
   "source": [
    "node_dict = defaultdict(set)\n",
    "for row in diseases.iterrows():\n",
    "    nodes = row[1]['Associated Gene IDs'].split(', ')\n",
    "    disease = row[1]['Disease Class']\n",
    "    for node in nodes:\n",
    "        node_dict[node].add(disease)"
   ]
  },
  {
   "cell_type": "code",
   "execution_count": 25,
   "metadata": {},
   "outputs": [],
   "source": [
    "class_col = diseases['Disease Class'].unique()\n",
    "class_node_dict = defaultdict(list)\n",
    "for node, ds in node_dict.items():\n",
    "    class_node_dict[node] = [1 if d in ds else 0 for d in class_col]\n",
    "diseased_node_classes = pd.DataFrame(data=class_node_dict).transpose()\n",
    "diseased_node_classes.columns = class_col"
   ]
  },
  {
   "cell_type": "code",
   "execution_count": 26,
   "metadata": {},
   "outputs": [
    {
     "output_type": "execute_result",
     "data": {
      "text/plain": [
       "       inherited metabolic disorder  integumentary system disease  \\\n",
       "3295                              1                             0   \n",
       "5189                              1                             0   \n",
       "5190                              1                             0   \n",
       "5192                              1                             0   \n",
       "5193                              1                             0   \n",
       "...                             ...                           ...   \n",
       "54575                             0                             0   \n",
       "54576                             0                             0   \n",
       "55824                             0                             0   \n",
       "6563                              0                             0   \n",
       "6620                              0                             0   \n",
       "\n",
       "       urinary system disease  nervous system disease  \\\n",
       "3295                        0                       1   \n",
       "5189                        0                       1   \n",
       "5190                        0                       0   \n",
       "5192                        0                       0   \n",
       "5193                        0                       0   \n",
       "...                       ...                     ...   \n",
       "54575                       0                       0   \n",
       "54576                       0                       0   \n",
       "55824                       0                       0   \n",
       "6563                        0                       0   \n",
       "6620                        0                       1   \n",
       "\n",
       "       gastrointestinal system disease  substance-related disorder  \\\n",
       "3295                                 0                           0   \n",
       "5189                                 0                           0   \n",
       "5190                                 0                           0   \n",
       "5192                                 0                           0   \n",
       "5193                                 0                           0   \n",
       "...                                ...                         ...   \n",
       "54575                                0                           0   \n",
       "54576                                0                           0   \n",
       "55824                                0                           0   \n",
       "6563                                 0                           0   \n",
       "6620                                 0                           0   \n",
       "\n",
       "       immune system disease  musculoskeletal system disease  \\\n",
       "3295                       0                               0   \n",
       "5189                       0                               0   \n",
       "5190                       0                               0   \n",
       "5192                       0                               0   \n",
       "5193                       0                               0   \n",
       "...                      ...                             ...   \n",
       "54575                      0                               0   \n",
       "54576                      0                               0   \n",
       "55824                      0                               0   \n",
       "6563                       0                               0   \n",
       "6620                       0                               0   \n",
       "\n",
       "       psoriatic arthritis  cancer  ...  chromosomal disease  hypospadias  \\\n",
       "3295                     0       0  ...                    0            0   \n",
       "5189                     0       0  ...                    0            0   \n",
       "5190                     0       0  ...                    0            0   \n",
       "5192                     0       0  ...                    0            0   \n",
       "5193                     0       0  ...                    0            0   \n",
       "...                    ...     ...  ...                  ...          ...   \n",
       "54575                    0       1  ...                    0            0   \n",
       "54576                    0       1  ...                    0            0   \n",
       "55824                    0       1  ...                    0            0   \n",
       "6563                     0       1  ...                    0            0   \n",
       "6620                     0       0  ...                    0            0   \n",
       "\n",
       "       ciliopathy  developmental disorder of mental health  sleep disorder  \\\n",
       "3295            0                                        0               0   \n",
       "5189            0                                        0               0   \n",
       "5190            0                                        0               0   \n",
       "5192            0                                        0               0   \n",
       "5193            0                                        0               0   \n",
       "...           ...                                      ...             ...   \n",
       "54575           0                                        0               0   \n",
       "54576           0                                        0               0   \n",
       "55824           0                                        0               0   \n",
       "6563            0                                        0               0   \n",
       "6620            0                                        0               0   \n",
       "\n",
       "       bacterial infectious disease  respiratory system disease  \\\n",
       "3295                              0                           0   \n",
       "5189                              0                           0   \n",
       "5190                              0                           0   \n",
       "5192                              0                           0   \n",
       "5193                              0                           0   \n",
       "...                             ...                         ...   \n",
       "54575                             0                           0   \n",
       "54576                             0                           0   \n",
       "55824                             0                           0   \n",
       "6563                              0                           0   \n",
       "6620                              0                           0   \n",
       "\n",
       "       polycystic ovary syndrome  reproductive system disease  orofacial cleft  \n",
       "3295                           0                            0                0  \n",
       "5189                           0                            0                0  \n",
       "5190                           0                            0                0  \n",
       "5192                           0                            0                0  \n",
       "5193                           0                            0                0  \n",
       "...                          ...                          ...              ...  \n",
       "54575                          0                            0                0  \n",
       "54576                          0                            0                0  \n",
       "55824                          0                            0                0  \n",
       "6563                           0                            0                0  \n",
       "6620                           0                            0                0  \n",
       "\n",
       "[5942 rows x 30 columns]"
      ],
      "text/html": "<div>\n<style scoped>\n    .dataframe tbody tr th:only-of-type {\n        vertical-align: middle;\n    }\n\n    .dataframe tbody tr th {\n        vertical-align: top;\n    }\n\n    .dataframe thead th {\n        text-align: right;\n    }\n</style>\n<table border=\"1\" class=\"dataframe\">\n  <thead>\n    <tr style=\"text-align: right;\">\n      <th></th>\n      <th>inherited metabolic disorder</th>\n      <th>integumentary system disease</th>\n      <th>urinary system disease</th>\n      <th>nervous system disease</th>\n      <th>gastrointestinal system disease</th>\n      <th>substance-related disorder</th>\n      <th>immune system disease</th>\n      <th>musculoskeletal system disease</th>\n      <th>psoriatic arthritis</th>\n      <th>cancer</th>\n      <th>...</th>\n      <th>chromosomal disease</th>\n      <th>hypospadias</th>\n      <th>ciliopathy</th>\n      <th>developmental disorder of mental health</th>\n      <th>sleep disorder</th>\n      <th>bacterial infectious disease</th>\n      <th>respiratory system disease</th>\n      <th>polycystic ovary syndrome</th>\n      <th>reproductive system disease</th>\n      <th>orofacial cleft</th>\n    </tr>\n  </thead>\n  <tbody>\n    <tr>\n      <th>3295</th>\n      <td>1</td>\n      <td>0</td>\n      <td>0</td>\n      <td>1</td>\n      <td>0</td>\n      <td>0</td>\n      <td>0</td>\n      <td>0</td>\n      <td>0</td>\n      <td>0</td>\n      <td>...</td>\n      <td>0</td>\n      <td>0</td>\n      <td>0</td>\n      <td>0</td>\n      <td>0</td>\n      <td>0</td>\n      <td>0</td>\n      <td>0</td>\n      <td>0</td>\n      <td>0</td>\n    </tr>\n    <tr>\n      <th>5189</th>\n      <td>1</td>\n      <td>0</td>\n      <td>0</td>\n      <td>1</td>\n      <td>0</td>\n      <td>0</td>\n      <td>0</td>\n      <td>0</td>\n      <td>0</td>\n      <td>0</td>\n      <td>...</td>\n      <td>0</td>\n      <td>0</td>\n      <td>0</td>\n      <td>0</td>\n      <td>0</td>\n      <td>0</td>\n      <td>0</td>\n      <td>0</td>\n      <td>0</td>\n      <td>0</td>\n    </tr>\n    <tr>\n      <th>5190</th>\n      <td>1</td>\n      <td>0</td>\n      <td>0</td>\n      <td>0</td>\n      <td>0</td>\n      <td>0</td>\n      <td>0</td>\n      <td>0</td>\n      <td>0</td>\n      <td>0</td>\n      <td>...</td>\n      <td>0</td>\n      <td>0</td>\n      <td>0</td>\n      <td>0</td>\n      <td>0</td>\n      <td>0</td>\n      <td>0</td>\n      <td>0</td>\n      <td>0</td>\n      <td>0</td>\n    </tr>\n    <tr>\n      <th>5192</th>\n      <td>1</td>\n      <td>0</td>\n      <td>0</td>\n      <td>0</td>\n      <td>0</td>\n      <td>0</td>\n      <td>0</td>\n      <td>0</td>\n      <td>0</td>\n      <td>0</td>\n      <td>...</td>\n      <td>0</td>\n      <td>0</td>\n      <td>0</td>\n      <td>0</td>\n      <td>0</td>\n      <td>0</td>\n      <td>0</td>\n      <td>0</td>\n      <td>0</td>\n      <td>0</td>\n    </tr>\n    <tr>\n      <th>5193</th>\n      <td>1</td>\n      <td>0</td>\n      <td>0</td>\n      <td>0</td>\n      <td>0</td>\n      <td>0</td>\n      <td>0</td>\n      <td>0</td>\n      <td>0</td>\n      <td>0</td>\n      <td>...</td>\n      <td>0</td>\n      <td>0</td>\n      <td>0</td>\n      <td>0</td>\n      <td>0</td>\n      <td>0</td>\n      <td>0</td>\n      <td>0</td>\n      <td>0</td>\n      <td>0</td>\n    </tr>\n    <tr>\n      <th>...</th>\n      <td>...</td>\n      <td>...</td>\n      <td>...</td>\n      <td>...</td>\n      <td>...</td>\n      <td>...</td>\n      <td>...</td>\n      <td>...</td>\n      <td>...</td>\n      <td>...</td>\n      <td>...</td>\n      <td>...</td>\n      <td>...</td>\n      <td>...</td>\n      <td>...</td>\n      <td>...</td>\n      <td>...</td>\n      <td>...</td>\n      <td>...</td>\n      <td>...</td>\n      <td>...</td>\n    </tr>\n    <tr>\n      <th>54575</th>\n      <td>0</td>\n      <td>0</td>\n      <td>0</td>\n      <td>0</td>\n      <td>0</td>\n      <td>0</td>\n      <td>0</td>\n      <td>0</td>\n      <td>0</td>\n      <td>1</td>\n      <td>...</td>\n      <td>0</td>\n      <td>0</td>\n      <td>0</td>\n      <td>0</td>\n      <td>0</td>\n      <td>0</td>\n      <td>0</td>\n      <td>0</td>\n      <td>0</td>\n      <td>0</td>\n    </tr>\n    <tr>\n      <th>54576</th>\n      <td>0</td>\n      <td>0</td>\n      <td>0</td>\n      <td>0</td>\n      <td>0</td>\n      <td>0</td>\n      <td>0</td>\n      <td>0</td>\n      <td>0</td>\n      <td>1</td>\n      <td>...</td>\n      <td>0</td>\n      <td>0</td>\n      <td>0</td>\n      <td>0</td>\n      <td>0</td>\n      <td>0</td>\n      <td>0</td>\n      <td>0</td>\n      <td>0</td>\n      <td>0</td>\n    </tr>\n    <tr>\n      <th>55824</th>\n      <td>0</td>\n      <td>0</td>\n      <td>0</td>\n      <td>0</td>\n      <td>0</td>\n      <td>0</td>\n      <td>0</td>\n      <td>0</td>\n      <td>0</td>\n      <td>1</td>\n      <td>...</td>\n      <td>0</td>\n      <td>0</td>\n      <td>0</td>\n      <td>0</td>\n      <td>0</td>\n      <td>0</td>\n      <td>0</td>\n      <td>0</td>\n      <td>0</td>\n      <td>0</td>\n    </tr>\n    <tr>\n      <th>6563</th>\n      <td>0</td>\n      <td>0</td>\n      <td>0</td>\n      <td>0</td>\n      <td>0</td>\n      <td>0</td>\n      <td>0</td>\n      <td>0</td>\n      <td>0</td>\n      <td>1</td>\n      <td>...</td>\n      <td>0</td>\n      <td>0</td>\n      <td>0</td>\n      <td>0</td>\n      <td>0</td>\n      <td>0</td>\n      <td>0</td>\n      <td>0</td>\n      <td>0</td>\n      <td>0</td>\n    </tr>\n    <tr>\n      <th>6620</th>\n      <td>0</td>\n      <td>0</td>\n      <td>0</td>\n      <td>1</td>\n      <td>0</td>\n      <td>0</td>\n      <td>0</td>\n      <td>0</td>\n      <td>0</td>\n      <td>0</td>\n      <td>...</td>\n      <td>0</td>\n      <td>0</td>\n      <td>0</td>\n      <td>0</td>\n      <td>0</td>\n      <td>0</td>\n      <td>0</td>\n      <td>0</td>\n      <td>0</td>\n      <td>0</td>\n    </tr>\n  </tbody>\n</table>\n<p>5942 rows × 30 columns</p>\n</div>"
     },
     "metadata": {},
     "execution_count": 26
    }
   ],
   "source": [
    "diseased_node_classes"
   ]
  },
  {
   "source": [
    "## PPI Network"
   ],
   "cell_type": "markdown",
   "metadata": {}
  },
  {
   "cell_type": "code",
   "execution_count": 11,
   "metadata": {},
   "outputs": [
    {
     "output_type": "execute_result",
     "data": {
      "text/plain": [
       "   Gene ID 1  Gene ID 2\n",
       "0       1394       2778\n",
       "1       6331      17999\n",
       "2     122704      54460\n",
       "3       2597       2911\n",
       "4       4790      79155"
      ],
      "text/html": "<div>\n<style scoped>\n    .dataframe tbody tr th:only-of-type {\n        vertical-align: middle;\n    }\n\n    .dataframe tbody tr th {\n        vertical-align: top;\n    }\n\n    .dataframe thead th {\n        text-align: right;\n    }\n</style>\n<table border=\"1\" class=\"dataframe\">\n  <thead>\n    <tr style=\"text-align: right;\">\n      <th></th>\n      <th>Gene ID 1</th>\n      <th>Gene ID 2</th>\n    </tr>\n  </thead>\n  <tbody>\n    <tr>\n      <th>0</th>\n      <td>1394</td>\n      <td>2778</td>\n    </tr>\n    <tr>\n      <th>1</th>\n      <td>6331</td>\n      <td>17999</td>\n    </tr>\n    <tr>\n      <th>2</th>\n      <td>122704</td>\n      <td>54460</td>\n    </tr>\n    <tr>\n      <th>3</th>\n      <td>2597</td>\n      <td>2911</td>\n    </tr>\n    <tr>\n      <th>4</th>\n      <td>4790</td>\n      <td>79155</td>\n    </tr>\n  </tbody>\n</table>\n</div>"
     },
     "metadata": {},
     "execution_count": 11
    }
   ],
   "source": [
    "network.head()"
   ]
  },
  {
   "cell_type": "code",
   "execution_count": 28,
   "metadata": {},
   "outputs": [],
   "source": [
    "graph = nx.from_pandas_edgelist(network, 'Gene ID 1', 'Gene ID 2')"
   ]
  },
  {
   "cell_type": "code",
   "execution_count": 13,
   "metadata": {},
   "outputs": [
    {
     "output_type": "execute_result",
     "data": {
      "text/plain": [
       "'Name: \\nType: Graph\\nNumber of nodes: 21557\\nNumber of edges: 342353\\nAverage degree:  31.7626'"
      ]
     },
     "metadata": {},
     "execution_count": 13
    }
   ],
   "source": [
    "nx.info(graph)"
   ]
  },
  {
   "cell_type": "code",
   "execution_count": 43,
   "metadata": {},
   "outputs": [],
   "source": [
    "diseased_network = network[network['Gene ID 1'].isin(diseased_nodes) & network['Gene ID 2'].isin(diseased_nodes)]"
   ]
  },
  {
   "cell_type": "code",
   "execution_count": 44,
   "metadata": {},
   "outputs": [
    {
     "output_type": "execute_result",
     "data": {
      "text/plain": [
       "        Gene ID 1  Gene ID 2\n",
       "0            1394       2778\n",
       "3            2597       2911\n",
       "6             109      27115\n",
       "16           2355      29922\n",
       "27           5879      23568\n",
       "...           ...        ...\n",
       "342330      57521     253260\n",
       "342332        267        488\n",
       "342334      79026      10963\n",
       "342344       1786      65125\n",
       "342349       6774      55748\n",
       "\n",
       "[65674 rows x 2 columns]"
      ],
      "text/html": "<div>\n<style scoped>\n    .dataframe tbody tr th:only-of-type {\n        vertical-align: middle;\n    }\n\n    .dataframe tbody tr th {\n        vertical-align: top;\n    }\n\n    .dataframe thead th {\n        text-align: right;\n    }\n</style>\n<table border=\"1\" class=\"dataframe\">\n  <thead>\n    <tr style=\"text-align: right;\">\n      <th></th>\n      <th>Gene ID 1</th>\n      <th>Gene ID 2</th>\n    </tr>\n  </thead>\n  <tbody>\n    <tr>\n      <th>0</th>\n      <td>1394</td>\n      <td>2778</td>\n    </tr>\n    <tr>\n      <th>3</th>\n      <td>2597</td>\n      <td>2911</td>\n    </tr>\n    <tr>\n      <th>6</th>\n      <td>109</td>\n      <td>27115</td>\n    </tr>\n    <tr>\n      <th>16</th>\n      <td>2355</td>\n      <td>29922</td>\n    </tr>\n    <tr>\n      <th>27</th>\n      <td>5879</td>\n      <td>23568</td>\n    </tr>\n    <tr>\n      <th>...</th>\n      <td>...</td>\n      <td>...</td>\n    </tr>\n    <tr>\n      <th>342330</th>\n      <td>57521</td>\n      <td>253260</td>\n    </tr>\n    <tr>\n      <th>342332</th>\n      <td>267</td>\n      <td>488</td>\n    </tr>\n    <tr>\n      <th>342334</th>\n      <td>79026</td>\n      <td>10963</td>\n    </tr>\n    <tr>\n      <th>342344</th>\n      <td>1786</td>\n      <td>65125</td>\n    </tr>\n    <tr>\n      <th>342349</th>\n      <td>6774</td>\n      <td>55748</td>\n    </tr>\n  </tbody>\n</table>\n<p>65674 rows × 2 columns</p>\n</div>"
     },
     "metadata": {},
     "execution_count": 44
    }
   ],
   "source": [
    "diseased_network"
   ]
  },
  {
   "cell_type": "code",
   "execution_count": 50,
   "metadata": {},
   "outputs": [],
   "source": [
    "# dis_graph = nx.from_pandas_edgelist(diseased_network, 'Gene ID 1', 'Gene ID 2')\n",
    "# nx.write_gml(dis_graph, 'diseased-ppi')\n",
    "dis_graph = nx.read_gml('networks/diseased-ppi')"
   ]
  },
  {
   "cell_type": "code",
   "execution_count": 130,
   "metadata": {},
   "outputs": [],
   "source": [
    "adding = defaultdict(list)\n",
    "for node in graph.nodes():\n",
    "    gene = str(node)\n",
    "    if gene not in diseased_node_classes.index:\n",
    "        adding[gene] = [0] * len(class_col)\n",
    "nondiseased = pd.DataFrame(adding).transpose()\n",
    "nondiseased.columns=class_col\n",
    "node_classes = pd.concat([diseased_node_classes, nondiseased])"
   ]
  },
  {
   "cell_type": "code",
   "execution_count": 131,
   "metadata": {},
   "outputs": [
    {
     "output_type": "execute_result",
     "data": {
      "text/plain": [
       "           inherited metabolic disorder  integumentary system disease  \\\n",
       "3295                                  1                             0   \n",
       "5189                                  1                             0   \n",
       "5190                                  1                             0   \n",
       "5192                                  1                             0   \n",
       "5193                                  1                             0   \n",
       "...                                 ...                           ...   \n",
       "19400                                 0                             0   \n",
       "81918                                 0                             0   \n",
       "139378                                0                             0   \n",
       "18744                                 0                             0   \n",
       "100360522                             0                             0   \n",
       "\n",
       "           urinary system disease  nervous system disease  \\\n",
       "3295                            0                       1   \n",
       "5189                            0                       1   \n",
       "5190                            0                       0   \n",
       "5192                            0                       0   \n",
       "5193                            0                       0   \n",
       "...                           ...                     ...   \n",
       "19400                           0                       0   \n",
       "81918                           0                       0   \n",
       "139378                          0                       0   \n",
       "18744                           0                       0   \n",
       "100360522                       0                       0   \n",
       "\n",
       "           gastrointestinal system disease  substance-related disorder  \\\n",
       "3295                                     0                           0   \n",
       "5189                                     0                           0   \n",
       "5190                                     0                           0   \n",
       "5192                                     0                           0   \n",
       "5193                                     0                           0   \n",
       "...                                    ...                         ...   \n",
       "19400                                    0                           0   \n",
       "81918                                    0                           0   \n",
       "139378                                   0                           0   \n",
       "18744                                    0                           0   \n",
       "100360522                                0                           0   \n",
       "\n",
       "           immune system disease  musculoskeletal system disease  \\\n",
       "3295                           0                               0   \n",
       "5189                           0                               0   \n",
       "5190                           0                               0   \n",
       "5192                           0                               0   \n",
       "5193                           0                               0   \n",
       "...                          ...                             ...   \n",
       "19400                          0                               0   \n",
       "81918                          0                               0   \n",
       "139378                         0                               0   \n",
       "18744                          0                               0   \n",
       "100360522                      0                               0   \n",
       "\n",
       "           psoriatic arthritis  cancer  ...  chromosomal disease  hypospadias  \\\n",
       "3295                         0       0  ...                    0            0   \n",
       "5189                         0       0  ...                    0            0   \n",
       "5190                         0       0  ...                    0            0   \n",
       "5192                         0       0  ...                    0            0   \n",
       "5193                         0       0  ...                    0            0   \n",
       "...                        ...     ...  ...                  ...          ...   \n",
       "19400                        0       0  ...                    0            0   \n",
       "81918                        0       0  ...                    0            0   \n",
       "139378                       0       0  ...                    0            0   \n",
       "18744                        0       0  ...                    0            0   \n",
       "100360522                    0       0  ...                    0            0   \n",
       "\n",
       "           ciliopathy  developmental disorder of mental health  \\\n",
       "3295                0                                        0   \n",
       "5189                0                                        0   \n",
       "5190                0                                        0   \n",
       "5192                0                                        0   \n",
       "5193                0                                        0   \n",
       "...               ...                                      ...   \n",
       "19400               0                                        0   \n",
       "81918               0                                        0   \n",
       "139378              0                                        0   \n",
       "18744               0                                        0   \n",
       "100360522           0                                        0   \n",
       "\n",
       "           sleep disorder  bacterial infectious disease  \\\n",
       "3295                    0                             0   \n",
       "5189                    0                             0   \n",
       "5190                    0                             0   \n",
       "5192                    0                             0   \n",
       "5193                    0                             0   \n",
       "...                   ...                           ...   \n",
       "19400                   0                             0   \n",
       "81918                   0                             0   \n",
       "139378                  0                             0   \n",
       "18744                   0                             0   \n",
       "100360522               0                             0   \n",
       "\n",
       "           respiratory system disease  polycystic ovary syndrome  \\\n",
       "3295                                0                          0   \n",
       "5189                                0                          0   \n",
       "5190                                0                          0   \n",
       "5192                                0                          0   \n",
       "5193                                0                          0   \n",
       "...                               ...                        ...   \n",
       "19400                               0                          0   \n",
       "81918                               0                          0   \n",
       "139378                              0                          0   \n",
       "18744                               0                          0   \n",
       "100360522                           0                          0   \n",
       "\n",
       "           reproductive system disease  orofacial cleft  \n",
       "3295                                 0                0  \n",
       "5189                                 0                0  \n",
       "5190                                 0                0  \n",
       "5192                                 0                0  \n",
       "5193                                 0                0  \n",
       "...                                ...              ...  \n",
       "19400                                0                0  \n",
       "81918                                0                0  \n",
       "139378                               0                0  \n",
       "18744                                0                0  \n",
       "100360522                            0                0  \n",
       "\n",
       "[22255 rows x 30 columns]"
      ],
      "text/html": "<div>\n<style scoped>\n    .dataframe tbody tr th:only-of-type {\n        vertical-align: middle;\n    }\n\n    .dataframe tbody tr th {\n        vertical-align: top;\n    }\n\n    .dataframe thead th {\n        text-align: right;\n    }\n</style>\n<table border=\"1\" class=\"dataframe\">\n  <thead>\n    <tr style=\"text-align: right;\">\n      <th></th>\n      <th>inherited metabolic disorder</th>\n      <th>integumentary system disease</th>\n      <th>urinary system disease</th>\n      <th>nervous system disease</th>\n      <th>gastrointestinal system disease</th>\n      <th>substance-related disorder</th>\n      <th>immune system disease</th>\n      <th>musculoskeletal system disease</th>\n      <th>psoriatic arthritis</th>\n      <th>cancer</th>\n      <th>...</th>\n      <th>chromosomal disease</th>\n      <th>hypospadias</th>\n      <th>ciliopathy</th>\n      <th>developmental disorder of mental health</th>\n      <th>sleep disorder</th>\n      <th>bacterial infectious disease</th>\n      <th>respiratory system disease</th>\n      <th>polycystic ovary syndrome</th>\n      <th>reproductive system disease</th>\n      <th>orofacial cleft</th>\n    </tr>\n  </thead>\n  <tbody>\n    <tr>\n      <th>3295</th>\n      <td>1</td>\n      <td>0</td>\n      <td>0</td>\n      <td>1</td>\n      <td>0</td>\n      <td>0</td>\n      <td>0</td>\n      <td>0</td>\n      <td>0</td>\n      <td>0</td>\n      <td>...</td>\n      <td>0</td>\n      <td>0</td>\n      <td>0</td>\n      <td>0</td>\n      <td>0</td>\n      <td>0</td>\n      <td>0</td>\n      <td>0</td>\n      <td>0</td>\n      <td>0</td>\n    </tr>\n    <tr>\n      <th>5189</th>\n      <td>1</td>\n      <td>0</td>\n      <td>0</td>\n      <td>1</td>\n      <td>0</td>\n      <td>0</td>\n      <td>0</td>\n      <td>0</td>\n      <td>0</td>\n      <td>0</td>\n      <td>...</td>\n      <td>0</td>\n      <td>0</td>\n      <td>0</td>\n      <td>0</td>\n      <td>0</td>\n      <td>0</td>\n      <td>0</td>\n      <td>0</td>\n      <td>0</td>\n      <td>0</td>\n    </tr>\n    <tr>\n      <th>5190</th>\n      <td>1</td>\n      <td>0</td>\n      <td>0</td>\n      <td>0</td>\n      <td>0</td>\n      <td>0</td>\n      <td>0</td>\n      <td>0</td>\n      <td>0</td>\n      <td>0</td>\n      <td>...</td>\n      <td>0</td>\n      <td>0</td>\n      <td>0</td>\n      <td>0</td>\n      <td>0</td>\n      <td>0</td>\n      <td>0</td>\n      <td>0</td>\n      <td>0</td>\n      <td>0</td>\n    </tr>\n    <tr>\n      <th>5192</th>\n      <td>1</td>\n      <td>0</td>\n      <td>0</td>\n      <td>0</td>\n      <td>0</td>\n      <td>0</td>\n      <td>0</td>\n      <td>0</td>\n      <td>0</td>\n      <td>0</td>\n      <td>...</td>\n      <td>0</td>\n      <td>0</td>\n      <td>0</td>\n      <td>0</td>\n      <td>0</td>\n      <td>0</td>\n      <td>0</td>\n      <td>0</td>\n      <td>0</td>\n      <td>0</td>\n    </tr>\n    <tr>\n      <th>5193</th>\n      <td>1</td>\n      <td>0</td>\n      <td>0</td>\n      <td>0</td>\n      <td>0</td>\n      <td>0</td>\n      <td>0</td>\n      <td>0</td>\n      <td>0</td>\n      <td>0</td>\n      <td>...</td>\n      <td>0</td>\n      <td>0</td>\n      <td>0</td>\n      <td>0</td>\n      <td>0</td>\n      <td>0</td>\n      <td>0</td>\n      <td>0</td>\n      <td>0</td>\n      <td>0</td>\n    </tr>\n    <tr>\n      <th>...</th>\n      <td>...</td>\n      <td>...</td>\n      <td>...</td>\n      <td>...</td>\n      <td>...</td>\n      <td>...</td>\n      <td>...</td>\n      <td>...</td>\n      <td>...</td>\n      <td>...</td>\n      <td>...</td>\n      <td>...</td>\n      <td>...</td>\n      <td>...</td>\n      <td>...</td>\n      <td>...</td>\n      <td>...</td>\n      <td>...</td>\n      <td>...</td>\n      <td>...</td>\n      <td>...</td>\n    </tr>\n    <tr>\n      <th>19400</th>\n      <td>0</td>\n      <td>0</td>\n      <td>0</td>\n      <td>0</td>\n      <td>0</td>\n      <td>0</td>\n      <td>0</td>\n      <td>0</td>\n      <td>0</td>\n      <td>0</td>\n      <td>...</td>\n      <td>0</td>\n      <td>0</td>\n      <td>0</td>\n      <td>0</td>\n      <td>0</td>\n      <td>0</td>\n      <td>0</td>\n      <td>0</td>\n      <td>0</td>\n      <td>0</td>\n    </tr>\n    <tr>\n      <th>81918</th>\n      <td>0</td>\n      <td>0</td>\n      <td>0</td>\n      <td>0</td>\n      <td>0</td>\n      <td>0</td>\n      <td>0</td>\n      <td>0</td>\n      <td>0</td>\n      <td>0</td>\n      <td>...</td>\n      <td>0</td>\n      <td>0</td>\n      <td>0</td>\n      <td>0</td>\n      <td>0</td>\n      <td>0</td>\n      <td>0</td>\n      <td>0</td>\n      <td>0</td>\n      <td>0</td>\n    </tr>\n    <tr>\n      <th>139378</th>\n      <td>0</td>\n      <td>0</td>\n      <td>0</td>\n      <td>0</td>\n      <td>0</td>\n      <td>0</td>\n      <td>0</td>\n      <td>0</td>\n      <td>0</td>\n      <td>0</td>\n      <td>...</td>\n      <td>0</td>\n      <td>0</td>\n      <td>0</td>\n      <td>0</td>\n      <td>0</td>\n      <td>0</td>\n      <td>0</td>\n      <td>0</td>\n      <td>0</td>\n      <td>0</td>\n    </tr>\n    <tr>\n      <th>18744</th>\n      <td>0</td>\n      <td>0</td>\n      <td>0</td>\n      <td>0</td>\n      <td>0</td>\n      <td>0</td>\n      <td>0</td>\n      <td>0</td>\n      <td>0</td>\n      <td>0</td>\n      <td>...</td>\n      <td>0</td>\n      <td>0</td>\n      <td>0</td>\n      <td>0</td>\n      <td>0</td>\n      <td>0</td>\n      <td>0</td>\n      <td>0</td>\n      <td>0</td>\n      <td>0</td>\n    </tr>\n    <tr>\n      <th>100360522</th>\n      <td>0</td>\n      <td>0</td>\n      <td>0</td>\n      <td>0</td>\n      <td>0</td>\n      <td>0</td>\n      <td>0</td>\n      <td>0</td>\n      <td>0</td>\n      <td>0</td>\n      <td>...</td>\n      <td>0</td>\n      <td>0</td>\n      <td>0</td>\n      <td>0</td>\n      <td>0</td>\n      <td>0</td>\n      <td>0</td>\n      <td>0</td>\n      <td>0</td>\n      <td>0</td>\n    </tr>\n  </tbody>\n</table>\n<p>22255 rows × 30 columns</p>\n</div>"
     },
     "metadata": {},
     "execution_count": 131
    }
   ],
   "source": [
    "# All nodes including no disease association\n",
    "node_classes"
   ]
  },
  {
   "cell_type": "code",
   "execution_count": 124,
   "metadata": {},
   "outputs": [],
   "source": [
    "diseased_node_classes.to_csv('data/diseased-proteins.csv')"
   ]
  },
  {
   "cell_type": "code",
   "execution_count": 133,
   "metadata": {},
   "outputs": [],
   "source": [
    "node_classes.to_csv('data/all-proteins.csv')"
   ]
  },
  {
   "cell_type": "code",
   "execution_count": 18,
   "metadata": {},
   "outputs": [],
   "source": [
    "disSet = set(diseased_classes.index)\n",
    "dis = [1 if node in disSet else 0 for node in node_classes.index]\n",
    "\n",
    "bin_nodes = node_classes.assign(diseased=dis)\n",
    "bin_nodes = bin_nodes[['diseased']]"
   ]
  },
  {
   "cell_type": "code",
   "execution_count": 21,
   "metadata": {},
   "outputs": [],
   "source": [
    "bin_nodes.to_csv('data/binary-classes.csv')"
   ]
  },
  {
   "source": [
    "**FANMOD Network Motif Analysis**"
   ],
   "cell_type": "markdown",
   "metadata": {}
  },
  {
   "cell_type": "code",
   "execution_count": 14,
   "metadata": {},
   "outputs": [],
   "source": [
    "# ppi = Graph.from_networkx(graph)\n",
    "# nx.write_gml(graph, 'ig-ppi')\n",
    "ppi = Graph.Read_GML('networks/ig-ppi')"
   ]
  },
  {
   "cell_type": "code",
   "execution_count": 7,
   "metadata": {},
   "outputs": [
    {
     "output_type": "execute_result",
     "data": {
      "text/plain": [
       "[nan, nan, 53217400, 2394644]"
      ]
     },
     "metadata": {},
     "execution_count": 7
    }
   ],
   "source": [
    "Graph.motifs_randesu(ppi, size=3)"
   ]
  },
  {
   "cell_type": "code",
   "execution_count": 15,
   "metadata": {},
   "outputs": [],
   "source": [
    "counts3 = Graph.motifs_randesu(ppi, size=3, cut_prob=[0.9,0.8,0.7])"
   ]
  },
  {
   "cell_type": "code",
   "execution_count": 16,
   "metadata": {},
   "outputs": [
    {
     "output_type": "stream",
     "name": "stdout",
     "text": [
      "2 312118\n3 17890\n"
     ]
    }
   ],
   "source": [
    "for i,c in enumerate(counts3):\n",
    "    if not np.isnan(c):\n",
    "        print(i, c)"
   ]
  },
  {
   "cell_type": "code",
   "execution_count": 17,
   "metadata": {},
   "outputs": [
    {
     "output_type": "execute_result",
     "data": {
      "text/plain": [
       "<igraph.drawing.Plot at 0x12967d2b0>"
      ],
      "image/svg+xml": "<?xml version=\"1.0\" encoding=\"UTF-8\"?>\n<svg xmlns=\"http://www.w3.org/2000/svg\" xmlns:xlink=\"http://www.w3.org/1999/xlink\" width=\"100pt\" height=\"100pt\" viewBox=\"0 0 100 100\" version=\"1.1\">\n<g id=\"surface2\">\n<rect x=\"0\" y=\"0\" width=\"100\" height=\"100\" style=\"fill:rgb(100%,100%,100%);fill-opacity:1;stroke:none;\"/>\n<path style=\"fill:none;stroke-width:1;stroke-linecap:butt;stroke-linejoin:miter;stroke:rgb(26.666667%,26.666667%,26.666667%);stroke-opacity:1;stroke-miterlimit:10;\" d=\"M 20 80 L 20 20 \"/>\n<path style=\"fill:none;stroke-width:1;stroke-linecap:butt;stroke-linejoin:miter;stroke:rgb(26.666667%,26.666667%,26.666667%);stroke-opacity:1;stroke-miterlimit:10;\" d=\"M 80 50 L 20 20 \"/>\n<path style=\"fill:none;stroke-width:1;stroke-linecap:butt;stroke-linejoin:miter;stroke:rgb(26.666667%,26.666667%,26.666667%);stroke-opacity:1;stroke-miterlimit:10;\" d=\"M 80 50 L 20 80 \"/>\n<path style=\"fill-rule:nonzero;fill:rgb(100%,0%,0%);fill-opacity:1;stroke-width:1;stroke-linecap:butt;stroke-linejoin:miter;stroke:rgb(0%,0%,0%);stroke-opacity:1;stroke-miterlimit:10;\" d=\"M 90 50 C 90 55.523438 85.523438 60 80 60 C 74.476562 60 70 55.523438 70 50 C 70 44.476562 74.476562 40 80 40 C 85.523438 40 90 44.476562 90 50 \"/>\n<path style=\"fill-rule:nonzero;fill:rgb(100%,0%,0%);fill-opacity:1;stroke-width:1;stroke-linecap:butt;stroke-linejoin:miter;stroke:rgb(0%,0%,0%);stroke-opacity:1;stroke-miterlimit:10;\" d=\"M 30 80 C 30 85.523438 25.523438 90 20 90 C 14.476562 90 10 85.523438 10 80 C 10 74.476562 14.476562 70 20 70 C 25.523438 70 30 74.476562 30 80 \"/>\n<path style=\"fill-rule:nonzero;fill:rgb(100%,0%,0%);fill-opacity:1;stroke-width:1;stroke-linecap:butt;stroke-linejoin:miter;stroke:rgb(0%,0%,0%);stroke-opacity:1;stroke-miterlimit:10;\" d=\"M 30 20 C 30 25.523438 25.523438 30 20 30 C 14.476562 30 10 25.523438 10 20 C 10 14.476562 14.476562 10 20 10 C 25.523438 10 30 14.476562 30 20 \"/>\n</g>\n</svg>\n"
     },
     "metadata": {
      "image/svg+xml": {
       "isolated": true
      }
     },
     "execution_count": 17
    }
   ],
   "source": [
    "g = Graph.Isoclass(3,3)\n",
    "ig.plot(g, bbox = (100, 100))"
   ]
  },
  {
   "cell_type": "code",
   "execution_count": 18,
   "metadata": {},
   "outputs": [
    {
     "output_type": "execute_result",
     "data": {
      "text/plain": [
       "<igraph.drawing.Plot at 0x12967dbe0>"
      ],
      "image/svg+xml": "<?xml version=\"1.0\" encoding=\"UTF-8\"?>\n<svg xmlns=\"http://www.w3.org/2000/svg\" xmlns:xlink=\"http://www.w3.org/1999/xlink\" width=\"100pt\" height=\"100pt\" viewBox=\"0 0 100 100\" version=\"1.1\">\n<g id=\"surface8\">\n<rect x=\"0\" y=\"0\" width=\"100\" height=\"100\" style=\"fill:rgb(100%,100%,100%);fill-opacity:1;stroke:none;\"/>\n<path style=\"fill:none;stroke-width:1;stroke-linecap:butt;stroke-linejoin:miter;stroke:rgb(26.666667%,26.666667%,26.666667%);stroke-opacity:1;stroke-miterlimit:10;\" d=\"M 50 50 L 20 20 \"/>\n<path style=\"fill:none;stroke-width:1;stroke-linecap:butt;stroke-linejoin:miter;stroke:rgb(26.666667%,26.666667%,26.666667%);stroke-opacity:1;stroke-miterlimit:10;\" d=\"M 50 50 L 80 80 \"/>\n<path style=\"fill-rule:nonzero;fill:rgb(100%,0%,0%);fill-opacity:1;stroke-width:1;stroke-linecap:butt;stroke-linejoin:miter;stroke:rgb(0%,0%,0%);stroke-opacity:1;stroke-miterlimit:10;\" d=\"M 60 50 C 60 55.523438 55.523438 60 50 60 C 44.476562 60 40 55.523438 40 50 C 40 44.476562 44.476562 40 50 40 C 55.523438 40 60 44.476562 60 50 \"/>\n<path style=\"fill-rule:nonzero;fill:rgb(100%,0%,0%);fill-opacity:1;stroke-width:1;stroke-linecap:butt;stroke-linejoin:miter;stroke:rgb(0%,0%,0%);stroke-opacity:1;stroke-miterlimit:10;\" d=\"M 90 80 C 90 85.523438 85.523438 90 80 90 C 74.476562 90 70 85.523438 70 80 C 70 74.476562 74.476562 70 80 70 C 85.523438 70 90 74.476562 90 80 \"/>\n<path style=\"fill-rule:nonzero;fill:rgb(100%,0%,0%);fill-opacity:1;stroke-width:1;stroke-linecap:butt;stroke-linejoin:miter;stroke:rgb(0%,0%,0%);stroke-opacity:1;stroke-miterlimit:10;\" d=\"M 30 20 C 30 25.523438 25.523438 30 20 30 C 14.476562 30 10 25.523438 10 20 C 10 14.476562 14.476562 10 20 10 C 25.523438 10 30 14.476562 30 20 \"/>\n</g>\n</svg>\n"
     },
     "metadata": {
      "image/svg+xml": {
       "isolated": true
      }
     },
     "execution_count": 18
    }
   ],
   "source": [
    "ig.plot(Graph.Isoclass(3,2), bbox=(100,100))"
   ]
  },
  {
   "cell_type": "code",
   "execution_count": 19,
   "metadata": {},
   "outputs": [
    {
     "output_type": "error",
     "ename": "KeyboardInterrupt",
     "evalue": "",
     "traceback": [
      "\u001b[0;31m---------------------------------------------------------------------------\u001b[0m",
      "\u001b[0;31mKeyboardInterrupt\u001b[0m                         Traceback (most recent call last)",
      "\u001b[0;32m<ipython-input-19-71af2f648fd6>\u001b[0m in \u001b[0;36m<module>\u001b[0;34m\u001b[0m\n\u001b[0;32m----> 1\u001b[0;31m \u001b[0mGraph\u001b[0m\u001b[0;34m.\u001b[0m\u001b[0mmotifs_randesu\u001b[0m\u001b[0;34m(\u001b[0m\u001b[0mppi\u001b[0m\u001b[0;34m,\u001b[0m \u001b[0msize\u001b[0m\u001b[0;34m=\u001b[0m\u001b[0;36m4\u001b[0m\u001b[0;34m)\u001b[0m\u001b[0;34m\u001b[0m\u001b[0;34m\u001b[0m\u001b[0m\n\u001b[0m",
      "\u001b[0;31mKeyboardInterrupt\u001b[0m: "
     ]
    }
   ],
   "source": [
    "Graph.motifs_randesu(ppi, size=4)"
   ]
  },
  {
   "source": [
    "counts = [nan, nan, nan, nan, 1208083, nan, 999766, 108835, 2808, 3837, 2144]"
   ],
   "cell_type": "markdown",
   "metadata": {}
  },
  {
   "cell_type": "code",
   "execution_count": 21,
   "metadata": {},
   "outputs": [
    {
     "output_type": "execute_result",
     "data": {
      "text/plain": [
       "[nan, nan, nan, nan, 1186866, nan, 934969, 99309, 2597, 3795, 1827]"
      ]
     },
     "metadata": {},
     "execution_count": 21
    }
   ],
   "source": [
    "counts4 = Graph.motifs_randesu(ppi, size=4, cut_prob=[0.9,0.8,0.7,0.5])\n",
    "counts4"
   ]
  },
  {
   "cell_type": "code",
   "execution_count": 22,
   "metadata": {},
   "outputs": [
    {
     "output_type": "stream",
     "name": "stdout",
     "text": [
      "4 1186866\n6 934969\n7 99309\n8 2597\n9 3795\n10 1827\n"
     ]
    }
   ],
   "source": [
    "for i,c in enumerate(counts4):\n",
    "    if not np.isnan(c):\n",
    "        print(i,c)"
   ]
  },
  {
   "cell_type": "code",
   "execution_count": 23,
   "metadata": {},
   "outputs": [
    {
     "output_type": "execute_result",
     "data": {
      "text/plain": [
       "<igraph.drawing.Plot at 0x129673f40>"
      ],
      "image/svg+xml": "<?xml version=\"1.0\" encoding=\"UTF-8\"?>\n<svg xmlns=\"http://www.w3.org/2000/svg\" xmlns:xlink=\"http://www.w3.org/1999/xlink\" width=\"100pt\" height=\"100pt\" viewBox=\"0 0 100 100\" version=\"1.1\">\n<g id=\"surface14\">\n<rect x=\"0\" y=\"0\" width=\"100\" height=\"100\" style=\"fill:rgb(100%,100%,100%);fill-opacity:1;stroke:none;\"/>\n<path style=\"fill:none;stroke-width:1;stroke-linecap:butt;stroke-linejoin:miter;stroke:rgb(26.666667%,26.666667%,26.666667%);stroke-opacity:1;stroke-miterlimit:10;\" d=\"M 58.292969 48.660156 L 80 20 \"/>\n<path style=\"fill:none;stroke-width:1;stroke-linecap:butt;stroke-linejoin:miter;stroke:rgb(26.666667%,26.666667%,26.666667%);stroke-opacity:1;stroke-miterlimit:10;\" d=\"M 58.292969 48.660156 L 20 45.984375 \"/>\n<path style=\"fill:none;stroke-width:1;stroke-linecap:butt;stroke-linejoin:miter;stroke:rgb(26.666667%,26.666667%,26.666667%);stroke-opacity:1;stroke-miterlimit:10;\" d=\"M 58.292969 48.660156 L 74.875 80 \"/>\n<path style=\"fill-rule:nonzero;fill:rgb(100%,0%,0%);fill-opacity:1;stroke-width:1;stroke-linecap:butt;stroke-linejoin:miter;stroke:rgb(0%,0%,0%);stroke-opacity:1;stroke-miterlimit:10;\" d=\"M 68.292969 48.660156 C 68.292969 54.183594 63.816406 58.660156 58.292969 58.660156 C 52.769531 58.660156 48.292969 54.183594 48.292969 48.660156 C 48.292969 43.140625 52.769531 38.660156 58.292969 38.660156 C 63.816406 38.660156 68.292969 43.140625 68.292969 48.660156 \"/>\n<path style=\"fill-rule:nonzero;fill:rgb(100%,0%,0%);fill-opacity:1;stroke-width:1;stroke-linecap:butt;stroke-linejoin:miter;stroke:rgb(0%,0%,0%);stroke-opacity:1;stroke-miterlimit:10;\" d=\"M 84.875 80 C 84.875 85.523438 80.398438 90 74.875 90 C 69.351562 90 64.875 85.523438 64.875 80 C 64.875 74.476562 69.351562 70 74.875 70 C 80.398438 70 84.875 74.476562 84.875 80 \"/>\n<path style=\"fill-rule:nonzero;fill:rgb(100%,0%,0%);fill-opacity:1;stroke-width:1;stroke-linecap:butt;stroke-linejoin:miter;stroke:rgb(0%,0%,0%);stroke-opacity:1;stroke-miterlimit:10;\" d=\"M 30 45.984375 C 30 51.507812 25.523438 55.984375 20 55.984375 C 14.476562 55.984375 10 51.507812 10 45.984375 C 10 40.460938 14.476562 35.984375 20 35.984375 C 25.523438 35.984375 30 40.460938 30 45.984375 \"/>\n<path style=\"fill-rule:nonzero;fill:rgb(100%,0%,0%);fill-opacity:1;stroke-width:1;stroke-linecap:butt;stroke-linejoin:miter;stroke:rgb(0%,0%,0%);stroke-opacity:1;stroke-miterlimit:10;\" d=\"M 90 20 C 90 25.523438 85.523438 30 80 30 C 74.476562 30 70 25.523438 70 20 C 70 14.476562 74.476562 10 80 10 C 85.523438 10 90 14.476562 90 20 \"/>\n</g>\n</svg>\n"
     },
     "metadata": {
      "image/svg+xml": {
       "isolated": true
      }
     },
     "execution_count": 23
    }
   ],
   "source": [
    "ig.plot(Graph.Isoclass(4,4), bbox=(100,100))"
   ]
  },
  {
   "cell_type": "code",
   "execution_count": 24,
   "metadata": {},
   "outputs": [
    {
     "output_type": "execute_result",
     "data": {
      "text/plain": [
       "<igraph.drawing.Plot at 0x129673250>"
      ],
      "image/svg+xml": "<?xml version=\"1.0\" encoding=\"UTF-8\"?>\n<svg xmlns=\"http://www.w3.org/2000/svg\" xmlns:xlink=\"http://www.w3.org/1999/xlink\" width=\"100pt\" height=\"100pt\" viewBox=\"0 0 100 100\" version=\"1.1\">\n<g id=\"surface20\">\n<rect x=\"0\" y=\"0\" width=\"100\" height=\"100\" style=\"fill:rgb(100%,100%,100%);fill-opacity:1;stroke:none;\"/>\n<path style=\"fill:none;stroke-width:1;stroke-linecap:butt;stroke-linejoin:miter;stroke:rgb(26.666667%,26.666667%,26.666667%);stroke-opacity:1;stroke-miterlimit:10;\" d=\"M 60 40 L 80 20 \"/>\n<path style=\"fill:none;stroke-width:1;stroke-linecap:butt;stroke-linejoin:miter;stroke:rgb(26.666667%,26.666667%,26.666667%);stroke-opacity:1;stroke-miterlimit:10;\" d=\"M 40 60 L 20 80 \"/>\n<path style=\"fill:none;stroke-width:1;stroke-linecap:butt;stroke-linejoin:miter;stroke:rgb(26.666667%,26.666667%,26.666667%);stroke-opacity:1;stroke-miterlimit:10;\" d=\"M 60 40 L 40 60 \"/>\n<path style=\"fill-rule:nonzero;fill:rgb(100%,0%,0%);fill-opacity:1;stroke-width:1;stroke-linecap:butt;stroke-linejoin:miter;stroke:rgb(0%,0%,0%);stroke-opacity:1;stroke-miterlimit:10;\" d=\"M 70 40 C 70 45.523438 65.523438 50 60 50 C 54.476562 50 50 45.523438 50 40 C 50 34.476562 54.476562 30 60 30 C 65.523438 30 70 34.476562 70 40 \"/>\n<path style=\"fill-rule:nonzero;fill:rgb(100%,0%,0%);fill-opacity:1;stroke-width:1;stroke-linecap:butt;stroke-linejoin:miter;stroke:rgb(0%,0%,0%);stroke-opacity:1;stroke-miterlimit:10;\" d=\"M 50 60 C 50 65.523438 45.523438 70 40 70 C 34.476562 70 30 65.523438 30 60 C 30 54.476562 34.476562 50 40 50 C 45.523438 50 50 54.476562 50 60 \"/>\n<path style=\"fill-rule:nonzero;fill:rgb(100%,0%,0%);fill-opacity:1;stroke-width:1;stroke-linecap:butt;stroke-linejoin:miter;stroke:rgb(0%,0%,0%);stroke-opacity:1;stroke-miterlimit:10;\" d=\"M 30 80 C 30 85.523438 25.523438 90 20 90 C 14.476562 90 10 85.523438 10 80 C 10 74.476562 14.476562 70 20 70 C 25.523438 70 30 74.476562 30 80 \"/>\n<path style=\"fill-rule:nonzero;fill:rgb(100%,0%,0%);fill-opacity:1;stroke-width:1;stroke-linecap:butt;stroke-linejoin:miter;stroke:rgb(0%,0%,0%);stroke-opacity:1;stroke-miterlimit:10;\" d=\"M 90 20 C 90 25.523438 85.523438 30 80 30 C 74.476562 30 70 25.523438 70 20 C 70 14.476562 74.476562 10 80 10 C 85.523438 10 90 14.476562 90 20 \"/>\n</g>\n</svg>\n"
     },
     "metadata": {
      "image/svg+xml": {
       "isolated": true
      }
     },
     "execution_count": 24
    }
   ],
   "source": [
    "ig.plot(Graph.Isoclass(4,6), bbox=(100,100))"
   ]
  },
  {
   "cell_type": "code",
   "execution_count": 25,
   "metadata": {},
   "outputs": [
    {
     "output_type": "execute_result",
     "data": {
      "text/plain": [
       "<igraph.drawing.Plot at 0x1296739d0>"
      ],
      "image/svg+xml": "<?xml version=\"1.0\" encoding=\"UTF-8\"?>\n<svg xmlns=\"http://www.w3.org/2000/svg\" xmlns:xlink=\"http://www.w3.org/1999/xlink\" width=\"100pt\" height=\"100pt\" viewBox=\"0 0 100 100\" version=\"1.1\">\n<g id=\"surface26\">\n<rect x=\"0\" y=\"0\" width=\"100\" height=\"100\" style=\"fill:rgb(100%,100%,100%);fill-opacity:1;stroke:none;\"/>\n<path style=\"fill:none;stroke-width:1;stroke-linecap:butt;stroke-linejoin:miter;stroke:rgb(26.666667%,26.666667%,26.666667%);stroke-opacity:1;stroke-miterlimit:10;\" d=\"M 63.207031 50.222656 L 78.511719 20 \"/>\n<path style=\"fill:none;stroke-width:1;stroke-linecap:butt;stroke-linejoin:miter;stroke:rgb(26.666667%,26.666667%,26.666667%);stroke-opacity:1;stroke-miterlimit:10;\" d=\"M 80 80 L 20 72.609375 \"/>\n<path style=\"fill:none;stroke-width:1;stroke-linecap:butt;stroke-linejoin:miter;stroke:rgb(26.666667%,26.666667%,26.666667%);stroke-opacity:1;stroke-miterlimit:10;\" d=\"M 63.207031 50.222656 L 20 72.609375 \"/>\n<path style=\"fill:none;stroke-width:1;stroke-linecap:butt;stroke-linejoin:miter;stroke:rgb(26.666667%,26.666667%,26.666667%);stroke-opacity:1;stroke-miterlimit:10;\" d=\"M 63.207031 50.222656 L 80 80 \"/>\n<path style=\"fill-rule:nonzero;fill:rgb(100%,0%,0%);fill-opacity:1;stroke-width:1;stroke-linecap:butt;stroke-linejoin:miter;stroke:rgb(0%,0%,0%);stroke-opacity:1;stroke-miterlimit:10;\" d=\"M 73.207031 50.222656 C 73.207031 55.742188 68.730469 60.222656 63.207031 60.222656 C 57.683594 60.222656 53.207031 55.742188 53.207031 50.222656 C 53.207031 44.699219 57.683594 40.222656 63.207031 40.222656 C 68.730469 40.222656 73.207031 44.699219 73.207031 50.222656 \"/>\n<path style=\"fill-rule:nonzero;fill:rgb(100%,0%,0%);fill-opacity:1;stroke-width:1;stroke-linecap:butt;stroke-linejoin:miter;stroke:rgb(0%,0%,0%);stroke-opacity:1;stroke-miterlimit:10;\" d=\"M 90 80 C 90 85.523438 85.523438 90 80 90 C 74.476562 90 70 85.523438 70 80 C 70 74.476562 74.476562 70 80 70 C 85.523438 70 90 74.476562 90 80 \"/>\n<path style=\"fill-rule:nonzero;fill:rgb(100%,0%,0%);fill-opacity:1;stroke-width:1;stroke-linecap:butt;stroke-linejoin:miter;stroke:rgb(0%,0%,0%);stroke-opacity:1;stroke-miterlimit:10;\" d=\"M 30 72.609375 C 30 78.132812 25.523438 82.609375 20 82.609375 C 14.476562 82.609375 10 78.132812 10 72.609375 C 10 67.085938 14.476562 62.609375 20 62.609375 C 25.523438 62.609375 30 67.085938 30 72.609375 \"/>\n<path style=\"fill-rule:nonzero;fill:rgb(100%,0%,0%);fill-opacity:1;stroke-width:1;stroke-linecap:butt;stroke-linejoin:miter;stroke:rgb(0%,0%,0%);stroke-opacity:1;stroke-miterlimit:10;\" d=\"M 88.511719 20 C 88.511719 25.523438 84.035156 30 78.511719 30 C 72.988281 30 68.511719 25.523438 68.511719 20 C 68.511719 14.476562 72.988281 10 78.511719 10 C 84.035156 10 88.511719 14.476562 88.511719 20 \"/>\n</g>\n</svg>\n"
     },
     "metadata": {
      "image/svg+xml": {
       "isolated": true
      }
     },
     "execution_count": 25
    }
   ],
   "source": [
    "ig.plot(Graph.Isoclass(4,7), bbox=(100,100))"
   ]
  },
  {
   "cell_type": "code",
   "execution_count": 26,
   "metadata": {},
   "outputs": [
    {
     "output_type": "execute_result",
     "data": {
      "text/plain": [
       "<igraph.drawing.Plot at 0x12967d880>"
      ],
      "image/svg+xml": "<?xml version=\"1.0\" encoding=\"UTF-8\"?>\n<svg xmlns=\"http://www.w3.org/2000/svg\" xmlns:xlink=\"http://www.w3.org/1999/xlink\" width=\"100pt\" height=\"100pt\" viewBox=\"0 0 100 100\" version=\"1.1\">\n<g id=\"surface32\">\n<rect x=\"0\" y=\"0\" width=\"100\" height=\"100\" style=\"fill:rgb(100%,100%,100%);fill-opacity:1;stroke:none;\"/>\n<path style=\"fill:none;stroke-width:1;stroke-linecap:butt;stroke-linejoin:miter;stroke:rgb(26.666667%,26.666667%,26.666667%);stroke-opacity:1;stroke-miterlimit:10;\" d=\"M 44.421875 80 L 55.578125 20 \"/>\n<path style=\"fill:none;stroke-width:1;stroke-linecap:butt;stroke-linejoin:miter;stroke:rgb(26.666667%,26.666667%,26.666667%);stroke-opacity:1;stroke-miterlimit:10;\" d=\"M 80 48.433594 L 55.578125 20 \"/>\n<path style=\"fill:none;stroke-width:1;stroke-linecap:butt;stroke-linejoin:miter;stroke:rgb(26.666667%,26.666667%,26.666667%);stroke-opacity:1;stroke-miterlimit:10;\" d=\"M 44.421875 80 L 20 51.566406 \"/>\n<path style=\"fill:none;stroke-width:1;stroke-linecap:butt;stroke-linejoin:miter;stroke:rgb(26.666667%,26.666667%,26.666667%);stroke-opacity:1;stroke-miterlimit:10;\" d=\"M 80 48.433594 L 20 51.566406 \"/>\n<path style=\"fill-rule:nonzero;fill:rgb(100%,0%,0%);fill-opacity:1;stroke-width:1;stroke-linecap:butt;stroke-linejoin:miter;stroke:rgb(0%,0%,0%);stroke-opacity:1;stroke-miterlimit:10;\" d=\"M 90 48.433594 C 90 53.957031 85.523438 58.433594 80 58.433594 C 74.476562 58.433594 70 53.957031 70 48.433594 C 70 42.914062 74.476562 38.433594 80 38.433594 C 85.523438 38.433594 90 42.914062 90 48.433594 \"/>\n<path style=\"fill-rule:nonzero;fill:rgb(100%,0%,0%);fill-opacity:1;stroke-width:1;stroke-linecap:butt;stroke-linejoin:miter;stroke:rgb(0%,0%,0%);stroke-opacity:1;stroke-miterlimit:10;\" d=\"M 54.421875 80 C 54.421875 85.523438 49.945312 90 44.421875 90 C 38.898438 90 34.421875 85.523438 34.421875 80 C 34.421875 74.476562 38.898438 70 44.421875 70 C 49.945312 70 54.421875 74.476562 54.421875 80 \"/>\n<path style=\"fill-rule:nonzero;fill:rgb(100%,0%,0%);fill-opacity:1;stroke-width:1;stroke-linecap:butt;stroke-linejoin:miter;stroke:rgb(0%,0%,0%);stroke-opacity:1;stroke-miterlimit:10;\" d=\"M 30 51.566406 C 30 57.085938 25.523438 61.566406 20 61.566406 C 14.476562 61.566406 10 57.085938 10 51.566406 C 10 46.042969 14.476562 41.566406 20 41.566406 C 25.523438 41.566406 30 46.042969 30 51.566406 \"/>\n<path style=\"fill-rule:nonzero;fill:rgb(100%,0%,0%);fill-opacity:1;stroke-width:1;stroke-linecap:butt;stroke-linejoin:miter;stroke:rgb(0%,0%,0%);stroke-opacity:1;stroke-miterlimit:10;\" d=\"M 65.578125 20 C 65.578125 25.523438 61.101562 30 55.578125 30 C 50.054688 30 45.578125 25.523438 45.578125 20 C 45.578125 14.476562 50.054688 10 55.578125 10 C 61.101562 10 65.578125 14.476562 65.578125 20 \"/>\n</g>\n</svg>\n"
     },
     "metadata": {
      "image/svg+xml": {
       "isolated": true
      }
     },
     "execution_count": 26
    }
   ],
   "source": [
    "ig.plot(Graph.Isoclass(4,8), bbox=(100,100))"
   ]
  },
  {
   "cell_type": "code",
   "execution_count": 27,
   "metadata": {},
   "outputs": [
    {
     "output_type": "execute_result",
     "data": {
      "text/plain": [
       "<igraph.drawing.Plot at 0x129673ca0>"
      ],
      "image/svg+xml": "<?xml version=\"1.0\" encoding=\"UTF-8\"?>\n<svg xmlns=\"http://www.w3.org/2000/svg\" xmlns:xlink=\"http://www.w3.org/1999/xlink\" width=\"100pt\" height=\"100pt\" viewBox=\"0 0 100 100\" version=\"1.1\">\n<g id=\"surface38\">\n<rect x=\"0\" y=\"0\" width=\"100\" height=\"100\" style=\"fill:rgb(100%,100%,100%);fill-opacity:1;stroke:none;\"/>\n<path style=\"fill:none;stroke-width:1;stroke-linecap:butt;stroke-linejoin:miter;stroke:rgb(26.666667%,26.666667%,26.666667%);stroke-opacity:1;stroke-miterlimit:10;\" d=\"M 55.296875 80 L 69.402344 20 \"/>\n<path style=\"fill:none;stroke-width:1;stroke-linecap:butt;stroke-linejoin:miter;stroke:rgb(26.666667%,26.666667%,26.666667%);stroke-opacity:1;stroke-miterlimit:10;\" d=\"M 80 58.015625 L 69.402344 20 \"/>\n<path style=\"fill:none;stroke-width:1;stroke-linecap:butt;stroke-linejoin:miter;stroke:rgb(26.666667%,26.666667%,26.666667%);stroke-opacity:1;stroke-miterlimit:10;\" d=\"M 55.296875 80 L 20 63.972656 \"/>\n<path style=\"fill:none;stroke-width:1;stroke-linecap:butt;stroke-linejoin:miter;stroke:rgb(26.666667%,26.666667%,26.666667%);stroke-opacity:1;stroke-miterlimit:10;\" d=\"M 80 58.015625 L 20 63.972656 \"/>\n<path style=\"fill:none;stroke-width:1;stroke-linecap:butt;stroke-linejoin:miter;stroke:rgb(26.666667%,26.666667%,26.666667%);stroke-opacity:1;stroke-miterlimit:10;\" d=\"M 80 58.015625 L 55.296875 80 \"/>\n<path style=\"fill-rule:nonzero;fill:rgb(100%,0%,0%);fill-opacity:1;stroke-width:1;stroke-linecap:butt;stroke-linejoin:miter;stroke:rgb(0%,0%,0%);stroke-opacity:1;stroke-miterlimit:10;\" d=\"M 90 58.015625 C 90 63.539062 85.523438 68.015625 80 68.015625 C 74.476562 68.015625 70 63.539062 70 58.015625 C 70 52.492188 74.476562 48.015625 80 48.015625 C 85.523438 48.015625 90 52.492188 90 58.015625 \"/>\n<path style=\"fill-rule:nonzero;fill:rgb(100%,0%,0%);fill-opacity:1;stroke-width:1;stroke-linecap:butt;stroke-linejoin:miter;stroke:rgb(0%,0%,0%);stroke-opacity:1;stroke-miterlimit:10;\" d=\"M 65.296875 80 C 65.296875 85.523438 60.820312 90 55.296875 90 C 49.773438 90 45.296875 85.523438 45.296875 80 C 45.296875 74.476562 49.773438 70 55.296875 70 C 60.820312 70 65.296875 74.476562 65.296875 80 \"/>\n<path style=\"fill-rule:nonzero;fill:rgb(100%,0%,0%);fill-opacity:1;stroke-width:1;stroke-linecap:butt;stroke-linejoin:miter;stroke:rgb(0%,0%,0%);stroke-opacity:1;stroke-miterlimit:10;\" d=\"M 30 63.972656 C 30 69.492188 25.523438 73.972656 20 73.972656 C 14.476562 73.972656 10 69.492188 10 63.972656 C 10 58.449219 14.476562 53.972656 20 53.972656 C 25.523438 53.972656 30 58.449219 30 63.972656 \"/>\n<path style=\"fill-rule:nonzero;fill:rgb(100%,0%,0%);fill-opacity:1;stroke-width:1;stroke-linecap:butt;stroke-linejoin:miter;stroke:rgb(0%,0%,0%);stroke-opacity:1;stroke-miterlimit:10;\" d=\"M 79.402344 20 C 79.402344 25.523438 74.925781 30 69.402344 30 C 63.882812 30 59.402344 25.523438 59.402344 20 C 59.402344 14.476562 63.882812 10 69.402344 10 C 74.925781 10 79.402344 14.476562 79.402344 20 \"/>\n</g>\n</svg>\n"
     },
     "metadata": {
      "image/svg+xml": {
       "isolated": true
      }
     },
     "execution_count": 27
    }
   ],
   "source": [
    "ig.plot(Graph.Isoclass(4,9), bbox=(100,100))"
   ]
  },
  {
   "cell_type": "code",
   "execution_count": 28,
   "metadata": {},
   "outputs": [
    {
     "output_type": "execute_result",
     "data": {
      "text/plain": [
       "<igraph.drawing.Plot at 0x12967d910>"
      ],
      "image/svg+xml": "<?xml version=\"1.0\" encoding=\"UTF-8\"?>\n<svg xmlns=\"http://www.w3.org/2000/svg\" xmlns:xlink=\"http://www.w3.org/1999/xlink\" width=\"100pt\" height=\"100pt\" viewBox=\"0 0 100 100\" version=\"1.1\">\n<g id=\"surface44\">\n<rect x=\"0\" y=\"0\" width=\"100\" height=\"100\" style=\"fill:rgb(100%,100%,100%);fill-opacity:1;stroke:none;\"/>\n<path style=\"fill:none;stroke-width:1;stroke-linecap:butt;stroke-linejoin:miter;stroke:rgb(26.666667%,26.666667%,26.666667%);stroke-opacity:1;stroke-miterlimit:10;\" d=\"M 20 49.464844 L 50.535156 20 \"/>\n<path style=\"fill:none;stroke-width:1;stroke-linecap:butt;stroke-linejoin:miter;stroke:rgb(26.666667%,26.666667%,26.666667%);stroke-opacity:1;stroke-miterlimit:10;\" d=\"M 49.464844 80 L 50.535156 20 \"/>\n<path style=\"fill:none;stroke-width:1;stroke-linecap:butt;stroke-linejoin:miter;stroke:rgb(26.666667%,26.666667%,26.666667%);stroke-opacity:1;stroke-miterlimit:10;\" d=\"M 80 50.535156 L 50.535156 20 \"/>\n<path style=\"fill:none;stroke-width:1;stroke-linecap:butt;stroke-linejoin:miter;stroke:rgb(26.666667%,26.666667%,26.666667%);stroke-opacity:1;stroke-miterlimit:10;\" d=\"M 49.464844 80 L 20 49.464844 \"/>\n<path style=\"fill:none;stroke-width:1;stroke-linecap:butt;stroke-linejoin:miter;stroke:rgb(26.666667%,26.666667%,26.666667%);stroke-opacity:1;stroke-miterlimit:10;\" d=\"M 80 50.535156 L 20 49.464844 \"/>\n<path style=\"fill:none;stroke-width:1;stroke-linecap:butt;stroke-linejoin:miter;stroke:rgb(26.666667%,26.666667%,26.666667%);stroke-opacity:1;stroke-miterlimit:10;\" d=\"M 80 50.535156 L 49.464844 80 \"/>\n<path style=\"fill-rule:nonzero;fill:rgb(100%,0%,0%);fill-opacity:1;stroke-width:1;stroke-linecap:butt;stroke-linejoin:miter;stroke:rgb(0%,0%,0%);stroke-opacity:1;stroke-miterlimit:10;\" d=\"M 90 50.535156 C 90 56.054688 85.523438 60.535156 80 60.535156 C 74.476562 60.535156 70 56.054688 70 50.535156 C 70 45.011719 74.476562 40.535156 80 40.535156 C 85.523438 40.535156 90 45.011719 90 50.535156 \"/>\n<path style=\"fill-rule:nonzero;fill:rgb(100%,0%,0%);fill-opacity:1;stroke-width:1;stroke-linecap:butt;stroke-linejoin:miter;stroke:rgb(0%,0%,0%);stroke-opacity:1;stroke-miterlimit:10;\" d=\"M 59.464844 80 C 59.464844 85.523438 54.988281 90 49.464844 90 C 43.945312 90 39.464844 85.523438 39.464844 80 C 39.464844 74.476562 43.945312 70 49.464844 70 C 54.988281 70 59.464844 74.476562 59.464844 80 \"/>\n<path style=\"fill-rule:nonzero;fill:rgb(100%,0%,0%);fill-opacity:1;stroke-width:1;stroke-linecap:butt;stroke-linejoin:miter;stroke:rgb(0%,0%,0%);stroke-opacity:1;stroke-miterlimit:10;\" d=\"M 30 49.464844 C 30 54.988281 25.523438 59.464844 20 59.464844 C 14.476562 59.464844 10 54.988281 10 49.464844 C 10 43.945312 14.476562 39.464844 20 39.464844 C 25.523438 39.464844 30 43.945312 30 49.464844 \"/>\n<path style=\"fill-rule:nonzero;fill:rgb(100%,0%,0%);fill-opacity:1;stroke-width:1;stroke-linecap:butt;stroke-linejoin:miter;stroke:rgb(0%,0%,0%);stroke-opacity:1;stroke-miterlimit:10;\" d=\"M 60.535156 20 C 60.535156 25.523438 56.054688 30 50.535156 30 C 45.011719 30 40.535156 25.523438 40.535156 20 C 40.535156 14.476562 45.011719 10 50.535156 10 C 56.054688 10 60.535156 14.476562 60.535156 20 \"/>\n</g>\n</svg>\n"
     },
     "metadata": {
      "image/svg+xml": {
       "isolated": true
      }
     },
     "execution_count": 28
    }
   ],
   "source": [
    "ig.plot(Graph.Isoclass(4,10), bbox=(100,100))"
   ]
  },
  {
   "cell_type": "code",
   "execution_count": 70,
   "metadata": {},
   "outputs": [],
   "source": [
    "motifDict = defaultdict(list)\n",
    "sampled_vertices = set()\n",
    "def counter(graph, vertices, motif):\n",
    "    motifDict[motif].append(vertices)\n",
    "    for v in vertices:\n",
    "        sampled_vertices.add(v)"
   ]
  },
  {
   "cell_type": "code",
   "execution_count": 74,
   "metadata": {
    "tags": []
   },
   "outputs": [],
   "source": [
    "Graph.motifs_randesu(ppi, size=4, cut_prob=[0.9,0.8,0.7,0.6], callback=counter)"
   ]
  },
  {
   "cell_type": "code",
   "execution_count": 75,
   "metadata": {},
   "outputs": [
    {
     "output_type": "stream",
     "name": "stdout",
     "text": [
      "motif  6 size  2461902\nmotif  4 size  2534151\nmotif  8 size  8383\nmotif  7 size  269873\nmotif  9 size  11094\nmotif  10 size  3793\n"
     ]
    }
   ],
   "source": [
    "for key in motifDict.keys():\n",
    "    print(\"motif \", key, \"size \", len(motifDict[key]))"
   ]
  },
  {
   "cell_type": "code",
   "execution_count": 76,
   "metadata": {},
   "outputs": [
    {
     "output_type": "execute_result",
     "data": {
      "text/plain": [
       "20570"
      ]
     },
     "metadata": {},
     "execution_count": 76
    }
   ],
   "source": [
    "len(sampled_vertices)"
   ]
  },
  {
   "source": [
    "## Protein motifs"
   ],
   "cell_type": "markdown",
   "metadata": {}
  },
  {
   "cell_type": "code",
   "execution_count": 29,
   "metadata": {},
   "outputs": [
    {
     "output_type": "execute_result",
     "data": {
      "text/plain": [
       "   Gene ID  Orbit Signature  Unnamed: 2  Unnamed: 3  Unnamed: 4  Unnamed: 5  \\\n",
       "0        1               12        1925          65           1      228182   \n",
       "1       10               24        4723         259          17      453121   \n",
       "2      100               32        5186         478          18      585573   \n",
       "3     1000               78       11189        2790         213     1332626   \n",
       "4    10000               76       11270        2624         226     1542635   \n",
       "\n",
       "   Unnamed: 6  Unnamed: 7  Unnamed: 8  Unnamed: 9  ...  Unnamed: 64  \\\n",
       "0       19497      280706         210         596  ...          142   \n",
       "1       95381     2467189        1678        1249  ...          279   \n",
       "2      141129     1444972        4449        2201  ...          656   \n",
       "3      694166     3827388       62206       10013  ...        15341   \n",
       "4      689984     1626042       55589       19746  ...        42472   \n",
       "\n",
       "   Unnamed: 65  Unnamed: 66  Unnamed: 67  Unnamed: 68  Unnamed: 69  \\\n",
       "0            0          120            0            0            0   \n",
       "1          244         1021           28            3           54   \n",
       "2          454        22088          553            8          301   \n",
       "3         9178       224983        17453         3911         5949   \n",
       "4        17290        25317        11970         2960        10240   \n",
       "\n",
       "   Unnamed: 70  Unnamed: 71  Unnamed: 72  Unnamed: 73  \n",
       "0            0            0            0            0  \n",
       "1            1            1            0            0  \n",
       "2            1          169            1            0  \n",
       "3          200         5929          552           96  \n",
       "4          366         1706          359           43  \n",
       "\n",
       "[5 rows x 74 columns]"
      ],
      "text/html": "<div>\n<style scoped>\n    .dataframe tbody tr th:only-of-type {\n        vertical-align: middle;\n    }\n\n    .dataframe tbody tr th {\n        vertical-align: top;\n    }\n\n    .dataframe thead th {\n        text-align: right;\n    }\n</style>\n<table border=\"1\" class=\"dataframe\">\n  <thead>\n    <tr style=\"text-align: right;\">\n      <th></th>\n      <th>Gene ID</th>\n      <th>Orbit Signature</th>\n      <th>Unnamed: 2</th>\n      <th>Unnamed: 3</th>\n      <th>Unnamed: 4</th>\n      <th>Unnamed: 5</th>\n      <th>Unnamed: 6</th>\n      <th>Unnamed: 7</th>\n      <th>Unnamed: 8</th>\n      <th>Unnamed: 9</th>\n      <th>...</th>\n      <th>Unnamed: 64</th>\n      <th>Unnamed: 65</th>\n      <th>Unnamed: 66</th>\n      <th>Unnamed: 67</th>\n      <th>Unnamed: 68</th>\n      <th>Unnamed: 69</th>\n      <th>Unnamed: 70</th>\n      <th>Unnamed: 71</th>\n      <th>Unnamed: 72</th>\n      <th>Unnamed: 73</th>\n    </tr>\n  </thead>\n  <tbody>\n    <tr>\n      <th>0</th>\n      <td>1</td>\n      <td>12</td>\n      <td>1925</td>\n      <td>65</td>\n      <td>1</td>\n      <td>228182</td>\n      <td>19497</td>\n      <td>280706</td>\n      <td>210</td>\n      <td>596</td>\n      <td>...</td>\n      <td>142</td>\n      <td>0</td>\n      <td>120</td>\n      <td>0</td>\n      <td>0</td>\n      <td>0</td>\n      <td>0</td>\n      <td>0</td>\n      <td>0</td>\n      <td>0</td>\n    </tr>\n    <tr>\n      <th>1</th>\n      <td>10</td>\n      <td>24</td>\n      <td>4723</td>\n      <td>259</td>\n      <td>17</td>\n      <td>453121</td>\n      <td>95381</td>\n      <td>2467189</td>\n      <td>1678</td>\n      <td>1249</td>\n      <td>...</td>\n      <td>279</td>\n      <td>244</td>\n      <td>1021</td>\n      <td>28</td>\n      <td>3</td>\n      <td>54</td>\n      <td>1</td>\n      <td>1</td>\n      <td>0</td>\n      <td>0</td>\n    </tr>\n    <tr>\n      <th>2</th>\n      <td>100</td>\n      <td>32</td>\n      <td>5186</td>\n      <td>478</td>\n      <td>18</td>\n      <td>585573</td>\n      <td>141129</td>\n      <td>1444972</td>\n      <td>4449</td>\n      <td>2201</td>\n      <td>...</td>\n      <td>656</td>\n      <td>454</td>\n      <td>22088</td>\n      <td>553</td>\n      <td>8</td>\n      <td>301</td>\n      <td>1</td>\n      <td>169</td>\n      <td>1</td>\n      <td>0</td>\n    </tr>\n    <tr>\n      <th>3</th>\n      <td>1000</td>\n      <td>78</td>\n      <td>11189</td>\n      <td>2790</td>\n      <td>213</td>\n      <td>1332626</td>\n      <td>694166</td>\n      <td>3827388</td>\n      <td>62206</td>\n      <td>10013</td>\n      <td>...</td>\n      <td>15341</td>\n      <td>9178</td>\n      <td>224983</td>\n      <td>17453</td>\n      <td>3911</td>\n      <td>5949</td>\n      <td>200</td>\n      <td>5929</td>\n      <td>552</td>\n      <td>96</td>\n    </tr>\n    <tr>\n      <th>4</th>\n      <td>10000</td>\n      <td>76</td>\n      <td>11270</td>\n      <td>2624</td>\n      <td>226</td>\n      <td>1542635</td>\n      <td>689984</td>\n      <td>1626042</td>\n      <td>55589</td>\n      <td>19746</td>\n      <td>...</td>\n      <td>42472</td>\n      <td>17290</td>\n      <td>25317</td>\n      <td>11970</td>\n      <td>2960</td>\n      <td>10240</td>\n      <td>366</td>\n      <td>1706</td>\n      <td>359</td>\n      <td>43</td>\n    </tr>\n  </tbody>\n</table>\n<p>5 rows × 74 columns</p>\n</div>"
     },
     "metadata": {},
     "execution_count": 29
    }
   ],
   "source": [
    "pmotifs.head()"
   ]
  },
  {
   "cell_type": "code",
   "execution_count": 30,
   "metadata": {},
   "outputs": [
    {
     "output_type": "execute_result",
     "data": {
      "text/plain": [
       "            Gene ID  Orbit Signature     Unnamed: 2    Unnamed: 3  \\\n",
       "count  2.255200e+04     22552.000000   22552.000000  2.255200e+04   \n",
       "mean   2.582002e+06        30.031571    4719.528201  2.359764e+03   \n",
       "std    1.547417e+07        66.969864    8662.697806  2.891876e+04   \n",
       "min    1.000000e+00         0.000000       0.000000  0.000000e+00   \n",
       "25%    8.534750e+03         2.000000     338.750000  0.000000e+00   \n",
       "50%    5.382850e+04         9.000000    1644.000000  2.800000e+01   \n",
       "75%    1.335645e+05        30.000000    5130.500000  3.820000e+02   \n",
       "max    1.028003e+08      2130.000000  128448.000000  2.255358e+06   \n",
       "\n",
       "         Unnamed: 4    Unnamed: 5    Unnamed: 6    Unnamed: 7    Unnamed: 8  \\\n",
       "count  22552.000000  2.255200e+04  2.255200e+04  2.255200e+04  2.255200e+04   \n",
       "mean     318.549663  5.197298e+05  5.197298e+05  1.305885e+06  4.352951e+05   \n",
       "std     1731.550422  9.626748e+05  3.913586e+06  2.054682e+06  1.626372e+07   \n",
       "min        0.000000  0.000000e+00  0.000000e+00  0.000000e+00  0.000000e+00   \n",
       "25%        0.000000  3.737325e+04  0.000000e+00  3.038100e+04  0.000000e+00   \n",
       "50%        3.000000  1.534095e+05  8.179500e+03  2.945340e+05  5.000000e+01   \n",
       "75%       44.000000  5.413622e+05  1.123032e+05  1.921222e+06  2.833250e+03   \n",
       "max    40639.000000  1.119295e+07  2.337301e+08  1.608145e+07  1.583236e+09   \n",
       "\n",
       "         Unnamed: 9  ...   Unnamed: 64   Unnamed: 65   Unnamed: 66  \\\n",
       "count  2.255200e+04  ...  2.255200e+04  2.255200e+04  2.255200e+04   \n",
       "mean   9.157916e+03  ...  6.815916e+04  6.815916e+04  1.575168e+05   \n",
       "std    5.126846e+04  ...  7.065086e+05  5.278503e+05  8.627215e+05   \n",
       "min    0.000000e+00  ...  0.000000e+00  0.000000e+00  0.000000e+00   \n",
       "25%    0.000000e+00  ...  0.000000e+00  0.000000e+00  0.000000e+00   \n",
       "50%    1.330000e+02  ...  9.000000e+00  1.000000e+00  1.210000e+02   \n",
       "75%    2.105000e+03  ...  1.077000e+03  9.952500e+02  1.054600e+04   \n",
       "max    2.652566e+06  ...  4.524413e+07  1.281856e+07  1.305796e+07   \n",
       "\n",
       "        Unnamed: 67   Unnamed: 68   Unnamed: 69   Unnamed: 70   Unnamed: 71  \\\n",
       "count  2.255200e+04  2.255200e+04  2.255200e+04  2.255200e+04  2.255200e+04   \n",
       "mean   3.150336e+05  3.150336e+05  3.787604e+04  9.469010e+03  7.943411e+04   \n",
       "std    2.240956e+06  3.644778e+06  2.972057e+05  1.159768e+05  5.880818e+05   \n",
       "min    0.000000e+00  0.000000e+00  0.000000e+00  0.000000e+00  0.000000e+00   \n",
       "25%    0.000000e+00  0.000000e+00  0.000000e+00  0.000000e+00  0.000000e+00   \n",
       "50%    0.000000e+00  0.000000e+00  0.000000e+00  0.000000e+00  0.000000e+00   \n",
       "75%    1.725250e+03  1.030000e+02  4.530000e+02  5.000000e+00  3.180000e+02   \n",
       "max    3.315589e+07  1.193462e+08  1.148420e+07  4.502431e+06  1.318002e+07   \n",
       "\n",
       "        Unnamed: 72   Unnamed: 73  \n",
       "count  2.255200e+04  2.255200e+04  \n",
       "mean   1.191512e+05  1.596120e+05  \n",
       "std    1.358247e+06  1.338064e+06  \n",
       "min    0.000000e+00  0.000000e+00  \n",
       "25%    0.000000e+00  0.000000e+00  \n",
       "50%    0.000000e+00  0.000000e+00  \n",
       "75%    2.800000e+01  9.000000e+00  \n",
       "max    3.436924e+07  2.731577e+07  \n",
       "\n",
       "[8 rows x 74 columns]"
      ],
      "text/html": "<div>\n<style scoped>\n    .dataframe tbody tr th:only-of-type {\n        vertical-align: middle;\n    }\n\n    .dataframe tbody tr th {\n        vertical-align: top;\n    }\n\n    .dataframe thead th {\n        text-align: right;\n    }\n</style>\n<table border=\"1\" class=\"dataframe\">\n  <thead>\n    <tr style=\"text-align: right;\">\n      <th></th>\n      <th>Gene ID</th>\n      <th>Orbit Signature</th>\n      <th>Unnamed: 2</th>\n      <th>Unnamed: 3</th>\n      <th>Unnamed: 4</th>\n      <th>Unnamed: 5</th>\n      <th>Unnamed: 6</th>\n      <th>Unnamed: 7</th>\n      <th>Unnamed: 8</th>\n      <th>Unnamed: 9</th>\n      <th>...</th>\n      <th>Unnamed: 64</th>\n      <th>Unnamed: 65</th>\n      <th>Unnamed: 66</th>\n      <th>Unnamed: 67</th>\n      <th>Unnamed: 68</th>\n      <th>Unnamed: 69</th>\n      <th>Unnamed: 70</th>\n      <th>Unnamed: 71</th>\n      <th>Unnamed: 72</th>\n      <th>Unnamed: 73</th>\n    </tr>\n  </thead>\n  <tbody>\n    <tr>\n      <th>count</th>\n      <td>2.255200e+04</td>\n      <td>22552.000000</td>\n      <td>22552.000000</td>\n      <td>2.255200e+04</td>\n      <td>22552.000000</td>\n      <td>2.255200e+04</td>\n      <td>2.255200e+04</td>\n      <td>2.255200e+04</td>\n      <td>2.255200e+04</td>\n      <td>2.255200e+04</td>\n      <td>...</td>\n      <td>2.255200e+04</td>\n      <td>2.255200e+04</td>\n      <td>2.255200e+04</td>\n      <td>2.255200e+04</td>\n      <td>2.255200e+04</td>\n      <td>2.255200e+04</td>\n      <td>2.255200e+04</td>\n      <td>2.255200e+04</td>\n      <td>2.255200e+04</td>\n      <td>2.255200e+04</td>\n    </tr>\n    <tr>\n      <th>mean</th>\n      <td>2.582002e+06</td>\n      <td>30.031571</td>\n      <td>4719.528201</td>\n      <td>2.359764e+03</td>\n      <td>318.549663</td>\n      <td>5.197298e+05</td>\n      <td>5.197298e+05</td>\n      <td>1.305885e+06</td>\n      <td>4.352951e+05</td>\n      <td>9.157916e+03</td>\n      <td>...</td>\n      <td>6.815916e+04</td>\n      <td>6.815916e+04</td>\n      <td>1.575168e+05</td>\n      <td>3.150336e+05</td>\n      <td>3.150336e+05</td>\n      <td>3.787604e+04</td>\n      <td>9.469010e+03</td>\n      <td>7.943411e+04</td>\n      <td>1.191512e+05</td>\n      <td>1.596120e+05</td>\n    </tr>\n    <tr>\n      <th>std</th>\n      <td>1.547417e+07</td>\n      <td>66.969864</td>\n      <td>8662.697806</td>\n      <td>2.891876e+04</td>\n      <td>1731.550422</td>\n      <td>9.626748e+05</td>\n      <td>3.913586e+06</td>\n      <td>2.054682e+06</td>\n      <td>1.626372e+07</td>\n      <td>5.126846e+04</td>\n      <td>...</td>\n      <td>7.065086e+05</td>\n      <td>5.278503e+05</td>\n      <td>8.627215e+05</td>\n      <td>2.240956e+06</td>\n      <td>3.644778e+06</td>\n      <td>2.972057e+05</td>\n      <td>1.159768e+05</td>\n      <td>5.880818e+05</td>\n      <td>1.358247e+06</td>\n      <td>1.338064e+06</td>\n    </tr>\n    <tr>\n      <th>min</th>\n      <td>1.000000e+00</td>\n      <td>0.000000</td>\n      <td>0.000000</td>\n      <td>0.000000e+00</td>\n      <td>0.000000</td>\n      <td>0.000000e+00</td>\n      <td>0.000000e+00</td>\n      <td>0.000000e+00</td>\n      <td>0.000000e+00</td>\n      <td>0.000000e+00</td>\n      <td>...</td>\n      <td>0.000000e+00</td>\n      <td>0.000000e+00</td>\n      <td>0.000000e+00</td>\n      <td>0.000000e+00</td>\n      <td>0.000000e+00</td>\n      <td>0.000000e+00</td>\n      <td>0.000000e+00</td>\n      <td>0.000000e+00</td>\n      <td>0.000000e+00</td>\n      <td>0.000000e+00</td>\n    </tr>\n    <tr>\n      <th>25%</th>\n      <td>8.534750e+03</td>\n      <td>2.000000</td>\n      <td>338.750000</td>\n      <td>0.000000e+00</td>\n      <td>0.000000</td>\n      <td>3.737325e+04</td>\n      <td>0.000000e+00</td>\n      <td>3.038100e+04</td>\n      <td>0.000000e+00</td>\n      <td>0.000000e+00</td>\n      <td>...</td>\n      <td>0.000000e+00</td>\n      <td>0.000000e+00</td>\n      <td>0.000000e+00</td>\n      <td>0.000000e+00</td>\n      <td>0.000000e+00</td>\n      <td>0.000000e+00</td>\n      <td>0.000000e+00</td>\n      <td>0.000000e+00</td>\n      <td>0.000000e+00</td>\n      <td>0.000000e+00</td>\n    </tr>\n    <tr>\n      <th>50%</th>\n      <td>5.382850e+04</td>\n      <td>9.000000</td>\n      <td>1644.000000</td>\n      <td>2.800000e+01</td>\n      <td>3.000000</td>\n      <td>1.534095e+05</td>\n      <td>8.179500e+03</td>\n      <td>2.945340e+05</td>\n      <td>5.000000e+01</td>\n      <td>1.330000e+02</td>\n      <td>...</td>\n      <td>9.000000e+00</td>\n      <td>1.000000e+00</td>\n      <td>1.210000e+02</td>\n      <td>0.000000e+00</td>\n      <td>0.000000e+00</td>\n      <td>0.000000e+00</td>\n      <td>0.000000e+00</td>\n      <td>0.000000e+00</td>\n      <td>0.000000e+00</td>\n      <td>0.000000e+00</td>\n    </tr>\n    <tr>\n      <th>75%</th>\n      <td>1.335645e+05</td>\n      <td>30.000000</td>\n      <td>5130.500000</td>\n      <td>3.820000e+02</td>\n      <td>44.000000</td>\n      <td>5.413622e+05</td>\n      <td>1.123032e+05</td>\n      <td>1.921222e+06</td>\n      <td>2.833250e+03</td>\n      <td>2.105000e+03</td>\n      <td>...</td>\n      <td>1.077000e+03</td>\n      <td>9.952500e+02</td>\n      <td>1.054600e+04</td>\n      <td>1.725250e+03</td>\n      <td>1.030000e+02</td>\n      <td>4.530000e+02</td>\n      <td>5.000000e+00</td>\n      <td>3.180000e+02</td>\n      <td>2.800000e+01</td>\n      <td>9.000000e+00</td>\n    </tr>\n    <tr>\n      <th>max</th>\n      <td>1.028003e+08</td>\n      <td>2130.000000</td>\n      <td>128448.000000</td>\n      <td>2.255358e+06</td>\n      <td>40639.000000</td>\n      <td>1.119295e+07</td>\n      <td>2.337301e+08</td>\n      <td>1.608145e+07</td>\n      <td>1.583236e+09</td>\n      <td>2.652566e+06</td>\n      <td>...</td>\n      <td>4.524413e+07</td>\n      <td>1.281856e+07</td>\n      <td>1.305796e+07</td>\n      <td>3.315589e+07</td>\n      <td>1.193462e+08</td>\n      <td>1.148420e+07</td>\n      <td>4.502431e+06</td>\n      <td>1.318002e+07</td>\n      <td>3.436924e+07</td>\n      <td>2.731577e+07</td>\n    </tr>\n  </tbody>\n</table>\n<p>8 rows × 74 columns</p>\n</div>"
     },
     "metadata": {},
     "execution_count": 30
    }
   ],
   "source": [
    "pmotifs.describe()"
   ]
  },
  {
   "cell_type": "code",
   "execution_count": 14,
   "metadata": {},
   "outputs": [],
   "source": [
    "import matplotlib.pyplot as plt"
   ]
  },
  {
   "cell_type": "code",
   "execution_count": 50,
   "metadata": {},
   "outputs": [
    {
     "output_type": "execute_result",
     "data": {
      "text/plain": [
       "(22255, 22255)"
      ]
     },
     "metadata": {},
     "execution_count": 50
    }
   ],
   "source": [
    "node_diseases = node_classes.sum(1)\n",
    "len(node_diseases.keys()), len(node_diseases.values)"
   ]
  },
  {
   "cell_type": "code",
   "execution_count": 13,
   "metadata": {},
   "outputs": [
    {
     "output_type": "execute_result",
     "data": {
      "text/plain": [
       "sudden infant death syndrome                 13\n",
       "psoriatic arthritis                          17\n",
       "hypospadias                                  19\n",
       "sleep disorder                               25\n",
       "bacterial infectious disease                 26\n",
       "ciliopathy                                   28\n",
       "parasitic infectious disease                 33\n",
       "congenital nervous system abnormality        35\n",
       "orofacial cleft                              45\n",
       "endocrine system disease                     88\n",
       "chromosomal disease                         109\n",
       "monogenic disease                           119\n",
       "substance-related disorder                  123\n",
       "cognitive disorder                          131\n",
       "polycystic ovary syndrome                   156\n",
       "viral infectious disease                    174\n",
       "reproductive system disease                 204\n",
       "inherited metabolic disorder                214\n",
       "developmental disorder of mental health     275\n",
       "respiratory system disease                  303\n",
       "integumentary system disease                353\n",
       "benign neoplasm                             362\n",
       "immune system disease                       375\n",
       "gastrointestinal system disease             466\n",
       "musculoskeletal system disease              522\n",
       "acquired metabolic disease                  600\n",
       "urinary system disease                      659\n",
       "cardiovascular system disease               854\n",
       "nervous system disease                     1313\n",
       "cancer                                     2312\n",
       "dtype: int64"
      ]
     },
     "metadata": {},
     "execution_count": 13
    }
   ],
   "source": [
    "class_size = node_classes.sum(0)\n",
    "class_size[np.argsort(class_size.values)]"
   ]
  },
  {
   "cell_type": "code",
   "execution_count": 55,
   "metadata": {},
   "outputs": [],
   "source": [
    "sorted_classes = class_size[np.argsort(class_size.values)]"
   ]
  },
  {
   "cell_type": "code",
   "execution_count": 57,
   "metadata": {},
   "outputs": [],
   "source": [
    "del sorted_classes['benign neoplasm']"
   ]
  },
  {
   "cell_type": "code",
   "execution_count": 58,
   "metadata": {},
   "outputs": [
    {
     "output_type": "execute_result",
     "data": {
      "text/plain": [
       "sudden infant death syndrome                 13\n",
       "psoriatic arthritis                          17\n",
       "hypospadias                                  19\n",
       "sleep disorder                               25\n",
       "bacterial infectious disease                 26\n",
       "ciliopathy                                   28\n",
       "parasitic infectious disease                 33\n",
       "congenital nervous system abnormality        35\n",
       "orofacial cleft                              45\n",
       "endocrine system disease                     88\n",
       "chromosomal disease                         109\n",
       "monogenic disease                           119\n",
       "substance-related disorder                  123\n",
       "cognitive disorder                          131\n",
       "polycystic ovary syndrome                   156\n",
       "viral infectious disease                    174\n",
       "reproductive system disease                 204\n",
       "inherited metabolic disorder                214\n",
       "developmental disorder of mental health     275\n",
       "respiratory system disease                  303\n",
       "integumentary system disease                353\n",
       "immune system disease                       375\n",
       "gastrointestinal system disease             466\n",
       "musculoskeletal system disease              522\n",
       "acquired metabolic disease                  600\n",
       "urinary system disease                      659\n",
       "cardiovascular system disease               854\n",
       "nervous system disease                     1313\n",
       "cancer                                     2312\n",
       "dtype: int64"
      ]
     },
     "metadata": {},
     "execution_count": 58
    }
   ],
   "source": [
    "sorted_classes"
   ]
  },
  {
   "cell_type": "code",
   "execution_count": 60,
   "metadata": {},
   "outputs": [],
   "source": [
    "largest = sorted_classes[-10:]"
   ]
  },
  {
   "cell_type": "code",
   "execution_count": 84,
   "metadata": {},
   "outputs": [],
   "source": [
    "simple_node_dis = node_classes[largest.index]"
   ]
  },
  {
   "cell_type": "code",
   "execution_count": 88,
   "metadata": {},
   "outputs": [
    {
     "output_type": "execute_result",
     "data": {
      "text/plain": [
       "       respiratory system disease  integumentary system disease  \\\n",
       "count                22255.000000                  22255.000000   \n",
       "mean                     0.013615                      0.015862   \n",
       "std                      0.115889                      0.124943   \n",
       "min                      0.000000                      0.000000   \n",
       "25%                      0.000000                      0.000000   \n",
       "50%                      0.000000                      0.000000   \n",
       "75%                      0.000000                      0.000000   \n",
       "max                      1.000000                      1.000000   \n",
       "\n",
       "       immune system disease  gastrointestinal system disease  \\\n",
       "count           22255.000000                     22255.000000   \n",
       "mean                0.016850                         0.020939   \n",
       "std                 0.128713                         0.143184   \n",
       "min                 0.000000                         0.000000   \n",
       "25%                 0.000000                         0.000000   \n",
       "50%                 0.000000                         0.000000   \n",
       "75%                 0.000000                         0.000000   \n",
       "max                 1.000000                         1.000000   \n",
       "\n",
       "       musculoskeletal system disease  acquired metabolic disease  \\\n",
       "count                    22255.000000                22255.000000   \n",
       "mean                         0.023455                    0.026960   \n",
       "std                          0.151348                    0.161971   \n",
       "min                          0.000000                    0.000000   \n",
       "25%                          0.000000                    0.000000   \n",
       "50%                          0.000000                    0.000000   \n",
       "75%                          0.000000                    0.000000   \n",
       "max                          1.000000                    1.000000   \n",
       "\n",
       "       urinary system disease  cardiovascular system disease  \\\n",
       "count            22255.000000                   22255.000000   \n",
       "mean                 0.029611                       0.038373   \n",
       "std                  0.169516                       0.192100   \n",
       "min                  0.000000                       0.000000   \n",
       "25%                  0.000000                       0.000000   \n",
       "50%                  0.000000                       0.000000   \n",
       "75%                  0.000000                       0.000000   \n",
       "max                  1.000000                       1.000000   \n",
       "\n",
       "       nervous system disease        cancer  \n",
       "count            22255.000000  22255.000000  \n",
       "mean                 0.058998      0.103887  \n",
       "std                  0.235626      0.305120  \n",
       "min                  0.000000      0.000000  \n",
       "25%                  0.000000      0.000000  \n",
       "50%                  0.000000      0.000000  \n",
       "75%                  0.000000      0.000000  \n",
       "max                  1.000000      1.000000  "
      ],
      "text/html": "<div>\n<style scoped>\n    .dataframe tbody tr th:only-of-type {\n        vertical-align: middle;\n    }\n\n    .dataframe tbody tr th {\n        vertical-align: top;\n    }\n\n    .dataframe thead th {\n        text-align: right;\n    }\n</style>\n<table border=\"1\" class=\"dataframe\">\n  <thead>\n    <tr style=\"text-align: right;\">\n      <th></th>\n      <th>respiratory system disease</th>\n      <th>integumentary system disease</th>\n      <th>immune system disease</th>\n      <th>gastrointestinal system disease</th>\n      <th>musculoskeletal system disease</th>\n      <th>acquired metabolic disease</th>\n      <th>urinary system disease</th>\n      <th>cardiovascular system disease</th>\n      <th>nervous system disease</th>\n      <th>cancer</th>\n    </tr>\n  </thead>\n  <tbody>\n    <tr>\n      <th>count</th>\n      <td>22255.000000</td>\n      <td>22255.000000</td>\n      <td>22255.000000</td>\n      <td>22255.000000</td>\n      <td>22255.000000</td>\n      <td>22255.000000</td>\n      <td>22255.000000</td>\n      <td>22255.000000</td>\n      <td>22255.000000</td>\n      <td>22255.000000</td>\n    </tr>\n    <tr>\n      <th>mean</th>\n      <td>0.013615</td>\n      <td>0.015862</td>\n      <td>0.016850</td>\n      <td>0.020939</td>\n      <td>0.023455</td>\n      <td>0.026960</td>\n      <td>0.029611</td>\n      <td>0.038373</td>\n      <td>0.058998</td>\n      <td>0.103887</td>\n    </tr>\n    <tr>\n      <th>std</th>\n      <td>0.115889</td>\n      <td>0.124943</td>\n      <td>0.128713</td>\n      <td>0.143184</td>\n      <td>0.151348</td>\n      <td>0.161971</td>\n      <td>0.169516</td>\n      <td>0.192100</td>\n      <td>0.235626</td>\n      <td>0.305120</td>\n    </tr>\n    <tr>\n      <th>min</th>\n      <td>0.000000</td>\n      <td>0.000000</td>\n      <td>0.000000</td>\n      <td>0.000000</td>\n      <td>0.000000</td>\n      <td>0.000000</td>\n      <td>0.000000</td>\n      <td>0.000000</td>\n      <td>0.000000</td>\n      <td>0.000000</td>\n    </tr>\n    <tr>\n      <th>25%</th>\n      <td>0.000000</td>\n      <td>0.000000</td>\n      <td>0.000000</td>\n      <td>0.000000</td>\n      <td>0.000000</td>\n      <td>0.000000</td>\n      <td>0.000000</td>\n      <td>0.000000</td>\n      <td>0.000000</td>\n      <td>0.000000</td>\n    </tr>\n    <tr>\n      <th>50%</th>\n      <td>0.000000</td>\n      <td>0.000000</td>\n      <td>0.000000</td>\n      <td>0.000000</td>\n      <td>0.000000</td>\n      <td>0.000000</td>\n      <td>0.000000</td>\n      <td>0.000000</td>\n      <td>0.000000</td>\n      <td>0.000000</td>\n    </tr>\n    <tr>\n      <th>75%</th>\n      <td>0.000000</td>\n      <td>0.000000</td>\n      <td>0.000000</td>\n      <td>0.000000</td>\n      <td>0.000000</td>\n      <td>0.000000</td>\n      <td>0.000000</td>\n      <td>0.000000</td>\n      <td>0.000000</td>\n      <td>0.000000</td>\n    </tr>\n    <tr>\n      <th>max</th>\n      <td>1.000000</td>\n      <td>1.000000</td>\n      <td>1.000000</td>\n      <td>1.000000</td>\n      <td>1.000000</td>\n      <td>1.000000</td>\n      <td>1.000000</td>\n      <td>1.000000</td>\n      <td>1.000000</td>\n      <td>1.000000</td>\n    </tr>\n  </tbody>\n</table>\n</div>"
     },
     "metadata": {},
     "execution_count": 88
    }
   ],
   "source": [
    "simple_node_dis.describe()"
   ]
  },
  {
   "cell_type": "code",
   "execution_count": 103,
   "metadata": {},
   "outputs": [],
   "source": [
    "simple_node_dis.to_csv('data/simple-all-proteins.csv')"
   ]
  },
  {
   "cell_type": "code",
   "execution_count": 104,
   "metadata": {},
   "outputs": [],
   "source": [
    "simple_dis = diseased_classes[largest.index]"
   ]
  },
  {
   "cell_type": "code",
   "execution_count": 105,
   "metadata": {},
   "outputs": [],
   "source": [
    "simple_dis.to_csv('data/simple-diseased-proteins.csv')"
   ]
  },
  {
   "cell_type": "code",
   "execution_count": null,
   "metadata": {},
   "outputs": [],
   "source": []
  }
 ]
}