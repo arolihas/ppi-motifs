{
 "cells": [
  {
   "cell_type": "code",
   "execution_count": 10,
   "metadata": {
    "id": "otj7xRWgJz00"
   },
   "outputs": [],
   "source": [
    "import numpy as np\n",
    "import scipy.sparse as sp\n",
    "import networkx as nx\n",
    "import pandas as pd\n",
    "from texttable import Texttable\n",
    "from tqdm import tqdm\n",
    "from networkx.generators.atlas import *\n",
    "import igraph as ig\n",
    "from igraph import Graph\n",
    "from collections import defaultdict\n",
    "import cairocffi"
   ]
  },
  {
   "cell_type": "code",
   "execution_count": 11,
   "metadata": {
    "id": "HE5HxulKJ0wQ"
   },
   "outputs": [],
   "source": [
    "G = ig.Graph.Read_GML('./networks/full-ppi')"
   ]
  },
  {
   "cell_type": "code",
   "execution_count": 12,
   "metadata": {
    "id": "sPlg-6W0odww"
   },
   "outputs": [],
   "source": [
    "class MotifCounter():\n",
    "\n",
    "    def __init__(self, graph, size, cut_prob):\n",
    "        self.graph = graph\n",
    "        self.size = size\n",
    "        self.motifDict = defaultdict(list)\n",
    "        self.cut_prob = cut_prob\n",
    "\n",
    "    def counter(self, graph, vertices, motif):\n",
    "        self.motifDict[motif].append(vertices)\n",
    "\n",
    "    def count(self):\n",
    "        Graph.motifs_randesu(self.graph, size=self.size, cut_prob=self.cut_prob, callback = self.counter)\n",
    "\n",
    "    def enumerate_categories(self):\n",
    "        main_index = 0\n",
    "        self.orbital_position = dict()\n",
    "        for index,key in enumerate(self.motifDict.keys()):\n",
    "            self.orbital_position[key] = dict()\n",
    "            degrees = set(Graph.Isoclass(self.size, key).degree())\n",
    "            for degree in degrees:\n",
    "                self.orbital_position[key][degree] = main_index\n",
    "                main_index = main_index + 1\n",
    "        self.unique_motif_count = main_index\n",
    "\n",
    "    def count_orbital_position(self):\n",
    "        self.features = {node['label']: {i:0 for i in range(self.unique_motif_count)} for node in self.graph.vs}\n",
    "        for size, node_lists in self.motifDict.items():\n",
    "            for nodes in tqdm(node_lists):\n",
    "                subgraph = self.graph.induced_subgraph(nodes, \"create_from_scratch\")\n",
    "                subgraph = subgraph.simplify()\n",
    "                degrees = subgraph.degree()\n",
    "                for idx, v in enumerate(subgraph.vs):\n",
    "                    degree = degrees[idx]\n",
    "                    position = self.orbital_position[size][degree]\n",
    "                    self.features[v['label']][position] += 1\n",
    "                    \n",
    "    def create_tabular_motifs(self):\n",
    "         self.motifs = [[n['label']]+[self.features[n['label']][i] for i in  range(self.unique_motif_count)] for n in self.graph.vs()]\n",
    "         self.motifs = pd.DataFrame(self.motifs)\n",
    "         self.motifs.columns = [\"id\"] + [\"role_\"+str(index) for index in range(self.unique_motif_count)]"
   ]
  },
  {
   "cell_type": "code",
   "execution_count": 19,
   "metadata": {
    "id": "YHaa2I4vkMDK"
   },
   "outputs": [],
   "source": [
    "model = MotifCounter(G, 4 , [0.5,0.5,0.5, 0.5])\n",
    "model.count()\n",
    "model.enumerate_categories()"
   ]
  },
  {
   "cell_type": "code",
   "execution_count": 20,
   "metadata": {
    "colab": {
     "base_uri": "https://localhost:8080/"
    },
    "id": "FuIjBEQW68fc",
    "outputId": "0ea00958-3937-420c-ef37-b784461976c1"
   },
   "outputs": [
    {
     "data": {
      "text/plain": [
       "{6: {1: 0, 2: 1},\n",
       " 8: {2: 2},\n",
       " 4: {1: 3, 3: 4},\n",
       " 7: {1: 5, 2: 6, 3: 7},\n",
       " 9: {2: 8, 3: 9},\n",
       " 10: {3: 10}}"
      ]
     },
     "execution_count": 20,
     "metadata": {},
     "output_type": "execute_result"
    }
   ],
   "source": [
    "model.orbital_position"
   ]
  },
  {
   "cell_type": "code",
   "execution_count": 21,
   "metadata": {
    "colab": {
     "base_uri": "https://localhost:8080/"
    },
    "id": "kMWzhsu4qyC6",
    "outputId": "47d1b6b7-2e96-44b8-966d-4a1ae9e5d162"
   },
   "outputs": [
    {
     "name": "stderr",
     "output_type": "stream",
     "text": [
      "100%|███████████████████████████████████████████████████████████████████| 11339138/11339138 [07:23<00:00, 25556.79it/s]\n",
      "100%|█████████████████████████████████████████████████████████████████████████| 27111/27111 [00:01<00:00, 26119.37it/s]\n",
      "100%|███████████████████████████████████████████████████████████████████| 12690109/12690109 [07:55<00:00, 26660.95it/s]\n",
      "100%|█████████████████████████████████████████████████████████████████████| 1052546/1052546 [00:40<00:00, 25738.49it/s]\n",
      "100%|█████████████████████████████████████████████████████████████████████████| 33667/33667 [00:01<00:00, 27261.60it/s]\n",
      "100%|█████████████████████████████████████████████████████████████████████████| 13975/13975 [00:00<00:00, 23971.54it/s]\n"
     ]
    }
   ],
   "source": [
    "model.count_orbital_position()"
   ]
  },
  {
   "cell_type": "code",
   "execution_count": 22,
   "metadata": {
    "id": "y_qMH6GFujQU"
   },
   "outputs": [],
   "source": [
    "model.create_tabular_motifs()"
   ]
  },
  {
   "cell_type": "code",
   "execution_count": 23,
   "metadata": {
    "colab": {
     "base_uri": "https://localhost:8080/",
     "height": 406
    },
    "id": "IrtQMn4p7yHW",
    "outputId": "67175c59-a139-440d-f5e8-9a264802f1c6"
   },
   "outputs": [
    {
     "data": {
      "text/html": [
       "<div>\n",
       "<style scoped>\n",
       "    .dataframe tbody tr th:only-of-type {\n",
       "        vertical-align: middle;\n",
       "    }\n",
       "\n",
       "    .dataframe tbody tr th {\n",
       "        vertical-align: top;\n",
       "    }\n",
       "\n",
       "    .dataframe thead th {\n",
       "        text-align: right;\n",
       "    }\n",
       "</style>\n",
       "<table border=\"1\" class=\"dataframe\">\n",
       "  <thead>\n",
       "    <tr style=\"text-align: right;\">\n",
       "      <th></th>\n",
       "      <th>id</th>\n",
       "      <th>role_0</th>\n",
       "      <th>role_1</th>\n",
       "      <th>role_2</th>\n",
       "      <th>role_3</th>\n",
       "      <th>role_4</th>\n",
       "      <th>role_5</th>\n",
       "      <th>role_6</th>\n",
       "      <th>role_7</th>\n",
       "      <th>role_8</th>\n",
       "      <th>role_9</th>\n",
       "      <th>role_10</th>\n",
       "    </tr>\n",
       "  </thead>\n",
       "  <tbody>\n",
       "    <tr>\n",
       "      <th>0</th>\n",
       "      <td>1394</td>\n",
       "      <td>6090</td>\n",
       "      <td>198</td>\n",
       "      <td>5</td>\n",
       "      <td>3861</td>\n",
       "      <td>10</td>\n",
       "      <td>148</td>\n",
       "      <td>0</td>\n",
       "      <td>0</td>\n",
       "      <td>0</td>\n",
       "      <td>0</td>\n",
       "      <td>0</td>\n",
       "    </tr>\n",
       "    <tr>\n",
       "      <th>1</th>\n",
       "      <td>2778</td>\n",
       "      <td>16828</td>\n",
       "      <td>4757</td>\n",
       "      <td>14</td>\n",
       "      <td>6346</td>\n",
       "      <td>1400</td>\n",
       "      <td>930</td>\n",
       "      <td>144</td>\n",
       "      <td>74</td>\n",
       "      <td>0</td>\n",
       "      <td>3</td>\n",
       "      <td>0</td>\n",
       "    </tr>\n",
       "    <tr>\n",
       "      <th>2</th>\n",
       "      <td>6331</td>\n",
       "      <td>5310</td>\n",
       "      <td>1461</td>\n",
       "      <td>8</td>\n",
       "      <td>1916</td>\n",
       "      <td>182</td>\n",
       "      <td>63</td>\n",
       "      <td>0</td>\n",
       "      <td>5</td>\n",
       "      <td>0</td>\n",
       "      <td>0</td>\n",
       "      <td>0</td>\n",
       "    </tr>\n",
       "    <tr>\n",
       "      <th>3</th>\n",
       "      <td>17999</td>\n",
       "      <td>1</td>\n",
       "      <td>0</td>\n",
       "      <td>0</td>\n",
       "      <td>10</td>\n",
       "      <td>0</td>\n",
       "      <td>0</td>\n",
       "      <td>0</td>\n",
       "      <td>0</td>\n",
       "      <td>0</td>\n",
       "      <td>0</td>\n",
       "      <td>0</td>\n",
       "    </tr>\n",
       "    <tr>\n",
       "      <th>4</th>\n",
       "      <td>122704</td>\n",
       "      <td>10</td>\n",
       "      <td>0</td>\n",
       "      <td>0</td>\n",
       "      <td>0</td>\n",
       "      <td>0</td>\n",
       "      <td>0</td>\n",
       "      <td>0</td>\n",
       "      <td>0</td>\n",
       "      <td>0</td>\n",
       "      <td>0</td>\n",
       "      <td>0</td>\n",
       "    </tr>\n",
       "    <tr>\n",
       "      <th>...</th>\n",
       "      <td>...</td>\n",
       "      <td>...</td>\n",
       "      <td>...</td>\n",
       "      <td>...</td>\n",
       "      <td>...</td>\n",
       "      <td>...</td>\n",
       "      <td>...</td>\n",
       "      <td>...</td>\n",
       "      <td>...</td>\n",
       "      <td>...</td>\n",
       "      <td>...</td>\n",
       "      <td>...</td>\n",
       "    </tr>\n",
       "    <tr>\n",
       "      <th>21552</th>\n",
       "      <td>19400</td>\n",
       "      <td>1</td>\n",
       "      <td>0</td>\n",
       "      <td>0</td>\n",
       "      <td>0</td>\n",
       "      <td>0</td>\n",
       "      <td>0</td>\n",
       "      <td>0</td>\n",
       "      <td>0</td>\n",
       "      <td>0</td>\n",
       "      <td>0</td>\n",
       "      <td>0</td>\n",
       "    </tr>\n",
       "    <tr>\n",
       "      <th>21553</th>\n",
       "      <td>81918</td>\n",
       "      <td>37</td>\n",
       "      <td>0</td>\n",
       "      <td>0</td>\n",
       "      <td>255</td>\n",
       "      <td>0</td>\n",
       "      <td>2</td>\n",
       "      <td>0</td>\n",
       "      <td>0</td>\n",
       "      <td>0</td>\n",
       "      <td>0</td>\n",
       "      <td>0</td>\n",
       "    </tr>\n",
       "    <tr>\n",
       "      <th>21554</th>\n",
       "      <td>139378</td>\n",
       "      <td>20</td>\n",
       "      <td>0</td>\n",
       "      <td>0</td>\n",
       "      <td>28</td>\n",
       "      <td>0</td>\n",
       "      <td>0</td>\n",
       "      <td>0</td>\n",
       "      <td>0</td>\n",
       "      <td>0</td>\n",
       "      <td>0</td>\n",
       "      <td>0</td>\n",
       "    </tr>\n",
       "    <tr>\n",
       "      <th>21555</th>\n",
       "      <td>18744</td>\n",
       "      <td>138</td>\n",
       "      <td>0</td>\n",
       "      <td>0</td>\n",
       "      <td>1550</td>\n",
       "      <td>0</td>\n",
       "      <td>2</td>\n",
       "      <td>0</td>\n",
       "      <td>0</td>\n",
       "      <td>0</td>\n",
       "      <td>0</td>\n",
       "      <td>0</td>\n",
       "    </tr>\n",
       "    <tr>\n",
       "      <th>21556</th>\n",
       "      <td>100360522</td>\n",
       "      <td>1</td>\n",
       "      <td>0</td>\n",
       "      <td>0</td>\n",
       "      <td>0</td>\n",
       "      <td>0</td>\n",
       "      <td>0</td>\n",
       "      <td>0</td>\n",
       "      <td>0</td>\n",
       "      <td>0</td>\n",
       "      <td>0</td>\n",
       "      <td>0</td>\n",
       "    </tr>\n",
       "  </tbody>\n",
       "</table>\n",
       "<p>21557 rows × 12 columns</p>\n",
       "</div>"
      ],
      "text/plain": [
       "              id  role_0  role_1  role_2  role_3  role_4  role_5  role_6  \\\n",
       "0           1394    6090     198       5    3861      10     148       0   \n",
       "1           2778   16828    4757      14    6346    1400     930     144   \n",
       "2           6331    5310    1461       8    1916     182      63       0   \n",
       "3          17999       1       0       0      10       0       0       0   \n",
       "4         122704      10       0       0       0       0       0       0   \n",
       "...          ...     ...     ...     ...     ...     ...     ...     ...   \n",
       "21552      19400       1       0       0       0       0       0       0   \n",
       "21553      81918      37       0       0     255       0       2       0   \n",
       "21554     139378      20       0       0      28       0       0       0   \n",
       "21555      18744     138       0       0    1550       0       2       0   \n",
       "21556  100360522       1       0       0       0       0       0       0   \n",
       "\n",
       "       role_7  role_8  role_9  role_10  \n",
       "0           0       0       0        0  \n",
       "1          74       0       3        0  \n",
       "2           5       0       0        0  \n",
       "3           0       0       0        0  \n",
       "4           0       0       0        0  \n",
       "...       ...     ...     ...      ...  \n",
       "21552       0       0       0        0  \n",
       "21553       0       0       0        0  \n",
       "21554       0       0       0        0  \n",
       "21555       0       0       0        0  \n",
       "21556       0       0       0        0  \n",
       "\n",
       "[21557 rows x 12 columns]"
      ]
     },
     "execution_count": 23,
     "metadata": {},
     "output_type": "execute_result"
    }
   ],
   "source": [
    "model.motifs"
   ]
  },
  {
   "cell_type": "code",
   "execution_count": 24,
   "metadata": {
    "id": "qiIQdwMW83ug"
   },
   "outputs": [],
   "source": [
    "model.motifs.to_csv('subsampling_4.csv')"
   ]
  },
  {
   "cell_type": "code",
   "execution_count": null,
   "metadata": {},
   "outputs": [],
   "source": []
  }
 ],
 "metadata": {
  "colab": {
   "collapsed_sections": [],
   "name": "subsampled motifs_dectection.ipynb",
   "provenance": []
  },
  "kernelspec": {
   "display_name": "Python 3",
   "language": "python",
   "name": "python3"
  },
  "language_info": {
   "codemirror_mode": {
    "name": "ipython",
    "version": 3
   },
   "file_extension": ".py",
   "mimetype": "text/x-python",
   "name": "python",
   "nbconvert_exporter": "python",
   "pygments_lexer": "ipython3",
   "version": "3.6.10"
  },
  "toc": {
   "base_numbering": 1,
   "nav_menu": {},
   "number_sections": true,
   "sideBar": true,
   "skip_h1_title": false,
   "title_cell": "Table of Contents",
   "title_sidebar": "Contents",
   "toc_cell": false,
   "toc_position": {},
   "toc_section_display": true,
   "toc_window_display": false
  },
  "varInspector": {
   "cols": {
    "lenName": 16,
    "lenType": 16,
    "lenVar": 40
   },
   "kernels_config": {
    "python": {
     "delete_cmd_postfix": "",
     "delete_cmd_prefix": "del ",
     "library": "var_list.py",
     "varRefreshCmd": "print(var_dic_list())"
    },
    "r": {
     "delete_cmd_postfix": ") ",
     "delete_cmd_prefix": "rm(",
     "library": "var_list.r",
     "varRefreshCmd": "cat(var_dic_list()) "
    }
   },
   "types_to_exclude": [
    "module",
    "function",
    "builtin_function_or_method",
    "instance",
    "_Feature"
   ],
   "window_display": false
  }
 },
 "nbformat": 4,
 "nbformat_minor": 1
}
