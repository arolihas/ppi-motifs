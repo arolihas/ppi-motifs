{
 "cells": [
  {
   "cell_type": "code",
   "execution_count": 10,
   "metadata": {
    "id": "uVfTMTu0SLVP"
   },
   "outputs": [],
   "source": [
    "import numpy as np\n",
    "import scipy.sparse as sp\n",
    "import networkx as nx\n",
    "import pandas as pd\n",
    "from texttable import Texttable\n",
    "from tqdm import tqdm\n",
    "from networkx.generators.atlas import *"
   ]
  },
  {
   "cell_type": "markdown",
   "metadata": {
    "id": "-4VFlLEc18dP"
   },
   "source": [
    "# Read dataset \n",
    "\n",
    "Import original dataset for EDA from:\n",
    " http://psb.stanford.edu/psb-online/proceedings/psb18/agrawal.pdf\n",
    "\n",
    " Disease pathways have the power to illuminate molecular mechanisms but their discovery is a challenging computational task. It involves identifying all disease-associated proteins, grouping the proteins into a pathway, and analyzing how the pathway is connected to the disease at molecular and clinical levels.\n",
    "\n",
    "Broadly, a disease pathway in the PPI network is a system of interacting proteins whose atypical activity collectively produces some disease phenotype. \n",
    "\n",
    "Methods for disease protein discovery predict candidate disease proteins using the PPI network and known proteins associated with a specific disease. Predicted disease proteins can be grouped into a disease pathway to study molecular disease mechanisms.\n",
    "\n"
   ]
  },
  {
   "cell_type": "markdown",
   "metadata": {
    "id": "kVCvILbQ3_SS"
   },
   "source": [
    "### Protein-disease associations\n",
    "\n",
    "A protein-disease association is a tuple (u, d) indicating that alteration of protein . is linked to disease .. Protein-disease associations are pulled from DisGeNET, a platform that centralized the knowledge on Mendelian and complex diseases. We examine over 21,000 protein-disease associations, which are split among the 519 diseases that each has at least 10 disease proteins. The diseases range greatly in complexity and scope; the median number of associations per disease is 21, but the more complex diseases, e.g., cancers, have hundreds of associations."
   ]
  },
  {
   "cell_type": "code",
   "execution_count": 11,
   "metadata": {
    "colab": {
     "base_uri": "https://localhost:8080/",
     "height": 111
    },
    "id": "a3jd9PH209Cg",
    "outputId": "a6756350-d482-40d5-e022-3abf4720c49d"
   },
   "outputs": [
    {
     "data": {
      "text/html": [
       "<div>\n",
       "<style scoped>\n",
       "    .dataframe tbody tr th:only-of-type {\n",
       "        vertical-align: middle;\n",
       "    }\n",
       "\n",
       "    .dataframe tbody tr th {\n",
       "        vertical-align: top;\n",
       "    }\n",
       "\n",
       "    .dataframe thead th {\n",
       "        text-align: right;\n",
       "    }\n",
       "</style>\n",
       "<table border=\"1\" class=\"dataframe\">\n",
       "  <thead>\n",
       "    <tr style=\"text-align: right;\">\n",
       "      <th></th>\n",
       "      <th>Disease ID</th>\n",
       "      <th>Disease Name</th>\n",
       "      <th>Associated Gene IDs</th>\n",
       "    </tr>\n",
       "  </thead>\n",
       "  <tbody>\n",
       "    <tr>\n",
       "      <th>0</th>\n",
       "      <td>C0036095</td>\n",
       "      <td>Salivary Gland Neoplasms</td>\n",
       "      <td>1462, 1612, 182, 2011, 2019, 2175, 2195, 23209...</td>\n",
       "    </tr>\n",
       "    <tr>\n",
       "      <th>1</th>\n",
       "      <td>C0033941</td>\n",
       "      <td>Psychoses, Substance-Induced</td>\n",
       "      <td>135, 1636, 207, 2099, 2912, 2950, 3350, 3362, ...</td>\n",
       "    </tr>\n",
       "  </tbody>\n",
       "</table>\n",
       "</div>"
      ],
      "text/plain": [
       "  Disease ID                  Disease Name  \\\n",
       "0   C0036095      Salivary Gland Neoplasms   \n",
       "1   C0033941  Psychoses, Substance-Induced   \n",
       "\n",
       "                                 Associated Gene IDs  \n",
       "0  1462, 1612, 182, 2011, 2019, 2175, 2195, 23209...  \n",
       "1  135, 1636, 207, 2099, 2912, 2950, 3350, 3362, ...  "
      ]
     },
     "execution_count": 11,
     "metadata": {},
     "output_type": "execute_result"
    }
   ],
   "source": [
    "# Protein-disease associations\n",
    "df_assoc = pd.read_csv('./data/bio-pathways-associations.csv')\n",
    "df_assoc.head(2)"
   ]
  },
  {
   "cell_type": "code",
   "execution_count": 12,
   "metadata": {
    "colab": {
     "base_uri": "https://localhost:8080/",
     "height": 34
    },
    "id": "UGIT3TnR8pI_",
    "outputId": "ba5449a6-dfa4-4556-da15-2b4a2e3f47a1"
   },
   "outputs": [
    {
     "name": "stdout",
     "output_type": "stream",
     "text": [
      "The number of disease is 519\n"
     ]
    }
   ],
   "source": [
    "print(f'The number of disease is {len(df_assoc.index)}')"
   ]
  },
  {
   "cell_type": "markdown",
   "metadata": {
    "id": "6g2xSGN54JMa"
   },
   "source": [
    "### Disease categories\n",
    "\n",
    "Diseases are subdivided into categories and subcategories using the Disease Ontology. The diseases in the ontology are each mapped to one or more Unified Medical Language System (UMLS) codes, and of the 519 diseases pulled from DisGeNET, 290 have a UMLS code that maps to one of the codes in the ontology. For the purposes of this study, we examine the second-level of the ontology; this level consists of 10 categories, such as cancers (68 diseases), nervous system diseases (44), cardiovascular system diseases (33), and immune system diseases (21)."
   ]
  },
  {
   "cell_type": "code",
   "execution_count": 13,
   "metadata": {
    "colab": {
     "base_uri": "https://localhost:8080/",
     "height": 374
    },
    "id": "Tb4XwWBg1qlx",
    "outputId": "8301b72f-57d7-4515-d677-d0ff34930f8c"
   },
   "outputs": [
    {
     "name": "stdout",
     "output_type": "stream",
     "text": [
      "  Disease ID              Disease Name                  Disease Class\n",
      "0   C0023903           Liver neoplasms                         cancer\n",
      "1   C0018798  Congenital Heart Defects  cardiovascular system disease\n",
      "\n",
      "\n",
      "['cancer' 'cardiovascular system disease' 'acquired metabolic disease'\n",
      " 'respiratory system disease' 'immune system disease'\n",
      " 'integumentary system disease' 'sleep disorder' 'urinary system disease'\n",
      " 'orofacial cleft' 'gastrointestinal system disease'\n",
      " 'substance-related disorder' 'polycystic ovary syndrome'\n",
      " 'nervous system disease' 'bacterial infectious disease'\n",
      " 'monogenic disease' 'musculoskeletal system disease' 'benign neoplasm'\n",
      " 'inherited metabolic disorder' 'parasitic infectious disease'\n",
      " 'viral infectious disease' 'sudden infant death syndrome'\n",
      " 'endocrine system disease' 'congenital nervous system abnormality'\n",
      " 'developmental disorder of mental health' 'psoriatic arthritis'\n",
      " 'cognitive disorder' 'chromosomal disease' 'reproductive system disease'\n",
      " 'hypospadias' 'ciliopathy']\n",
      "\n",
      "\n",
      "The number of disease class is 30\n"
     ]
    }
   ],
   "source": [
    "# Disease ID - Name - Class\n",
    "df_dc = pd.read_csv('./data/bio-pathways-diseaseclasses.csv')\n",
    "size = len(df_dc['Disease Class'].unique())\n",
    "print(df_dc.head(2))\n",
    "print('\\n')\n",
    "print(df_dc['Disease Class'].unique())\n",
    "print('\\n')\n",
    "print(f'The number of disease class is {size}')"
   ]
  },
  {
   "cell_type": "markdown",
   "metadata": {
    "id": "sVV6eWFk4uCw"
   },
   "source": [
    "### Proximity of disease proteins in the PPI network\n",
    "\n",
    "Several features, detail found in the original paper\n"
   ]
  },
  {
   "cell_type": "code",
   "execution_count": 14,
   "metadata": {
    "colab": {
     "base_uri": "https://localhost:8080/",
     "height": 162
    },
    "id": "j7mDM2KO12ji",
    "outputId": "4ed3c514-5380-449d-bf5f-3004ac35c173"
   },
   "outputs": [
    {
     "data": {
      "text/html": [
       "<div>\n",
       "<style scoped>\n",
       "    .dataframe tbody tr th:only-of-type {\n",
       "        vertical-align: middle;\n",
       "    }\n",
       "\n",
       "    .dataframe tbody tr th {\n",
       "        vertical-align: top;\n",
       "    }\n",
       "\n",
       "    .dataframe thead th {\n",
       "        text-align: right;\n",
       "    }\n",
       "</style>\n",
       "<table border=\"1\" class=\"dataframe\">\n",
       "  <thead>\n",
       "    <tr style=\"text-align: right;\">\n",
       "      <th></th>\n",
       "      <th>Disease ID</th>\n",
       "      <th>Disease Name</th>\n",
       "      <th>Size of largest pathway component</th>\n",
       "      <th>Density of pathway</th>\n",
       "      <th>Network Modularity</th>\n",
       "      <th>Distance of Pathway Components</th>\n",
       "      <th>Spatial Network Association</th>\n",
       "    </tr>\n",
       "  </thead>\n",
       "  <tbody>\n",
       "    <tr>\n",
       "      <th>0</th>\n",
       "      <td>C0036095</td>\n",
       "      <td>Salivary Gland Neoplasms</td>\n",
       "      <td>0.088889</td>\n",
       "      <td>0.019192</td>\n",
       "      <td>-0.006214</td>\n",
       "      <td>2.925300</td>\n",
       "      <td>0.404333</td>\n",
       "    </tr>\n",
       "    <tr>\n",
       "      <th>1</th>\n",
       "      <td>C0033941</td>\n",
       "      <td>Psychoses, Substance-Induced</td>\n",
       "      <td>0.352941</td>\n",
       "      <td>0.117647</td>\n",
       "      <td>-0.008137</td>\n",
       "      <td>2.840909</td>\n",
       "      <td>0.256645</td>\n",
       "    </tr>\n",
       "  </tbody>\n",
       "</table>\n",
       "</div>"
      ],
      "text/plain": [
       "  Disease ID                  Disease Name  Size of largest pathway component  \\\n",
       "0   C0036095      Salivary Gland Neoplasms                           0.088889   \n",
       "1   C0033941  Psychoses, Substance-Induced                           0.352941   \n",
       "\n",
       "   Density of pathway  Network Modularity  Distance of Pathway Components  \\\n",
       "0            0.019192           -0.006214                        2.925300   \n",
       "1            0.117647           -0.008137                        2.840909   \n",
       "\n",
       "   Spatial Network Association  \n",
       "0                     0.404333  \n",
       "1                     0.256645  "
      ]
     },
     "execution_count": 14,
     "metadata": {},
     "output_type": "execute_result"
    }
   ],
   "source": [
    "# Disease id network features\n",
    "df_f = pd.read_csv('./data/bio-pathways-features.csv')\n",
    "df_f.head(2)"
   ]
  },
  {
   "cell_type": "markdown",
   "metadata": {
    "id": "3oVSFipu6k8U"
   },
   "source": [
    "### Other data\n",
    "\n",
    "\n",
    "\n",
    "*  List of interactions between genes\n",
    "*  List of motifs from disease\n",
    "*  List of motifs from genes\n",
    "\n",
    "\n",
    "The analysis of higher-order PPI network structure can be formalized by counting network motifs, which are subgraphs that recur within a larger network. We here focus on graphlets connected non-isomorphic induced subgraphs.\n",
    "\n",
    "There are 30 possible graphlets of size 2 to 5 nodes. The simplest graphlet is just two nodes connected by an edge, and the most complex graphlet is a clique of size 5. By taking into account the symmetries between nodes in a graphlet, there are 73 different positions or orbits for 2–5-node graphlets, numerated from 0 to 72. For each node in the PPI network we count the number of orbits that the node touches. Motif signature of a protein is thus a set of 73 numbers, hi (. = 0, 1, …, 72) representing the number of induced subgraphs the corresponding node is in, in which the node took the .-th orbital position. We use this signature to represent protein’s higher-order connectivity in the PPI network.\n"
   ]
  },
  {
   "cell_type": "code",
   "execution_count": 15,
   "metadata": {
    "colab": {
     "base_uri": "https://localhost:8080/",
     "height": 119
    },
    "id": "1fHSXFMe13tM",
    "outputId": "ff7c70dd-60a1-4e91-e3f8-04e4c991b06b"
   },
   "outputs": [
    {
     "name": "stdout",
     "output_type": "stream",
     "text": [
      "   Gene ID 1  Gene ID 2\n",
      "0       1394       2778\n",
      "1       6331      17999\n",
      "\n",
      "\n",
      "The number of gene interaction is 342353\n"
     ]
    }
   ],
   "source": [
    "# Edge list between gene\n",
    "df_n = pd.read_csv('./data/bio-pathways-network.csv')\n",
    "print(df_n.head(2))\n",
    "print('\\n')\n",
    "print(f'The number of gene interaction is {len(df_n.index)}')"
   ]
  },
  {
   "cell_type": "code",
   "execution_count": 16,
   "metadata": {
    "colab": {
     "base_uri": "https://localhost:8080/",
     "height": 34
    },
    "id": "ctG2ihMM1tJk",
    "outputId": "ea5242ab-a754-48cf-b849-a5d45112a360"
   },
   "outputs": [
    {
     "name": "stdout",
     "output_type": "stream",
     "text": [
      "The number of gene is 22552\n"
     ]
    }
   ],
   "source": [
    "# Disease ID to motifs \n",
    "df_dm = pd.read_csv('./data/bio-pathways-diseasemotifs.csv')\n",
    "\n",
    "# Gene ID to motifs \n",
    "df_pm = pd.read_csv('./data/bio-pathways-proteinmotifs.csv')\n",
    "\n",
    "print(f'The number of gene is {len(df_pm.index)}')"
   ]
  },
  {
   "cell_type": "markdown",
   "metadata": {
    "id": "L6AAwn4v7sOp"
   },
   "source": [
    "# Motifs detection \n",
    "\n",
    "FANMOD: https://github.com/gtremper/Network-Motif/tree/master/fanmod python wrapper for command-line fanmod\n",
    "\n",
    "NemoFinder: \n"
   ]
  },
  {
   "cell_type": "code",
   "execution_count": 17,
   "metadata": {
    "id": "vkHQN1fIU0ZA"
   },
   "outputs": [],
   "source": [
    "# Utility functions\n",
    "\n",
    "def load_graph(graph_path):\n",
    "    \"\"\"\n",
    "    Reading an egde list csv as an NX graph object.\n",
    "    :param graph_path: Path to the edgelist.\n",
    "    :return graph: Networkx Object.\n",
    "    \"\"\"\n",
    "    graph = nx.from_edgelist(pd.read_csv(graph_path).values.tolist())\n",
    "    graph.remove_edges_from(nx.selfloop_edges(graph))\n",
    "    return graph\n",
    "\n",
    "class MotifCounterMachine(object):\n",
    "    \"\"\"\n",
    "    Connected motif orbital role counter.\n",
    "    \"\"\"\n",
    "    def __init__(self, graph, graphlet_size, output):\n",
    "        \"\"\"\n",
    "        Creating an orbital role counter machine.\n",
    "        :param graph: NetworkX graph.\n",
    "        :param args: Arguments object.\n",
    "        \"\"\"\n",
    "        self.graph = graph\n",
    "        self.output = output\n",
    "        self.graphlet_size = graphlet_size\n",
    "\n",
    "    def create_edge_subsets(self):\n",
    "        \"\"\"\n",
    "        Enumerating connected subgraphs with size 2 up to the graphlet size.\n",
    "        \"\"\"\n",
    "        print(\"\\nEnumerating subgraphs.\\n\")\n",
    "        self.edge_subsets = dict()\n",
    "        subsets = [[edge[0], edge[1]] for edge in self.graph.edges()]\n",
    "        self.edge_subsets[2] = subsets\n",
    "        unique_subsets = dict()\n",
    "        for i in range(3, self.graphlet_size+1):\n",
    "            print(\"Enumerating graphlets with size: \" +str(i) + \".\")\n",
    "            for subset in tqdm(subsets):\n",
    "                for node in subset:\n",
    "                    for neb in self.graph.neighbors(node):\n",
    "                        new_subset = subset+[neb]\n",
    "                        if len(set(new_subset)) == i:\n",
    "                            new_subset.sort()\n",
    "                            unique_subsets[tuple(new_subset)] = 1\n",
    "            subsets = [list(k) for k, v in unique_subsets.items()]\n",
    "            self.edge_subsets[i] = subsets\n",
    "            unique_subsets = dict()\n",
    "\n",
    "    def enumerate_graphs(self):\n",
    "        \"\"\"\n",
    "        Creating a hash table of the benchmark motifs.\n",
    "        \"\"\"\n",
    "        graphs = graph_atlas_g()\n",
    "        self.interesting_graphs = {i: [] for i in range(2, self.graphlet_size+1)}\n",
    "        for graph in graphs:\n",
    "            if graph.number_of_nodes() > 1 and graph.number_of_nodes() < self.graphlet_size+1:\n",
    "                if nx.is_connected(graph):\n",
    "                    self.interesting_graphs[graph.number_of_nodes()].append(graph)\n",
    "\n",
    "    def enumerate_categories(self):\n",
    "        \"\"\"\n",
    "        Creating a hash table of benchmark orbital roles.\n",
    "        \"\"\"\n",
    "        main_index = 0\n",
    "        self.categories = dict()\n",
    "        for size, graphs in self.interesting_graphs.items():\n",
    "            self.categories[size] = dict()\n",
    "            for index, graph in enumerate(graphs):\n",
    "                self.categories[size][index] = dict()\n",
    "                degrees = list(set([graph.degree(node) for node in graph.nodes()]))\n",
    "                for degree in degrees:\n",
    "                    self.categories[size][index][degree] = main_index\n",
    "                    main_index = main_index + 1\n",
    "        self.unique_motif_count = main_index + 1\n",
    "\n",
    "    def setup_features(self):\n",
    "        \"\"\"\n",
    "        Counting all the orbital roles.\n",
    "        \"\"\"\n",
    "        print(\"\\nCounting orbital roles.\\n\")\n",
    "        self.features = {node: {i:0 for i in range(self.unique_motif_count)}for node in self.graph.nodes()}\n",
    "        for size, node_lists in self.edge_subsets.items():\n",
    "            graphs = self.interesting_graphs[size]\n",
    "            for nodes in tqdm(node_lists):\n",
    "                sub_gr = self.graph.subgraph(nodes)\n",
    "                for index, graph in enumerate(graphs):\n",
    "                    if nx.is_isomorphic(sub_gr, graph):\n",
    "                        for node in sub_gr.nodes():\n",
    "                            self.features[node][self.categories[size][index][sub_gr.degree(node)]] += 1\n",
    "                        break\n",
    "\n",
    "    def create_tabular_motifs(self):\n",
    "        \"\"\"\n",
    "        Creating a table with the orbital role features.\n",
    "        \"\"\"\n",
    "        print(\"Saving the dataset.\")\n",
    "        self.binned_features = {node: [] for node in self.graph.nodes()}\n",
    "        self.motifs = [[n]+[self.features[n][i] for i in  range(self.unique_motif_count)] for n in self.graph.nodes()]\n",
    "        self.motifs = pd.DataFrame(self.motifs)\n",
    "        self.motifs.columns = [\"id\"] + [\"role_\"+str(index) for index in range(self.unique_motif_count)]\n",
    "        self.motifs.to_csv(self.output, index=None)\n",
    "\n",
    "    def extract_features(self):\n",
    "        \"\"\"\n",
    "        Executing steps for feature extraction.\n",
    "        \"\"\"\n",
    "        self.create_edge_subsets()\n",
    "        self.enumerate_graphs()\n",
    "        self.enumerate_categories()\n",
    "        self.setup_features()\n",
    "        self.create_tabular_motifs()"
   ]
  },
  {
   "cell_type": "code",
   "execution_count": 18,
   "metadata": {
    "colab": {
     "base_uri": "https://localhost:8080/",
     "height": 102
    },
    "id": "G2dgx5CEVMkc",
    "outputId": "e1289a95-53a2-417d-a5e9-e1327f5de736"
   },
   "outputs": [
    {
     "name": "stdout",
     "output_type": "stream",
     "text": [
      "\n",
      "Enumerating subgraphs.\n",
      "\n"
     ]
    },
    {
     "name": "stderr",
     "output_type": "stream",
     "text": [
      "  0%|                                                                           | 277/338636 [00:00<02:03, 2742.89it/s]"
     ]
    },
    {
     "name": "stdout",
     "output_type": "stream",
     "text": [
      "Enumerating graphlets with size: 3.\n"
     ]
    },
    {
     "name": "stderr",
     "output_type": "stream",
     "text": [
      "100%|████████████████████████████████████████████████████████████████████████| 338636/338636 [03:39<00:00, 1544.01it/s]\n",
      "  0%|                                                                             | 76/338636 [00:00<07:38, 737.99it/s]"
     ]
    },
    {
     "name": "stdout",
     "output_type": "stream",
     "text": [
      "\n",
      "Counting orbital roles.\n",
      "\n"
     ]
    },
    {
     "name": "stderr",
     "output_type": "stream",
     "text": [
      "100%|█████████████████████████████████████████████████████████████████████████| 338636/338636 [09:15<00:00, 609.21it/s]\n",
      "  2%|▉                                                                 | 836692/55612044 [1:03:38<69:26:17, 219.12it/s]\n"
     ]
    },
    {
     "ename": "KeyboardInterrupt",
     "evalue": "",
     "output_type": "error",
     "traceback": [
      "\u001b[1;31m---------------------------------------------------------------------------\u001b[0m",
      "\u001b[1;31mKeyboardInterrupt\u001b[0m                         Traceback (most recent call last)",
      "\u001b[1;32m<ipython-input-18-c64420b94187>\u001b[0m in \u001b[0;36m<module>\u001b[1;34m\u001b[0m\n\u001b[0;32m      2\u001b[0m \u001b[0mG\u001b[0m \u001b[1;33m=\u001b[0m \u001b[0mload_graph\u001b[0m\u001b[1;33m(\u001b[0m\u001b[0mgraph_path\u001b[0m\u001b[1;33m)\u001b[0m\u001b[1;33m\u001b[0m\u001b[1;33m\u001b[0m\u001b[0m\n\u001b[0;32m      3\u001b[0m \u001b[0mmodel\u001b[0m \u001b[1;33m=\u001b[0m \u001b[0mMotifCounterMachine\u001b[0m\u001b[1;33m(\u001b[0m\u001b[0mG\u001b[0m\u001b[1;33m,\u001b[0m \u001b[1;36m3\u001b[0m\u001b[1;33m,\u001b[0m \u001b[1;34m'result3.csv'\u001b[0m\u001b[1;33m)\u001b[0m\u001b[1;33m\u001b[0m\u001b[1;33m\u001b[0m\u001b[0m\n\u001b[1;32m----> 4\u001b[1;33m \u001b[0mmodel\u001b[0m\u001b[1;33m.\u001b[0m\u001b[0mextract_features\u001b[0m\u001b[1;33m(\u001b[0m\u001b[1;33m)\u001b[0m\u001b[1;33m\u001b[0m\u001b[1;33m\u001b[0m\u001b[0m\n\u001b[0m",
      "\u001b[1;32m<ipython-input-17-01ff862c79f5>\u001b[0m in \u001b[0;36mextract_features\u001b[1;34m(self)\u001b[0m\n\u001b[0;32m    108\u001b[0m         \u001b[0mself\u001b[0m\u001b[1;33m.\u001b[0m\u001b[0menumerate_graphs\u001b[0m\u001b[1;33m(\u001b[0m\u001b[1;33m)\u001b[0m\u001b[1;33m\u001b[0m\u001b[1;33m\u001b[0m\u001b[0m\n\u001b[0;32m    109\u001b[0m         \u001b[0mself\u001b[0m\u001b[1;33m.\u001b[0m\u001b[0menumerate_categories\u001b[0m\u001b[1;33m(\u001b[0m\u001b[1;33m)\u001b[0m\u001b[1;33m\u001b[0m\u001b[1;33m\u001b[0m\u001b[0m\n\u001b[1;32m--> 110\u001b[1;33m         \u001b[0mself\u001b[0m\u001b[1;33m.\u001b[0m\u001b[0msetup_features\u001b[0m\u001b[1;33m(\u001b[0m\u001b[1;33m)\u001b[0m\u001b[1;33m\u001b[0m\u001b[1;33m\u001b[0m\u001b[0m\n\u001b[0m\u001b[0;32m    111\u001b[0m         \u001b[0mself\u001b[0m\u001b[1;33m.\u001b[0m\u001b[0mcreate_tabular_motifs\u001b[0m\u001b[1;33m(\u001b[0m\u001b[1;33m)\u001b[0m\u001b[1;33m\u001b[0m\u001b[1;33m\u001b[0m\u001b[0m\n",
      "\u001b[1;32m<ipython-input-17-01ff862c79f5>\u001b[0m in \u001b[0;36msetup_features\u001b[1;34m(self)\u001b[0m\n\u001b[0;32m     85\u001b[0m                 \u001b[0msub_gr\u001b[0m \u001b[1;33m=\u001b[0m \u001b[0mself\u001b[0m\u001b[1;33m.\u001b[0m\u001b[0mgraph\u001b[0m\u001b[1;33m.\u001b[0m\u001b[0msubgraph\u001b[0m\u001b[1;33m(\u001b[0m\u001b[0mnodes\u001b[0m\u001b[1;33m)\u001b[0m\u001b[1;33m\u001b[0m\u001b[1;33m\u001b[0m\u001b[0m\n\u001b[0;32m     86\u001b[0m                 \u001b[1;32mfor\u001b[0m \u001b[0mindex\u001b[0m\u001b[1;33m,\u001b[0m \u001b[0mgraph\u001b[0m \u001b[1;32min\u001b[0m \u001b[0menumerate\u001b[0m\u001b[1;33m(\u001b[0m\u001b[0mgraphs\u001b[0m\u001b[1;33m)\u001b[0m\u001b[1;33m:\u001b[0m\u001b[1;33m\u001b[0m\u001b[1;33m\u001b[0m\u001b[0m\n\u001b[1;32m---> 87\u001b[1;33m                     \u001b[1;32mif\u001b[0m \u001b[0mnx\u001b[0m\u001b[1;33m.\u001b[0m\u001b[0mis_isomorphic\u001b[0m\u001b[1;33m(\u001b[0m\u001b[0msub_gr\u001b[0m\u001b[1;33m,\u001b[0m \u001b[0mgraph\u001b[0m\u001b[1;33m)\u001b[0m\u001b[1;33m:\u001b[0m\u001b[1;33m\u001b[0m\u001b[1;33m\u001b[0m\u001b[0m\n\u001b[0m\u001b[0;32m     88\u001b[0m                         \u001b[1;32mfor\u001b[0m \u001b[0mnode\u001b[0m \u001b[1;32min\u001b[0m \u001b[0msub_gr\u001b[0m\u001b[1;33m.\u001b[0m\u001b[0mnodes\u001b[0m\u001b[1;33m(\u001b[0m\u001b[1;33m)\u001b[0m\u001b[1;33m:\u001b[0m\u001b[1;33m\u001b[0m\u001b[1;33m\u001b[0m\u001b[0m\n\u001b[0;32m     89\u001b[0m                             \u001b[0mself\u001b[0m\u001b[1;33m.\u001b[0m\u001b[0mfeatures\u001b[0m\u001b[1;33m[\u001b[0m\u001b[0mnode\u001b[0m\u001b[1;33m]\u001b[0m\u001b[1;33m[\u001b[0m\u001b[0mself\u001b[0m\u001b[1;33m.\u001b[0m\u001b[0mcategories\u001b[0m\u001b[1;33m[\u001b[0m\u001b[0msize\u001b[0m\u001b[1;33m]\u001b[0m\u001b[1;33m[\u001b[0m\u001b[0mindex\u001b[0m\u001b[1;33m]\u001b[0m\u001b[1;33m[\u001b[0m\u001b[0msub_gr\u001b[0m\u001b[1;33m.\u001b[0m\u001b[0mdegree\u001b[0m\u001b[1;33m(\u001b[0m\u001b[0mnode\u001b[0m\u001b[1;33m)\u001b[0m\u001b[1;33m]\u001b[0m\u001b[1;33m]\u001b[0m \u001b[1;33m+=\u001b[0m \u001b[1;36m1\u001b[0m\u001b[1;33m\u001b[0m\u001b[1;33m\u001b[0m\u001b[0m\n",
      "\u001b[1;32m~\\.conda\\envs\\Thomas\\lib\\site-packages\\networkx\\algorithms\\isomorphism\\isomorph.py\u001b[0m in \u001b[0;36mis_isomorphic\u001b[1;34m(G1, G2, node_match, edge_match)\u001b[0m\n\u001b[0;32m    237\u001b[0m     \u001b[0mgm\u001b[0m \u001b[1;33m=\u001b[0m \u001b[0mGM\u001b[0m\u001b[1;33m(\u001b[0m\u001b[0mG1\u001b[0m\u001b[1;33m,\u001b[0m \u001b[0mG2\u001b[0m\u001b[1;33m,\u001b[0m \u001b[0mnode_match\u001b[0m\u001b[1;33m=\u001b[0m\u001b[0mnode_match\u001b[0m\u001b[1;33m,\u001b[0m \u001b[0medge_match\u001b[0m\u001b[1;33m=\u001b[0m\u001b[0medge_match\u001b[0m\u001b[1;33m)\u001b[0m\u001b[1;33m\u001b[0m\u001b[1;33m\u001b[0m\u001b[0m\n\u001b[0;32m    238\u001b[0m \u001b[1;33m\u001b[0m\u001b[0m\n\u001b[1;32m--> 239\u001b[1;33m     \u001b[1;32mreturn\u001b[0m \u001b[0mgm\u001b[0m\u001b[1;33m.\u001b[0m\u001b[0mis_isomorphic\u001b[0m\u001b[1;33m(\u001b[0m\u001b[1;33m)\u001b[0m\u001b[1;33m\u001b[0m\u001b[1;33m\u001b[0m\u001b[0m\n\u001b[0m",
      "\u001b[1;32m~\\.conda\\envs\\Thomas\\lib\\site-packages\\networkx\\algorithms\\isomorphism\\isomorphvf2.py\u001b[0m in \u001b[0;36mis_isomorphic\u001b[1;34m(self)\u001b[0m\n\u001b[0;32m    289\u001b[0m \u001b[1;33m\u001b[0m\u001b[0m\n\u001b[0;32m    290\u001b[0m         \u001b[1;32mtry\u001b[0m\u001b[1;33m:\u001b[0m\u001b[1;33m\u001b[0m\u001b[1;33m\u001b[0m\u001b[0m\n\u001b[1;32m--> 291\u001b[1;33m             \u001b[0mx\u001b[0m \u001b[1;33m=\u001b[0m \u001b[0mnext\u001b[0m\u001b[1;33m(\u001b[0m\u001b[0mself\u001b[0m\u001b[1;33m.\u001b[0m\u001b[0misomorphisms_iter\u001b[0m\u001b[1;33m(\u001b[0m\u001b[1;33m)\u001b[0m\u001b[1;33m)\u001b[0m\u001b[1;33m\u001b[0m\u001b[1;33m\u001b[0m\u001b[0m\n\u001b[0m\u001b[0;32m    292\u001b[0m             \u001b[1;32mreturn\u001b[0m \u001b[1;32mTrue\u001b[0m\u001b[1;33m\u001b[0m\u001b[1;33m\u001b[0m\u001b[0m\n\u001b[0;32m    293\u001b[0m         \u001b[1;32mexcept\u001b[0m \u001b[0mStopIteration\u001b[0m\u001b[1;33m:\u001b[0m\u001b[1;33m\u001b[0m\u001b[1;33m\u001b[0m\u001b[0m\n",
      "\u001b[1;32m~\\.conda\\envs\\Thomas\\lib\\site-packages\\networkx\\algorithms\\isomorphism\\isomorphvf2.py\u001b[0m in \u001b[0;36misomorphisms_iter\u001b[1;34m(self)\u001b[0m\n\u001b[0;32m    299\u001b[0m         \u001b[0mself\u001b[0m\u001b[1;33m.\u001b[0m\u001b[0mtest\u001b[0m \u001b[1;33m=\u001b[0m \u001b[1;34m'graph'\u001b[0m\u001b[1;33m\u001b[0m\u001b[1;33m\u001b[0m\u001b[0m\n\u001b[0;32m    300\u001b[0m         \u001b[0mself\u001b[0m\u001b[1;33m.\u001b[0m\u001b[0minitialize\u001b[0m\u001b[1;33m(\u001b[0m\u001b[1;33m)\u001b[0m\u001b[1;33m\u001b[0m\u001b[1;33m\u001b[0m\u001b[0m\n\u001b[1;32m--> 301\u001b[1;33m         \u001b[1;32mfor\u001b[0m \u001b[0mmapping\u001b[0m \u001b[1;32min\u001b[0m \u001b[0mself\u001b[0m\u001b[1;33m.\u001b[0m\u001b[0mmatch\u001b[0m\u001b[1;33m(\u001b[0m\u001b[1;33m)\u001b[0m\u001b[1;33m:\u001b[0m\u001b[1;33m\u001b[0m\u001b[1;33m\u001b[0m\u001b[0m\n\u001b[0m\u001b[0;32m    302\u001b[0m             \u001b[1;32myield\u001b[0m \u001b[0mmapping\u001b[0m\u001b[1;33m\u001b[0m\u001b[1;33m\u001b[0m\u001b[0m\n\u001b[0;32m    303\u001b[0m \u001b[1;33m\u001b[0m\u001b[0m\n",
      "\u001b[1;32m~\\.conda\\envs\\Thomas\\lib\\site-packages\\networkx\\algorithms\\isomorphism\\isomorphvf2.py\u001b[0m in \u001b[0;36mmatch\u001b[1;34m(self)\u001b[0m\n\u001b[0;32m    322\u001b[0m                         \u001b[1;31m# Recursive call, adding the feasible state.\u001b[0m\u001b[1;33m\u001b[0m\u001b[1;33m\u001b[0m\u001b[1;33m\u001b[0m\u001b[0m\n\u001b[0;32m    323\u001b[0m                         \u001b[0mnewstate\u001b[0m \u001b[1;33m=\u001b[0m \u001b[0mself\u001b[0m\u001b[1;33m.\u001b[0m\u001b[0mstate\u001b[0m\u001b[1;33m.\u001b[0m\u001b[0m__class__\u001b[0m\u001b[1;33m(\u001b[0m\u001b[0mself\u001b[0m\u001b[1;33m,\u001b[0m \u001b[0mG1_node\u001b[0m\u001b[1;33m,\u001b[0m \u001b[0mG2_node\u001b[0m\u001b[1;33m)\u001b[0m\u001b[1;33m\u001b[0m\u001b[1;33m\u001b[0m\u001b[0m\n\u001b[1;32m--> 324\u001b[1;33m                         \u001b[1;32mfor\u001b[0m \u001b[0mmapping\u001b[0m \u001b[1;32min\u001b[0m \u001b[0mself\u001b[0m\u001b[1;33m.\u001b[0m\u001b[0mmatch\u001b[0m\u001b[1;33m(\u001b[0m\u001b[1;33m)\u001b[0m\u001b[1;33m:\u001b[0m\u001b[1;33m\u001b[0m\u001b[1;33m\u001b[0m\u001b[0m\n\u001b[0m\u001b[0;32m    325\u001b[0m                             \u001b[1;32myield\u001b[0m \u001b[0mmapping\u001b[0m\u001b[1;33m\u001b[0m\u001b[1;33m\u001b[0m\u001b[0m\n\u001b[0;32m    326\u001b[0m \u001b[1;33m\u001b[0m\u001b[0m\n",
      "\u001b[1;32m~\\.conda\\envs\\Thomas\\lib\\site-packages\\networkx\\algorithms\\isomorphism\\isomorphvf2.py\u001b[0m in \u001b[0;36mmatch\u001b[1;34m(self)\u001b[0m\n\u001b[0;32m    322\u001b[0m                         \u001b[1;31m# Recursive call, adding the feasible state.\u001b[0m\u001b[1;33m\u001b[0m\u001b[1;33m\u001b[0m\u001b[1;33m\u001b[0m\u001b[0m\n\u001b[0;32m    323\u001b[0m                         \u001b[0mnewstate\u001b[0m \u001b[1;33m=\u001b[0m \u001b[0mself\u001b[0m\u001b[1;33m.\u001b[0m\u001b[0mstate\u001b[0m\u001b[1;33m.\u001b[0m\u001b[0m__class__\u001b[0m\u001b[1;33m(\u001b[0m\u001b[0mself\u001b[0m\u001b[1;33m,\u001b[0m \u001b[0mG1_node\u001b[0m\u001b[1;33m,\u001b[0m \u001b[0mG2_node\u001b[0m\u001b[1;33m)\u001b[0m\u001b[1;33m\u001b[0m\u001b[1;33m\u001b[0m\u001b[0m\n\u001b[1;32m--> 324\u001b[1;33m                         \u001b[1;32mfor\u001b[0m \u001b[0mmapping\u001b[0m \u001b[1;32min\u001b[0m \u001b[0mself\u001b[0m\u001b[1;33m.\u001b[0m\u001b[0mmatch\u001b[0m\u001b[1;33m(\u001b[0m\u001b[1;33m)\u001b[0m\u001b[1;33m:\u001b[0m\u001b[1;33m\u001b[0m\u001b[1;33m\u001b[0m\u001b[0m\n\u001b[0m\u001b[0;32m    325\u001b[0m                             \u001b[1;32myield\u001b[0m \u001b[0mmapping\u001b[0m\u001b[1;33m\u001b[0m\u001b[1;33m\u001b[0m\u001b[0m\n\u001b[0;32m    326\u001b[0m \u001b[1;33m\u001b[0m\u001b[0m\n",
      "\u001b[1;32m~\\.conda\\envs\\Thomas\\lib\\site-packages\\networkx\\algorithms\\isomorphism\\isomorphvf2.py\u001b[0m in \u001b[0;36mmatch\u001b[1;34m(self)\u001b[0m\n\u001b[0;32m    318\u001b[0m         \u001b[1;32melse\u001b[0m\u001b[1;33m:\u001b[0m\u001b[1;33m\u001b[0m\u001b[1;33m\u001b[0m\u001b[0m\n\u001b[0;32m    319\u001b[0m             \u001b[1;32mfor\u001b[0m \u001b[0mG1_node\u001b[0m\u001b[1;33m,\u001b[0m \u001b[0mG2_node\u001b[0m \u001b[1;32min\u001b[0m \u001b[0mself\u001b[0m\u001b[1;33m.\u001b[0m\u001b[0mcandidate_pairs_iter\u001b[0m\u001b[1;33m(\u001b[0m\u001b[1;33m)\u001b[0m\u001b[1;33m:\u001b[0m\u001b[1;33m\u001b[0m\u001b[1;33m\u001b[0m\u001b[0m\n\u001b[1;32m--> 320\u001b[1;33m                 \u001b[1;32mif\u001b[0m \u001b[0mself\u001b[0m\u001b[1;33m.\u001b[0m\u001b[0msyntactic_feasibility\u001b[0m\u001b[1;33m(\u001b[0m\u001b[0mG1_node\u001b[0m\u001b[1;33m,\u001b[0m \u001b[0mG2_node\u001b[0m\u001b[1;33m)\u001b[0m\u001b[1;33m:\u001b[0m\u001b[1;33m\u001b[0m\u001b[1;33m\u001b[0m\u001b[0m\n\u001b[0m\u001b[0;32m    321\u001b[0m                     \u001b[1;32mif\u001b[0m \u001b[0mself\u001b[0m\u001b[1;33m.\u001b[0m\u001b[0msemantic_feasibility\u001b[0m\u001b[1;33m(\u001b[0m\u001b[0mG1_node\u001b[0m\u001b[1;33m,\u001b[0m \u001b[0mG2_node\u001b[0m\u001b[1;33m)\u001b[0m\u001b[1;33m:\u001b[0m\u001b[1;33m\u001b[0m\u001b[1;33m\u001b[0m\u001b[0m\n\u001b[0;32m    322\u001b[0m                         \u001b[1;31m# Recursive call, adding the feasible state.\u001b[0m\u001b[1;33m\u001b[0m\u001b[1;33m\u001b[0m\u001b[1;33m\u001b[0m\u001b[0m\n",
      "\u001b[1;32m~\\.conda\\envs\\Thomas\\lib\\site-packages\\networkx\\algorithms\\isomorphism\\isomorphvf2.py\u001b[0m in \u001b[0;36msyntactic_feasibility\u001b[1;34m(self, G1_node, G2_node)\u001b[0m\n\u001b[0;32m    500\u001b[0m             \u001b[1;31m# that are neither in core_2 nor T_2^{inout}.\u001b[0m\u001b[1;33m\u001b[0m\u001b[1;33m\u001b[0m\u001b[1;33m\u001b[0m\u001b[0m\n\u001b[0;32m    501\u001b[0m             \u001b[0mnum1\u001b[0m \u001b[1;33m=\u001b[0m \u001b[1;36m0\u001b[0m\u001b[1;33m\u001b[0m\u001b[1;33m\u001b[0m\u001b[0m\n\u001b[1;32m--> 502\u001b[1;33m             \u001b[1;32mfor\u001b[0m \u001b[0mneighbor\u001b[0m \u001b[1;32min\u001b[0m \u001b[0mself\u001b[0m\u001b[1;33m.\u001b[0m\u001b[0mG1\u001b[0m\u001b[1;33m[\u001b[0m\u001b[0mG1_node\u001b[0m\u001b[1;33m]\u001b[0m\u001b[1;33m:\u001b[0m\u001b[1;33m\u001b[0m\u001b[1;33m\u001b[0m\u001b[0m\n\u001b[0m\u001b[0;32m    503\u001b[0m                 \u001b[1;32mif\u001b[0m \u001b[0mneighbor\u001b[0m \u001b[1;32mnot\u001b[0m \u001b[1;32min\u001b[0m \u001b[0mself\u001b[0m\u001b[1;33m.\u001b[0m\u001b[0minout_1\u001b[0m\u001b[1;33m:\u001b[0m\u001b[1;33m\u001b[0m\u001b[1;33m\u001b[0m\u001b[0m\n\u001b[0;32m    504\u001b[0m                     \u001b[0mnum1\u001b[0m \u001b[1;33m+=\u001b[0m \u001b[1;36m1\u001b[0m\u001b[1;33m\u001b[0m\u001b[1;33m\u001b[0m\u001b[0m\n",
      "\u001b[1;32m~\\.conda\\envs\\Thomas\\lib\\site-packages\\networkx\\classes\\coreviews.py\u001b[0m in \u001b[0;36m<genexpr>\u001b[1;34m(.0)\u001b[0m\n\u001b[0;32m    274\u001b[0m         \u001b[1;32mif\u001b[0m \u001b[0mnode_ok_shorter\u001b[0m\u001b[1;33m:\u001b[0m\u001b[1;33m\u001b[0m\u001b[1;33m\u001b[0m\u001b[0m\n\u001b[0;32m    275\u001b[0m             \u001b[1;32mreturn\u001b[0m \u001b[1;33m(\u001b[0m\u001b[0mn\u001b[0m \u001b[1;32mfor\u001b[0m \u001b[0mn\u001b[0m \u001b[1;32min\u001b[0m \u001b[0mself\u001b[0m\u001b[1;33m.\u001b[0m\u001b[0mNODE_OK\u001b[0m\u001b[1;33m.\u001b[0m\u001b[0mnodes\u001b[0m \u001b[1;32mif\u001b[0m \u001b[0mn\u001b[0m \u001b[1;32min\u001b[0m \u001b[0mself\u001b[0m\u001b[1;33m.\u001b[0m\u001b[0m_atlas\u001b[0m\u001b[1;33m)\u001b[0m\u001b[1;33m\u001b[0m\u001b[1;33m\u001b[0m\u001b[0m\n\u001b[1;32m--> 276\u001b[1;33m         \u001b[1;32mreturn\u001b[0m \u001b[1;33m(\u001b[0m\u001b[0mn\u001b[0m \u001b[1;32mfor\u001b[0m \u001b[0mn\u001b[0m \u001b[1;32min\u001b[0m \u001b[0mself\u001b[0m\u001b[1;33m.\u001b[0m\u001b[0m_atlas\u001b[0m \u001b[1;32mif\u001b[0m \u001b[0mself\u001b[0m\u001b[1;33m.\u001b[0m\u001b[0mNODE_OK\u001b[0m\u001b[1;33m(\u001b[0m\u001b[0mn\u001b[0m\u001b[1;33m)\u001b[0m\u001b[1;33m)\u001b[0m\u001b[1;33m\u001b[0m\u001b[1;33m\u001b[0m\u001b[0m\n\u001b[0m\u001b[0;32m    277\u001b[0m \u001b[1;33m\u001b[0m\u001b[0m\n\u001b[0;32m    278\u001b[0m     \u001b[1;32mdef\u001b[0m \u001b[0m__getitem__\u001b[0m\u001b[1;33m(\u001b[0m\u001b[0mself\u001b[0m\u001b[1;33m,\u001b[0m \u001b[0mkey\u001b[0m\u001b[1;33m)\u001b[0m\u001b[1;33m:\u001b[0m\u001b[1;33m\u001b[0m\u001b[1;33m\u001b[0m\u001b[0m\n",
      "\u001b[1;31mKeyboardInterrupt\u001b[0m: "
     ]
    }
   ],
   "source": [
    "graph_path = './data/bio-pathways-network.csv'\n",
    "G = load_graph(graph_path)\n",
    "model = MotifCounterMachine(G, 3, 'result3.csv')\n",
    "model.extract_features()"
   ]
  },
  {
   "cell_type": "markdown",
   "metadata": {
    "id": "Cc6YibOLCs2J"
   },
   "source": [
    "# Graph embedding \n"
   ]
  },
  {
   "cell_type": "code",
   "execution_count": null,
   "metadata": {
    "id": "MDIbLgT4CvGw"
   },
   "outputs": [],
   "source": []
  }
 ],
 "metadata": {
  "colab": {
   "collapsed_sections": [],
   "name": "PPI-ETF.ipynb",
   "provenance": []
  },
  "kernelspec": {
   "display_name": "Python 3",
   "language": "python",
   "name": "python3"
  },
  "language_info": {
   "codemirror_mode": {
    "name": "ipython",
    "version": 3
   },
   "file_extension": ".py",
   "mimetype": "text/x-python",
   "name": "python",
   "nbconvert_exporter": "python",
   "pygments_lexer": "ipython3",
   "version": "3.6.10"
  }
 },
 "nbformat": 4,
 "nbformat_minor": 1
}
