{
 "cells": [
  {
   "cell_type": "code",
   "execution_count": 1,
   "metadata": {},
   "outputs": [],
   "source": [
    "import pandas as pd\n",
    "import networkx as nx\n",
    "import numpy as np \n",
    "import stellargraph as sg\n",
    "import tensorflow as tf\n",
    "from matplotlib import pyplot as plt\n",
    "from gensim.models import Word2Vec"
   ]
  },
  {
   "cell_type": "code",
   "execution_count": 85,
   "metadata": {},
   "outputs": [],
   "source": [
    "from sklearn.preprocessing import MultiLabelBinarizer, scale, StandardScaler\n",
    "from sklearn.manifold import TSNE\n",
    "from sklearn.model_selection import train_test_split\n",
    "from sklearn.linear_model import LogisticRegression, RidgeClassifierCV\n",
    "from sklearn.metrics import accuracy_score, f1_score, confusion_matrix, multilabel_confusion_matrix\n",
    "from skmultilearn.problem_transform import BinaryRelevance"
   ]
  },
  {
   "cell_type": "code",
   "execution_count": 3,
   "metadata": {},
   "outputs": [],
   "source": [
    "network = pd.read_csv('data/bio-pathways-network.csv')\n",
    "graph = nx.from_pandas_edgelist(network, 'Gene ID 1', 'Gene ID 2')"
   ]
  },
  {
   "cell_type": "code",
   "execution_count": 4,
   "metadata": {},
   "outputs": [],
   "source": [
    "G = sg.StellarGraph.from_networkx(graph)"
   ]
  },
  {
   "cell_type": "code",
   "execution_count": 5,
   "metadata": {},
   "outputs": [],
   "source": [
    "rw = sg.data.BiasedRandomWalk(G)\n",
    "\n",
    "walks = rw.run(\n",
    "    nodes=list(G.nodes()),  # root nodes\n",
    "    length=100,  # maximum length of a random walk\n",
    "    n=10,  # number of random walks per root node\n",
    "    p=0.5,  # Defines (unormalised) probability, 1/p, of returning to source node\n",
    "    q=2.0,  # Defines (unormalised) probability, 1/q, for moving away from source node\n",
    ")"
   ]
  },
  {
   "cell_type": "code",
   "execution_count": 6,
   "metadata": {},
   "outputs": [],
   "source": [
    "str_walks = [[str(n) for n in walk] for walk in walks]\n",
    "model = Word2Vec(str_walks, size=128, window=5, min_count=0, sg=1, workers=-1, iter=1)"
   ]
  },
  {
   "cell_type": "code",
   "execution_count": 7,
   "metadata": {},
   "outputs": [
    {
     "data": {
      "text/html": [
       "<div>\n",
       "<style scoped>\n",
       "    .dataframe tbody tr th:only-of-type {\n",
       "        vertical-align: middle;\n",
       "    }\n",
       "\n",
       "    .dataframe tbody tr th {\n",
       "        vertical-align: top;\n",
       "    }\n",
       "\n",
       "    .dataframe thead th {\n",
       "        text-align: right;\n",
       "    }\n",
       "</style>\n",
       "<table border=\"1\" class=\"dataframe\">\n",
       "  <thead>\n",
       "    <tr style=\"text-align: right;\">\n",
       "      <th></th>\n",
       "      <th>inherited metabolic disorder</th>\n",
       "      <th>integumentary system disease</th>\n",
       "      <th>urinary system disease</th>\n",
       "      <th>nervous system disease</th>\n",
       "      <th>gastrointestinal system disease</th>\n",
       "      <th>substance-related disorder</th>\n",
       "      <th>immune system disease</th>\n",
       "      <th>musculoskeletal system disease</th>\n",
       "      <th>psoriatic arthritis</th>\n",
       "      <th>cancer</th>\n",
       "      <th>...</th>\n",
       "      <th>chromosomal disease</th>\n",
       "      <th>hypospadias</th>\n",
       "      <th>ciliopathy</th>\n",
       "      <th>developmental disorder of mental health</th>\n",
       "      <th>sleep disorder</th>\n",
       "      <th>bacterial infectious disease</th>\n",
       "      <th>respiratory system disease</th>\n",
       "      <th>polycystic ovary syndrome</th>\n",
       "      <th>reproductive system disease</th>\n",
       "      <th>orofacial cleft</th>\n",
       "    </tr>\n",
       "  </thead>\n",
       "  <tbody>\n",
       "    <tr>\n",
       "      <th>3295</th>\n",
       "      <td>1</td>\n",
       "      <td>0</td>\n",
       "      <td>0</td>\n",
       "      <td>1</td>\n",
       "      <td>0</td>\n",
       "      <td>0</td>\n",
       "      <td>0</td>\n",
       "      <td>0</td>\n",
       "      <td>0</td>\n",
       "      <td>0</td>\n",
       "      <td>...</td>\n",
       "      <td>0</td>\n",
       "      <td>0</td>\n",
       "      <td>0</td>\n",
       "      <td>0</td>\n",
       "      <td>0</td>\n",
       "      <td>0</td>\n",
       "      <td>0</td>\n",
       "      <td>0</td>\n",
       "      <td>0</td>\n",
       "      <td>0</td>\n",
       "    </tr>\n",
       "    <tr>\n",
       "      <th>5189</th>\n",
       "      <td>1</td>\n",
       "      <td>0</td>\n",
       "      <td>0</td>\n",
       "      <td>1</td>\n",
       "      <td>0</td>\n",
       "      <td>0</td>\n",
       "      <td>0</td>\n",
       "      <td>0</td>\n",
       "      <td>0</td>\n",
       "      <td>0</td>\n",
       "      <td>...</td>\n",
       "      <td>0</td>\n",
       "      <td>0</td>\n",
       "      <td>0</td>\n",
       "      <td>0</td>\n",
       "      <td>0</td>\n",
       "      <td>0</td>\n",
       "      <td>0</td>\n",
       "      <td>0</td>\n",
       "      <td>0</td>\n",
       "      <td>0</td>\n",
       "    </tr>\n",
       "    <tr>\n",
       "      <th>5190</th>\n",
       "      <td>1</td>\n",
       "      <td>0</td>\n",
       "      <td>0</td>\n",
       "      <td>0</td>\n",
       "      <td>0</td>\n",
       "      <td>0</td>\n",
       "      <td>0</td>\n",
       "      <td>0</td>\n",
       "      <td>0</td>\n",
       "      <td>0</td>\n",
       "      <td>...</td>\n",
       "      <td>0</td>\n",
       "      <td>0</td>\n",
       "      <td>0</td>\n",
       "      <td>0</td>\n",
       "      <td>0</td>\n",
       "      <td>0</td>\n",
       "      <td>0</td>\n",
       "      <td>0</td>\n",
       "      <td>0</td>\n",
       "      <td>0</td>\n",
       "    </tr>\n",
       "    <tr>\n",
       "      <th>5192</th>\n",
       "      <td>1</td>\n",
       "      <td>0</td>\n",
       "      <td>0</td>\n",
       "      <td>0</td>\n",
       "      <td>0</td>\n",
       "      <td>0</td>\n",
       "      <td>0</td>\n",
       "      <td>0</td>\n",
       "      <td>0</td>\n",
       "      <td>0</td>\n",
       "      <td>...</td>\n",
       "      <td>0</td>\n",
       "      <td>0</td>\n",
       "      <td>0</td>\n",
       "      <td>0</td>\n",
       "      <td>0</td>\n",
       "      <td>0</td>\n",
       "      <td>0</td>\n",
       "      <td>0</td>\n",
       "      <td>0</td>\n",
       "      <td>0</td>\n",
       "    </tr>\n",
       "    <tr>\n",
       "      <th>5193</th>\n",
       "      <td>1</td>\n",
       "      <td>0</td>\n",
       "      <td>0</td>\n",
       "      <td>0</td>\n",
       "      <td>0</td>\n",
       "      <td>0</td>\n",
       "      <td>0</td>\n",
       "      <td>0</td>\n",
       "      <td>0</td>\n",
       "      <td>0</td>\n",
       "      <td>...</td>\n",
       "      <td>0</td>\n",
       "      <td>0</td>\n",
       "      <td>0</td>\n",
       "      <td>0</td>\n",
       "      <td>0</td>\n",
       "      <td>0</td>\n",
       "      <td>0</td>\n",
       "      <td>0</td>\n",
       "      <td>0</td>\n",
       "      <td>0</td>\n",
       "    </tr>\n",
       "    <tr>\n",
       "      <th>...</th>\n",
       "      <td>...</td>\n",
       "      <td>...</td>\n",
       "      <td>...</td>\n",
       "      <td>...</td>\n",
       "      <td>...</td>\n",
       "      <td>...</td>\n",
       "      <td>...</td>\n",
       "      <td>...</td>\n",
       "      <td>...</td>\n",
       "      <td>...</td>\n",
       "      <td>...</td>\n",
       "      <td>...</td>\n",
       "      <td>...</td>\n",
       "      <td>...</td>\n",
       "      <td>...</td>\n",
       "      <td>...</td>\n",
       "      <td>...</td>\n",
       "      <td>...</td>\n",
       "      <td>...</td>\n",
       "      <td>...</td>\n",
       "      <td>...</td>\n",
       "    </tr>\n",
       "    <tr>\n",
       "      <th>19400</th>\n",
       "      <td>0</td>\n",
       "      <td>0</td>\n",
       "      <td>0</td>\n",
       "      <td>0</td>\n",
       "      <td>0</td>\n",
       "      <td>0</td>\n",
       "      <td>0</td>\n",
       "      <td>0</td>\n",
       "      <td>0</td>\n",
       "      <td>0</td>\n",
       "      <td>...</td>\n",
       "      <td>0</td>\n",
       "      <td>0</td>\n",
       "      <td>0</td>\n",
       "      <td>0</td>\n",
       "      <td>0</td>\n",
       "      <td>0</td>\n",
       "      <td>0</td>\n",
       "      <td>0</td>\n",
       "      <td>0</td>\n",
       "      <td>0</td>\n",
       "    </tr>\n",
       "    <tr>\n",
       "      <th>81918</th>\n",
       "      <td>0</td>\n",
       "      <td>0</td>\n",
       "      <td>0</td>\n",
       "      <td>0</td>\n",
       "      <td>0</td>\n",
       "      <td>0</td>\n",
       "      <td>0</td>\n",
       "      <td>0</td>\n",
       "      <td>0</td>\n",
       "      <td>0</td>\n",
       "      <td>...</td>\n",
       "      <td>0</td>\n",
       "      <td>0</td>\n",
       "      <td>0</td>\n",
       "      <td>0</td>\n",
       "      <td>0</td>\n",
       "      <td>0</td>\n",
       "      <td>0</td>\n",
       "      <td>0</td>\n",
       "      <td>0</td>\n",
       "      <td>0</td>\n",
       "    </tr>\n",
       "    <tr>\n",
       "      <th>139378</th>\n",
       "      <td>0</td>\n",
       "      <td>0</td>\n",
       "      <td>0</td>\n",
       "      <td>0</td>\n",
       "      <td>0</td>\n",
       "      <td>0</td>\n",
       "      <td>0</td>\n",
       "      <td>0</td>\n",
       "      <td>0</td>\n",
       "      <td>0</td>\n",
       "      <td>...</td>\n",
       "      <td>0</td>\n",
       "      <td>0</td>\n",
       "      <td>0</td>\n",
       "      <td>0</td>\n",
       "      <td>0</td>\n",
       "      <td>0</td>\n",
       "      <td>0</td>\n",
       "      <td>0</td>\n",
       "      <td>0</td>\n",
       "      <td>0</td>\n",
       "    </tr>\n",
       "    <tr>\n",
       "      <th>18744</th>\n",
       "      <td>0</td>\n",
       "      <td>0</td>\n",
       "      <td>0</td>\n",
       "      <td>0</td>\n",
       "      <td>0</td>\n",
       "      <td>0</td>\n",
       "      <td>0</td>\n",
       "      <td>0</td>\n",
       "      <td>0</td>\n",
       "      <td>0</td>\n",
       "      <td>...</td>\n",
       "      <td>0</td>\n",
       "      <td>0</td>\n",
       "      <td>0</td>\n",
       "      <td>0</td>\n",
       "      <td>0</td>\n",
       "      <td>0</td>\n",
       "      <td>0</td>\n",
       "      <td>0</td>\n",
       "      <td>0</td>\n",
       "      <td>0</td>\n",
       "    </tr>\n",
       "    <tr>\n",
       "      <th>100360522</th>\n",
       "      <td>0</td>\n",
       "      <td>0</td>\n",
       "      <td>0</td>\n",
       "      <td>0</td>\n",
       "      <td>0</td>\n",
       "      <td>0</td>\n",
       "      <td>0</td>\n",
       "      <td>0</td>\n",
       "      <td>0</td>\n",
       "      <td>0</td>\n",
       "      <td>...</td>\n",
       "      <td>0</td>\n",
       "      <td>0</td>\n",
       "      <td>0</td>\n",
       "      <td>0</td>\n",
       "      <td>0</td>\n",
       "      <td>0</td>\n",
       "      <td>0</td>\n",
       "      <td>0</td>\n",
       "      <td>0</td>\n",
       "      <td>0</td>\n",
       "    </tr>\n",
       "  </tbody>\n",
       "</table>\n",
       "<p>22255 rows × 30 columns</p>\n",
       "</div>"
      ],
      "text/plain": [
       "           inherited metabolic disorder  integumentary system disease  \\\n",
       "3295                                  1                             0   \n",
       "5189                                  1                             0   \n",
       "5190                                  1                             0   \n",
       "5192                                  1                             0   \n",
       "5193                                  1                             0   \n",
       "...                                 ...                           ...   \n",
       "19400                                 0                             0   \n",
       "81918                                 0                             0   \n",
       "139378                                0                             0   \n",
       "18744                                 0                             0   \n",
       "100360522                             0                             0   \n",
       "\n",
       "           urinary system disease  nervous system disease  \\\n",
       "3295                            0                       1   \n",
       "5189                            0                       1   \n",
       "5190                            0                       0   \n",
       "5192                            0                       0   \n",
       "5193                            0                       0   \n",
       "...                           ...                     ...   \n",
       "19400                           0                       0   \n",
       "81918                           0                       0   \n",
       "139378                          0                       0   \n",
       "18744                           0                       0   \n",
       "100360522                       0                       0   \n",
       "\n",
       "           gastrointestinal system disease  substance-related disorder  \\\n",
       "3295                                     0                           0   \n",
       "5189                                     0                           0   \n",
       "5190                                     0                           0   \n",
       "5192                                     0                           0   \n",
       "5193                                     0                           0   \n",
       "...                                    ...                         ...   \n",
       "19400                                    0                           0   \n",
       "81918                                    0                           0   \n",
       "139378                                   0                           0   \n",
       "18744                                    0                           0   \n",
       "100360522                                0                           0   \n",
       "\n",
       "           immune system disease  musculoskeletal system disease  \\\n",
       "3295                           0                               0   \n",
       "5189                           0                               0   \n",
       "5190                           0                               0   \n",
       "5192                           0                               0   \n",
       "5193                           0                               0   \n",
       "...                          ...                             ...   \n",
       "19400                          0                               0   \n",
       "81918                          0                               0   \n",
       "139378                         0                               0   \n",
       "18744                          0                               0   \n",
       "100360522                      0                               0   \n",
       "\n",
       "           psoriatic arthritis  cancer  ...  chromosomal disease  hypospadias  \\\n",
       "3295                         0       0  ...                    0            0   \n",
       "5189                         0       0  ...                    0            0   \n",
       "5190                         0       0  ...                    0            0   \n",
       "5192                         0       0  ...                    0            0   \n",
       "5193                         0       0  ...                    0            0   \n",
       "...                        ...     ...  ...                  ...          ...   \n",
       "19400                        0       0  ...                    0            0   \n",
       "81918                        0       0  ...                    0            0   \n",
       "139378                       0       0  ...                    0            0   \n",
       "18744                        0       0  ...                    0            0   \n",
       "100360522                    0       0  ...                    0            0   \n",
       "\n",
       "           ciliopathy  developmental disorder of mental health  \\\n",
       "3295                0                                        0   \n",
       "5189                0                                        0   \n",
       "5190                0                                        0   \n",
       "5192                0                                        0   \n",
       "5193                0                                        0   \n",
       "...               ...                                      ...   \n",
       "19400               0                                        0   \n",
       "81918               0                                        0   \n",
       "139378              0                                        0   \n",
       "18744               0                                        0   \n",
       "100360522           0                                        0   \n",
       "\n",
       "           sleep disorder  bacterial infectious disease  \\\n",
       "3295                    0                             0   \n",
       "5189                    0                             0   \n",
       "5190                    0                             0   \n",
       "5192                    0                             0   \n",
       "5193                    0                             0   \n",
       "...                   ...                           ...   \n",
       "19400                   0                             0   \n",
       "81918                   0                             0   \n",
       "139378                  0                             0   \n",
       "18744                   0                             0   \n",
       "100360522               0                             0   \n",
       "\n",
       "           respiratory system disease  polycystic ovary syndrome  \\\n",
       "3295                                0                          0   \n",
       "5189                                0                          0   \n",
       "5190                                0                          0   \n",
       "5192                                0                          0   \n",
       "5193                                0                          0   \n",
       "...                               ...                        ...   \n",
       "19400                               0                          0   \n",
       "81918                               0                          0   \n",
       "139378                              0                          0   \n",
       "18744                               0                          0   \n",
       "100360522                           0                          0   \n",
       "\n",
       "           reproductive system disease  orofacial cleft  \n",
       "3295                                 0                0  \n",
       "5189                                 0                0  \n",
       "5190                                 0                0  \n",
       "5192                                 0                0  \n",
       "5193                                 0                0  \n",
       "...                                ...              ...  \n",
       "19400                                0                0  \n",
       "81918                                0                0  \n",
       "139378                               0                0  \n",
       "18744                                0                0  \n",
       "100360522                            0                0  \n",
       "\n",
       "[22255 rows x 30 columns]"
      ]
     },
     "execution_count": 7,
     "metadata": {},
     "output_type": "execute_result"
    }
   ],
   "source": [
    "multi_diseases = pd.read_csv('data/all-proteins.csv', index_col=0)\n",
    "multi_diseases"
   ]
  },
  {
   "cell_type": "code",
   "execution_count": 8,
   "metadata": {},
   "outputs": [],
   "source": [
    "node_ids = model.wv.index2word \n",
    "embedding_set = set(node_ids)\n",
    "drop_rows = []\n",
    "for n in multi_diseases.index:\n",
    "    if str(n) not in embedding_set:\n",
    "        drop_rows.append(n)\n",
    "multi_diseases = multi_diseases.drop(drop_rows)"
   ]
  },
  {
   "cell_type": "code",
   "execution_count": 9,
   "metadata": {},
   "outputs": [],
   "source": [
    "X = (\n",
    "    model.wv.vectors\n",
    ")  # numpy.ndarray of size number of nodes times embeddings dimensionality\n",
    "y = multi_diseases.values"
   ]
  },
  {
   "cell_type": "code",
   "execution_count": 11,
   "metadata": {},
   "outputs": [
    {
     "name": "stdout",
     "output_type": "stream",
     "text": [
      "Array shapes:\n",
      " X_train = (4311, 128)\n",
      " y_train = (4311, 30)\n",
      " X_test = (17246, 128)\n",
      " y_test = (17246, 30)\n"
     ]
    }
   ],
   "source": [
    "# Use validation and test set splits similar to graphnets\n",
    "X_train, X_test, y_train, y_test = train_test_split(X, y, train_size=0.2, test_size=None)\n",
    "print(\n",
    "    \"Array shapes:\\n X_train = {}\\n y_train = {}\\n X_test = {}\\n y_test = {}\".format(\n",
    "        X_train.shape, y_train.shape, X_test.shape, y_test.shape\n",
    "    )\n",
    ")"
   ]
  },
  {
   "cell_type": "code",
   "execution_count": 16,
   "metadata": {},
   "outputs": [
    {
     "data": {
      "text/plain": [
       "BinaryRelevance(classifier=LogisticRegression(), require_dense=[True, True])"
      ]
     },
     "execution_count": 16,
     "metadata": {},
     "output_type": "execute_result"
    }
   ],
   "source": [
    "clf = BinaryRelevance(LogisticRegression())\n",
    "clf.fit(X_train, y_train)"
   ]
  },
  {
   "cell_type": "code",
   "execution_count": 18,
   "metadata": {},
   "outputs": [],
   "source": [
    "y_pred = clf.predict(X_test)"
   ]
  },
  {
   "cell_type": "code",
   "execution_count": 19,
   "metadata": {
    "scrolled": true
   },
   "outputs": [
    {
     "data": {
      "text/plain": [
       "array([[[17088,     0],\n",
       "        [  158,     0]],\n",
       "\n",
       "       [[16980,     0],\n",
       "        [  266,     0]],\n",
       "\n",
       "       [[16738,     0],\n",
       "        [  508,     0]],\n",
       "\n",
       "       [[16294,     0],\n",
       "        [  952,     0]],\n",
       "\n",
       "       [[16915,     0],\n",
       "        [  331,     0]],\n",
       "\n",
       "       [[17151,     0],\n",
       "        [   95,     0]],\n",
       "\n",
       "       [[16956,     0],\n",
       "        [  290,     0]],\n",
       "\n",
       "       [[16851,     0],\n",
       "        [  395,     0]],\n",
       "\n",
       "       [[17234,     0],\n",
       "        [   12,     0]],\n",
       "\n",
       "       [[15497,     0],\n",
       "        [ 1749,     0]],\n",
       "\n",
       "       [[17221,     0],\n",
       "        [   25,     0]],\n",
       "\n",
       "       [[17100,     0],\n",
       "        [  146,     0]],\n",
       "\n",
       "       [[16592,     0],\n",
       "        [  654,     0]],\n",
       "\n",
       "       [[16955,     0],\n",
       "        [  291,     0]],\n",
       "\n",
       "       [[17170,     0],\n",
       "        [   76,     0]],\n",
       "\n",
       "       [[16825,     0],\n",
       "        [  421,     0]],\n",
       "\n",
       "       [[17220,     0],\n",
       "        [   26,     0]],\n",
       "\n",
       "       [[17150,     0],\n",
       "        [   96,     0]],\n",
       "\n",
       "       [[17161,     0],\n",
       "        [   85,     0]],\n",
       "\n",
       "       [[17236,     0],\n",
       "        [   10,     0]],\n",
       "\n",
       "       [[17165,     0],\n",
       "        [   81,     0]],\n",
       "\n",
       "       [[17233,     0],\n",
       "        [   13,     0]],\n",
       "\n",
       "       [[17226,     0],\n",
       "        [   20,     0]],\n",
       "\n",
       "       [[17039,     0],\n",
       "        [  207,     0]],\n",
       "\n",
       "       [[17229,     0],\n",
       "        [   17,     0]],\n",
       "\n",
       "       [[17231,     0],\n",
       "        [   15,     0]],\n",
       "\n",
       "       [[17017,     0],\n",
       "        [  229,     0]],\n",
       "\n",
       "       [[17134,     0],\n",
       "        [  112,     0]],\n",
       "\n",
       "       [[17093,     0],\n",
       "        [  153,     0]],\n",
       "\n",
       "       [[17208,     0],\n",
       "        [   38,     0]]])"
      ]
     },
     "execution_count": 19,
     "metadata": {},
     "output_type": "execute_result"
    }
   ],
   "source": [
    "multilabel_confusion_matrix(y_test, y_pred)"
   ]
  },
  {
   "cell_type": "code",
   "execution_count": 20,
   "metadata": {},
   "outputs": [
    {
     "name": "stdout",
     "output_type": "stream",
     "text": [
      "accuracy:  0.7529282152383161\n",
      "samples:  0.0\n",
      "macro: 0.0\n",
      "micro: 0.0\n",
      "weighted: 0.0\n"
     ]
    },
    {
     "name": "stderr",
     "output_type": "stream",
     "text": [
      "/home/sahil/.local/lib/python3.8/site-packages/sklearn/metrics/_classification.py:1464: UndefinedMetricWarning: F-score is ill-defined and being set to 0.0 in samples with no true nor predicted labels. Use `zero_division` parameter to control this behavior.\n",
      "  _warn_prf(\n"
     ]
    }
   ],
   "source": [
    "print('accuracy: ', accuracy_score(y_test, y_pred))\n",
    "print('samples: ', f1_score(y_test, y_pred, average='samples'))\n",
    "print('macro:',f1_score(y_test, y_pred, average='micro'))\n",
    "print('micro:',f1_score(y_test, y_pred, average='macro'))\n",
    "print('weighted:',f1_score(y_test, y_pred, average='weighted'))"
   ]
  },
  {
   "cell_type": "code",
   "execution_count": 23,
   "metadata": {},
   "outputs": [
    {
     "name": "stderr",
     "output_type": "stream",
     "text": [
      "/home/sahil/.local/lib/python3.8/site-packages/sklearn/metrics/_classification.py:1221: UndefinedMetricWarning: Precision and F-score are ill-defined and being set to 0.0 in labels with no predicted samples. Use `zero_division` parameter to control this behavior.\n",
      "  _warn_prf(average, modifier, msg_start, len(result))\n"
     ]
    },
    {
     "data": {
      "text/plain": [
       "(array([0., 0., 0., 0., 0., 0., 0., 0., 0., 0., 0., 0., 0., 0., 0., 0., 0.,\n",
       "        0., 0., 0., 0., 0., 0., 0., 0., 0., 0., 0., 0., 0.]),\n",
       " array([0., 0., 0., 0., 0., 0., 0., 0., 0., 0., 0., 0., 0., 0., 0., 0., 0.,\n",
       "        0., 0., 0., 0., 0., 0., 0., 0., 0., 0., 0., 0., 0.]),\n",
       " array([0., 0., 0., 0., 0., 0., 0., 0., 0., 0., 0., 0., 0., 0., 0., 0., 0.,\n",
       "        0., 0., 0., 0., 0., 0., 0., 0., 0., 0., 0., 0., 0.]),\n",
       " array([ 158,  266,  508,  952,  331,   95,  290,  395,   12, 1749,   25,\n",
       "         146,  654,  291,   76,  421,   26,   96,   85,   10,   81,   13,\n",
       "          20,  207,   17,   15,  229,  112,  153,   38]))"
      ]
     },
     "execution_count": 23,
     "metadata": {},
     "output_type": "execute_result"
    }
   ],
   "source": [
    "from sklearn.metrics import precision_recall_fscore_support\n",
    "precision_recall_fscore_support(y_test, y_pred)"
   ]
  },
  {
   "cell_type": "markdown",
   "metadata": {},
   "source": [
    "**Motif embedded results**"
   ]
  },
  {
   "cell_type": "code",
   "execution_count": 24,
   "metadata": {},
   "outputs": [],
   "source": [
    "motif3_exact = pd.read_csv('motifs location/result3.csv', index_col=0)\n",
    "motif3_subsampled = pd.read_csv('motifs location/subsampling_3.csv', index_col=1).drop('Unnamed: 0', axis=1)\n",
    "motif4 = pd.read_csv('motifs location/subsampling_4.csv', index_col=1).drop('Unnamed: 0', axis=1)\n",
    "motif_orig = pd.read_csv('data/bio-pathways-proteinmotifs.csv', index_col=0)"
   ]
  },
  {
   "cell_type": "markdown",
   "metadata": {},
   "source": [
    "3-motifs exact"
   ]
  },
  {
   "cell_type": "code",
   "execution_count": 41,
   "metadata": {},
   "outputs": [],
   "source": [
    "X = np.concatenate((model.wv.vectors, motif3_exact.values), axis=1)"
   ]
  },
  {
   "cell_type": "code",
   "execution_count": 42,
   "metadata": {},
   "outputs": [
    {
     "name": "stdout",
     "output_type": "stream",
     "text": [
      "Array shapes:\n",
      " X_train = (4311, 133)\n",
      " y_train = (4311, 30)\n",
      " X_test = (17246, 133)\n",
      " y_test = (17246, 30)\n"
     ]
    }
   ],
   "source": [
    "# Use validation and test set splits similar to graphnets\n",
    "X_train, X_test, y_train, y_test = train_test_split(X, y, train_size=0.2, test_size=None)\n",
    "print(\n",
    "    \"Array shapes:\\n X_train = {}\\n y_train = {}\\n X_test = {}\\n y_test = {}\".format(\n",
    "        X_train.shape, y_train.shape, X_test.shape, y_test.shape\n",
    "    )\n",
    ")"
   ]
  },
  {
   "cell_type": "code",
   "execution_count": 45,
   "metadata": {},
   "outputs": [
    {
     "data": {
      "text/plain": [
       "BinaryRelevance(classifier=LogisticRegression(), require_dense=[True, True])"
      ]
     },
     "execution_count": 45,
     "metadata": {},
     "output_type": "execute_result"
    }
   ],
   "source": [
    "clf = BinaryRelevance(LogisticRegression())\n",
    "clf.fit(scale(X_train), y_train)"
   ]
  },
  {
   "cell_type": "code",
   "execution_count": 47,
   "metadata": {},
   "outputs": [],
   "source": [
    "y_pred = clf.predict(X_test)"
   ]
  },
  {
   "cell_type": "code",
   "execution_count": 48,
   "metadata": {
    "scrolled": true
   },
   "outputs": [
    {
     "data": {
      "text/plain": [
       "array([[[ 3825, 13272],\n",
       "        [   86,    63]],\n",
       "\n",
       "       [[16985,     0],\n",
       "        [  261,     0]],\n",
       "\n",
       "       [[ 1770, 14983],\n",
       "        [  121,   372]],\n",
       "\n",
       "       [[ 3076, 13253],\n",
       "        [  493,   424]],\n",
       "\n",
       "       [[16931,     6],\n",
       "        [  309,     0]],\n",
       "\n",
       "       [[  298, 16853],\n",
       "        [    8,    87]],\n",
       "\n",
       "       [[  386, 16592],\n",
       "        [   25,   243]],\n",
       "\n",
       "       [[  478, 16382],\n",
       "        [   49,   337]],\n",
       "\n",
       "       [[  395, 16839],\n",
       "        [    0,    12]],\n",
       "\n",
       "       [[  354, 15182],\n",
       "        [  184,  1526]],\n",
       "\n",
       "       [[  774, 16446],\n",
       "        [    5,    21]],\n",
       "\n",
       "       [[  299, 16804],\n",
       "        [    9,   134]],\n",
       "\n",
       "       [[ 4061, 12564],\n",
       "        [  393,   228]],\n",
       "\n",
       "       [[ 1785, 15192],\n",
       "        [   96,   173]],\n",
       "\n",
       "       [[  370, 16810],\n",
       "        [    3,    63]],\n",
       "\n",
       "       [[ 2369, 14460],\n",
       "        [  158,   259]],\n",
       "\n",
       "       [[ 1397, 15828],\n",
       "        [    7,    14]],\n",
       "\n",
       "       [[ 1585, 15566],\n",
       "        [   31,    64]],\n",
       "\n",
       "       [[  564, 16589],\n",
       "        [   14,    79]],\n",
       "\n",
       "       [[17237,     0],\n",
       "        [    9,     0]],\n",
       "\n",
       "       [[ 1463, 15704],\n",
       "        [   22,    57]],\n",
       "\n",
       "       [[  597, 16637],\n",
       "        [    0,    12]],\n",
       "\n",
       "       [[  765, 16463],\n",
       "        [    0,    18]],\n",
       "\n",
       "       [[  365, 16682],\n",
       "        [   24,   175]],\n",
       "\n",
       "       [[  417, 16815],\n",
       "        [    1,    13]],\n",
       "\n",
       "       [[17233,     0],\n",
       "        [   13,     0]],\n",
       "\n",
       "       [[  492, 16529],\n",
       "        [   19,   206]],\n",
       "\n",
       "       [[ 1626, 15502],\n",
       "        [   28,    90]],\n",
       "\n",
       "       [[  484, 16603],\n",
       "        [   15,   144]],\n",
       "\n",
       "       [[  535, 16676],\n",
       "        [    2,    33]]])"
      ]
     },
     "execution_count": 48,
     "metadata": {},
     "output_type": "execute_result"
    }
   ],
   "source": [
    "multilabel_confusion_matrix(y_test, y_pred)"
   ]
  },
  {
   "cell_type": "code",
   "execution_count": 50,
   "metadata": {},
   "outputs": [
    {
     "name": "stdout",
     "output_type": "stream",
     "text": [
      "accuracy:  0.0055085237156442075\n",
      "samples:  0.02211196235307545\n",
      "macro: 0.022900420730857456\n"
     ]
    },
    {
     "name": "stderr",
     "output_type": "stream",
     "text": [
      "/home/sahil/.local/lib/python3.8/site-packages/sklearn/metrics/_classification.py:1464: UndefinedMetricWarning: F-score is ill-defined and being set to 0.0 in samples with no true nor predicted labels. Use `zero_division` parameter to control this behavior.\n",
      "  _warn_prf(\n"
     ]
    },
    {
     "name": "stdout",
     "output_type": "stream",
     "text": [
      "micro: 0.01948433187516241\n",
      "weighted: 0.06156131427198995\n"
     ]
    }
   ],
   "source": [
    "print('accuracy: ', accuracy_score(y_test, y_pred))\n",
    "print('samples: ', f1_score(y_test, y_pred, average='samples'))\n",
    "print('macro:',f1_score(y_test, y_pred, average='micro'))\n",
    "print('micro:',f1_score(y_test, y_pred, average='macro'))\n",
    "print('weighted:',f1_score(y_test, y_pred, average='weighted'))"
   ]
  },
  {
   "cell_type": "code",
   "execution_count": 51,
   "metadata": {},
   "outputs": [
    {
     "name": "stderr",
     "output_type": "stream",
     "text": [
      "/home/sahil/.local/lib/python3.8/site-packages/sklearn/metrics/_classification.py:1221: UndefinedMetricWarning: Precision and F-score are ill-defined and being set to 0.0 in labels with no predicted samples. Use `zero_division` parameter to control this behavior.\n",
      "  _warn_prf(average, modifier, msg_start, len(result))\n"
     ]
    },
    {
     "data": {
      "text/plain": [
       "(array([0.00472441, 0.        , 0.02422664, 0.03100095, 0.        ,\n",
       "        0.00513577, 0.01443421, 0.02015671, 0.00071212, 0.09133349,\n",
       "        0.00127528, 0.00791121, 0.01782364, 0.01125936, 0.00373378,\n",
       "        0.0175963 , 0.00088373, 0.00409469, 0.00473962, 0.        ,\n",
       "        0.00361652, 0.00072076, 0.00109217, 0.01038144, 0.00077252,\n",
       "        0.        , 0.01230953, 0.00577219, 0.00859855, 0.00197498]),\n",
       " array([0.42281879, 0.        , 0.75456389, 0.46237732, 0.        ,\n",
       "        0.91578947, 0.90671642, 0.87305699, 1.        , 0.89239766,\n",
       "        0.80769231, 0.93706294, 0.36714976, 0.64312268, 0.95454545,\n",
       "        0.62110312, 0.66666667, 0.67368421, 0.84946237, 0.        ,\n",
       "        0.72151899, 1.        , 1.        , 0.87939698, 0.92857143,\n",
       "        0.        , 0.91555556, 0.76271186, 0.90566038, 0.94285714]),\n",
       " array([0.00934441, 0.        , 0.04694599, 0.05810607, 0.        ,\n",
       "        0.01021426, 0.02841607, 0.03940368, 0.00142323, 0.16570746,\n",
       "        0.00254653, 0.01568995, 0.03399687, 0.02213125, 0.00743846,\n",
       "        0.03422304, 0.00176511, 0.0081399 , 0.00942665, 0.        ,\n",
       "        0.00719697, 0.00144049, 0.00218195, 0.02052064, 0.00154376,\n",
       "        0.        , 0.02429245, 0.01145767, 0.01703537, 0.00394171]),\n",
       " array([ 149,  261,  493,  917,  309,   95,  268,  386,   12, 1710,   26,\n",
       "         143,  621,  269,   66,  417,   21,   95,   93,    9,   79,   12,\n",
       "          18,  199,   14,   13,  225,  118,  159,   35]))"
      ]
     },
     "execution_count": 51,
     "metadata": {},
     "output_type": "execute_result"
    }
   ],
   "source": [
    "precision_recall_fscore_support(y_test, y_pred)"
   ]
  },
  {
   "cell_type": "markdown",
   "metadata": {},
   "source": [
    "3-motifs subsampled"
   ]
  },
  {
   "cell_type": "code",
   "execution_count": 59,
   "metadata": {},
   "outputs": [],
   "source": [
    "X = np.concatenate((model.wv.vectors, motif3_subsampled.values), axis=1)"
   ]
  },
  {
   "cell_type": "code",
   "execution_count": 60,
   "metadata": {},
   "outputs": [
    {
     "name": "stdout",
     "output_type": "stream",
     "text": [
      "Array shapes:\n",
      " X_train = (4311, 131)\n",
      " y_train = (4311, 30)\n",
      " X_test = (17246, 131)\n",
      " y_test = (17246, 30)\n"
     ]
    }
   ],
   "source": [
    "# Use validation and test set splits similar to graphnets\n",
    "X_train, X_test, y_train, y_test = train_test_split(X, y, train_size=0.2, test_size=None)\n",
    "print(\n",
    "    \"Array shapes:\\n X_train = {}\\n y_train = {}\\n X_test = {}\\n y_test = {}\".format(\n",
    "        X_train.shape, y_train.shape, X_test.shape, y_test.shape\n",
    "    )\n",
    ")"
   ]
  },
  {
   "cell_type": "code",
   "execution_count": 61,
   "metadata": {},
   "outputs": [
    {
     "data": {
      "text/plain": [
       "BinaryRelevance(classifier=LogisticRegression(), require_dense=[True, True])"
      ]
     },
     "execution_count": 61,
     "metadata": {},
     "output_type": "execute_result"
    }
   ],
   "source": [
    "clf = BinaryRelevance(LogisticRegression())\n",
    "clf.fit(scale(X_train), y_train)"
   ]
  },
  {
   "cell_type": "code",
   "execution_count": 62,
   "metadata": {},
   "outputs": [],
   "source": [
    "y_pred = clf.predict(X_test)"
   ]
  },
  {
   "cell_type": "code",
   "execution_count": 63,
   "metadata": {
    "scrolled": true
   },
   "outputs": [
    {
     "data": {
      "text/plain": [
       "array([[[ 3581, 13507],\n",
       "        [   13,   145]],\n",
       "\n",
       "       [[ 2447, 14549],\n",
       "        [   17,   233]],\n",
       "\n",
       "       [[ 2820, 13925],\n",
       "        [   11,   490]],\n",
       "\n",
       "       [[ 1561, 14747],\n",
       "        [   22,   916]],\n",
       "\n",
       "       [[ 2574, 14358],\n",
       "        [   14,   300]],\n",
       "\n",
       "       [[ 2245, 14919],\n",
       "        [    3,    79]],\n",
       "\n",
       "       [[ 2237, 14734],\n",
       "        [    6,   269]],\n",
       "\n",
       "       [[ 2035, 14839],\n",
       "        [   16,   356]],\n",
       "\n",
       "       [[17233,     0],\n",
       "        [   13,     0]],\n",
       "\n",
       "       [[ 1087, 14463],\n",
       "        [   20,  1676]],\n",
       "\n",
       "       [[ 3330, 13893],\n",
       "        [    3,    20]],\n",
       "\n",
       "       [[ 2929, 14172],\n",
       "        [    6,   139]],\n",
       "\n",
       "       [[ 1579, 15031],\n",
       "        [   10,   626]],\n",
       "\n",
       "       [[ 2059, 14905],\n",
       "        [    3,   279]],\n",
       "\n",
       "       [[ 2711, 14475],\n",
       "        [    2,    58]],\n",
       "\n",
       "       [[ 2384, 14450],\n",
       "        [    8,   404]],\n",
       "\n",
       "       [[ 5114, 12107],\n",
       "        [    0,    25]],\n",
       "\n",
       "       [[ 2393, 14772],\n",
       "        [    2,    79]],\n",
       "\n",
       "       [[ 2734, 14420],\n",
       "        [    8,    84]],\n",
       "\n",
       "       [[ 5532, 11704],\n",
       "        [    0,    10]],\n",
       "\n",
       "       [[ 3156, 14002],\n",
       "        [    1,    87]],\n",
       "\n",
       "       [[ 6600, 10636],\n",
       "        [    3,     7]],\n",
       "\n",
       "       [[ 5412, 11816],\n",
       "        [    2,    16]],\n",
       "\n",
       "       [[ 1897, 15158],\n",
       "        [   15,   176]],\n",
       "\n",
       "       [[ 6517, 10712],\n",
       "        [    3,    14]],\n",
       "\n",
       "       [[17230,     0],\n",
       "        [   16,     0]],\n",
       "\n",
       "       [[ 2072, 14956],\n",
       "        [   12,   206]],\n",
       "\n",
       "       [[ 2551, 14583],\n",
       "        [    1,   111]],\n",
       "\n",
       "       [[ 2257, 14833],\n",
       "        [    3,   153]],\n",
       "\n",
       "       [[ 6391, 10818],\n",
       "        [    3,    34]]])"
      ]
     },
     "execution_count": 63,
     "metadata": {},
     "output_type": "execute_result"
    }
   ],
   "source": [
    "multilabel_confusion_matrix(y_test, y_pred)"
   ]
  },
  {
   "cell_type": "code",
   "execution_count": 64,
   "metadata": {},
   "outputs": [
    {
     "name": "stdout",
     "output_type": "stream",
     "text": [
      "accuracy:  0.060999652093239015\n",
      "samples:  0.027656064569995743\n",
      "macro: 0.03481170214884592\n"
     ]
    },
    {
     "name": "stderr",
     "output_type": "stream",
     "text": [
      "/home/sahil/.local/lib/python3.8/site-packages/sklearn/metrics/_classification.py:1464: UndefinedMetricWarning: F-score is ill-defined and being set to 0.0 in samples with no true nor predicted labels. Use `zero_division` parameter to control this behavior.\n",
      "  _warn_prf(\n"
     ]
    },
    {
     "name": "stdout",
     "output_type": "stream",
     "text": [
      "micro: 0.0293706027390281\n",
      "weighted: 0.08426014641959216\n"
     ]
    }
   ],
   "source": [
    "print('accuracy: ', accuracy_score(y_test, y_pred))\n",
    "print('samples: ', f1_score(y_test, y_pred, average='samples'))\n",
    "print('macro:',f1_score(y_test, y_pred, average='micro'))\n",
    "print('micro:',f1_score(y_test, y_pred, average='macro'))\n",
    "print('weighted:',f1_score(y_test, y_pred, average='weighted'))"
   ]
  },
  {
   "cell_type": "code",
   "execution_count": 65,
   "metadata": {},
   "outputs": [
    {
     "name": "stderr",
     "output_type": "stream",
     "text": [
      "/home/sahil/.local/lib/python3.8/site-packages/sklearn/metrics/_classification.py:1221: UndefinedMetricWarning: Precision and F-score are ill-defined and being set to 0.0 in labels with no predicted samples. Use `zero_division` parameter to control this behavior.\n",
      "  _warn_prf(average, modifier, msg_start, len(result))\n"
     ]
    },
    {
     "data": {
      "text/plain": [
       "(array([0.01062115, 0.01576241, 0.03399237, 0.05848177, 0.02046664,\n",
       "        0.00526737, 0.01792975, 0.02342876, 0.        , 0.10384782,\n",
       "        0.0014375 , 0.00971281, 0.03998212, 0.0183746 , 0.00399092,\n",
       "        0.02719806, 0.00206067, 0.00531951, 0.00579151, 0.00085368,\n",
       "        0.00617503, 0.00065771, 0.00135227, 0.01147776, 0.00130524,\n",
       "        0.        , 0.0135866 , 0.0075541 , 0.01020953, 0.00313306]),\n",
       " array([0.91772152, 0.932     , 0.97804391, 0.97654584, 0.95541401,\n",
       "        0.96341463, 0.97818182, 0.95698925, 0.        , 0.98820755,\n",
       "        0.86956522, 0.95862069, 0.98427673, 0.9893617 , 0.96666667,\n",
       "        0.98058252, 1.        , 0.97530864, 0.91304348, 1.        ,\n",
       "        0.98863636, 0.7       , 0.88888889, 0.92146597, 0.82352941,\n",
       "        0.        , 0.94495413, 0.99107143, 0.98076923, 0.91891892]),\n",
       " array([0.02099928, 0.03100053, 0.06570126, 0.1103548 , 0.04007481,\n",
       "        0.01047745, 0.03521403, 0.04573778, 0.        , 0.18794505,\n",
       "        0.00287026, 0.01923077, 0.07684282, 0.03607914, 0.00794902,\n",
       "        0.05292808, 0.00411286, 0.0105813 , 0.01151   , 0.0017059 ,\n",
       "        0.0122734 , 0.00131418, 0.00270042, 0.02267311, 0.00260635,\n",
       "        0.        , 0.02678804, 0.01499392, 0.02020869, 0.00624483]),\n",
       " array([ 158,  250,  501,  938,  314,   82,  275,  372,   13, 1696,   23,\n",
       "         145,  636,  282,   60,  412,   25,   81,   92,   10,   88,   10,\n",
       "          18,  191,   17,   16,  218,  112,  156,   37]))"
      ]
     },
     "execution_count": 65,
     "metadata": {},
     "output_type": "execute_result"
    }
   ],
   "source": [
    "precision_recall_fscore_support(y_test, y_pred)"
   ]
  },
  {
   "cell_type": "markdown",
   "metadata": {},
   "source": [
    "4-motifs"
   ]
  },
  {
   "cell_type": "code",
   "execution_count": 66,
   "metadata": {},
   "outputs": [],
   "source": [
    "X = np.concatenate((model.wv.vectors, motif4.values), axis=1)"
   ]
  },
  {
   "cell_type": "code",
   "execution_count": 67,
   "metadata": {},
   "outputs": [
    {
     "name": "stdout",
     "output_type": "stream",
     "text": [
      "Array shapes:\n",
      " X_train = (4311, 139)\n",
      " y_train = (4311, 30)\n",
      " X_test = (17246, 139)\n",
      " y_test = (17246, 30)\n"
     ]
    }
   ],
   "source": [
    "# Use validation and test set splits similar to graphnets\n",
    "X_train, X_test, y_train, y_test = train_test_split(X, y, train_size=0.2, test_size=None)\n",
    "print(\n",
    "    \"Array shapes:\\n X_train = {}\\n y_train = {}\\n X_test = {}\\n y_test = {}\".format(\n",
    "        X_train.shape, y_train.shape, X_test.shape, y_test.shape\n",
    "    )\n",
    ")"
   ]
  },
  {
   "cell_type": "code",
   "execution_count": 68,
   "metadata": {},
   "outputs": [
    {
     "data": {
      "text/plain": [
       "BinaryRelevance(classifier=LogisticRegression(), require_dense=[True, True])"
      ]
     },
     "execution_count": 68,
     "metadata": {},
     "output_type": "execute_result"
    }
   ],
   "source": [
    "clf = BinaryRelevance(LogisticRegression())\n",
    "clf.fit(scale(X_train), y_train)"
   ]
  },
  {
   "cell_type": "code",
   "execution_count": 69,
   "metadata": {},
   "outputs": [],
   "source": [
    "y_pred = clf.predict(X_test)"
   ]
  },
  {
   "cell_type": "code",
   "execution_count": 70,
   "metadata": {
    "scrolled": true
   },
   "outputs": [
    {
     "data": {
      "text/plain": [
       "array([[[ 9799,  7298],\n",
       "        [   75,    74]],\n",
       "\n",
       "       [[ 2714, 14284],\n",
       "        [   16,   232]],\n",
       "\n",
       "       [[ 1470, 15276],\n",
       "        [   19,   481]],\n",
       "\n",
       "       [[ 1069, 15236],\n",
       "        [   20,   921]],\n",
       "\n",
       "       [[ 1360, 15567],\n",
       "        [   21,   298]],\n",
       "\n",
       "       [[ 2172, 14978],\n",
       "        [    6,    90]],\n",
       "\n",
       "       [[ 5661, 11320],\n",
       "        [   48,   217]],\n",
       "\n",
       "       [[ 5078, 11777],\n",
       "        [   94,   297]],\n",
       "\n",
       "       [[15394,  1840],\n",
       "        [   10,     2]],\n",
       "\n",
       "       [[  587, 14971],\n",
       "        [    8,  1680]],\n",
       "\n",
       "       [[ 5007, 12212],\n",
       "        [    4,    23]],\n",
       "\n",
       "       [[ 4036, 13079],\n",
       "        [   23,   108]],\n",
       "\n",
       "       [[  768, 15836],\n",
       "        [    1,   641]],\n",
       "\n",
       "       [[  767, 16198],\n",
       "        [    0,   281]],\n",
       "\n",
       "       [[ 1747, 15428],\n",
       "        [    3,    68]],\n",
       "\n",
       "       [[ 1025, 15787],\n",
       "        [    3,   431]],\n",
       "\n",
       "       [[ 2201, 15021],\n",
       "        [    1,    23]],\n",
       "\n",
       "       [[ 3029, 14121],\n",
       "        [    3,    93]],\n",
       "\n",
       "       [[ 1486, 15665],\n",
       "        [    4,    91]],\n",
       "\n",
       "       [[ 2579, 14657],\n",
       "        [    1,     9]],\n",
       "\n",
       "       [[ 1311, 15848],\n",
       "        [    0,    87]],\n",
       "\n",
       "       [[ 3241, 13992],\n",
       "        [    2,    11]],\n",
       "\n",
       "       [[ 1923, 15307],\n",
       "        [    0,    16]],\n",
       "\n",
       "       [[  877, 16160],\n",
       "        [    3,   206]],\n",
       "\n",
       "       [[ 3767, 13465],\n",
       "        [    4,    10]],\n",
       "\n",
       "       [[17232,     0],\n",
       "        [   14,     0]],\n",
       "\n",
       "       [[ 1129, 15895],\n",
       "        [    6,   216]],\n",
       "\n",
       "       [[  989, 16143],\n",
       "        [    1,   113]],\n",
       "\n",
       "       [[ 2486, 14605],\n",
       "        [    3,   152]],\n",
       "\n",
       "       [[ 8780,  8432],\n",
       "        [    6,    28]]])"
      ]
     },
     "execution_count": 70,
     "metadata": {},
     "output_type": "execute_result"
    }
   ],
   "source": [
    "multilabel_confusion_matrix(y_test, y_pred)"
   ]
  },
  {
   "cell_type": "code",
   "execution_count": 71,
   "metadata": {
    "scrolled": true
   },
   "outputs": [
    {
     "name": "stdout",
     "output_type": "stream",
     "text": [
      "accuracy:  0.03334106459468862\n",
      "samples:  0.027897949882251475\n",
      "macro: 0.03328067149869149\n"
     ]
    },
    {
     "name": "stderr",
     "output_type": "stream",
     "text": [
      "/home/sahil/.local/lib/python3.8/site-packages/sklearn/metrics/_classification.py:1464: UndefinedMetricWarning: F-score is ill-defined and being set to 0.0 in samples with no true nor predicted labels. Use `zero_division` parameter to control this behavior.\n",
      "  _warn_prf(\n"
     ]
    },
    {
     "name": "stdout",
     "output_type": "stream",
     "text": [
      "micro: 0.028741676448801504\n",
      "weighted: 0.08146471207895595\n"
     ]
    }
   ],
   "source": [
    "print('accuracy: ', accuracy_score(y_test, y_pred))\n",
    "print('samples: ', f1_score(y_test, y_pred, average='samples'))\n",
    "print('macro:',f1_score(y_test, y_pred, average='micro'))\n",
    "print('micro:',f1_score(y_test, y_pred, average='macro'))\n",
    "print('weighted:',f1_score(y_test, y_pred, average='weighted'))"
   ]
  },
  {
   "cell_type": "code",
   "execution_count": 72,
   "metadata": {
    "scrolled": false
   },
   "outputs": [
    {
     "name": "stderr",
     "output_type": "stream",
     "text": [
      "/home/sahil/.local/lib/python3.8/site-packages/sklearn/metrics/_classification.py:1221: UndefinedMetricWarning: Precision and F-score are ill-defined and being set to 0.0 in labels with no predicted samples. Use `zero_division` parameter to control this behavior.\n",
      "  _warn_prf(average, modifier, msg_start, len(result))\n"
     ]
    },
    {
     "data": {
      "text/plain": [
       "(array([0.01003798, 0.01598236, 0.03052612, 0.05700316, 0.01878349,\n",
       "        0.00597292, 0.01880905, 0.02459831, 0.00108578, 0.10089484,\n",
       "        0.00187985, 0.00818988, 0.03890271, 0.01705201, 0.00438823,\n",
       "        0.02657541, 0.00152885, 0.00654285, 0.00577558, 0.00061366,\n",
       "        0.00545968, 0.00078555, 0.00104418, 0.01258707, 0.00074212,\n",
       "        0.        , 0.01340699, 0.00695128, 0.0103002 , 0.00330969]),\n",
       " array([0.4966443 , 0.93548387, 0.962     , 0.97874601, 0.93416928,\n",
       "        0.9375    , 0.81886792, 0.75959079, 0.16666667, 0.99526066,\n",
       "        0.85185185, 0.82442748, 0.99844237, 1.        , 0.95774648,\n",
       "        0.99308756, 0.95833333, 0.96875   , 0.95789474, 0.9       ,\n",
       "        1.        , 0.84615385, 1.        , 0.98564593, 0.71428571,\n",
       "        0.        , 0.97297297, 0.99122807, 0.98064516, 0.82352941]),\n",
       " array([0.01967823, 0.0314278 , 0.05917451, 0.1077319 , 0.0368265 ,\n",
       "        0.01187022, 0.03677343, 0.04765343, 0.0021575 , 0.1832161 ,\n",
       "        0.00375143, 0.01621865, 0.07488755, 0.03353222, 0.00873643,\n",
       "        0.05176555, 0.00305283, 0.0129979 , 0.01148193, 0.00122649,\n",
       "        0.01086007, 0.00156963, 0.00208619, 0.02485671, 0.00148269,\n",
       "        0.        , 0.02644952, 0.01380574, 0.02038627, 0.00659289]),\n",
       " array([ 149,  248,  500,  941,  319,   96,  265,  391,   12, 1688,   27,\n",
       "         131,  642,  281,   71,  434,   24,   96,   95,   10,   87,   13,\n",
       "          16,  209,   14,   14,  222,  114,  155,   34]))"
      ]
     },
     "execution_count": 72,
     "metadata": {},
     "output_type": "execute_result"
    }
   ],
   "source": [
    "precision_recall_fscore_support(y_test, y_pred)"
   ]
  },
  {
   "cell_type": "markdown",
   "metadata": {},
   "source": [
    "Original orbitals"
   ]
  },
  {
   "cell_type": "code",
   "execution_count": 74,
   "metadata": {},
   "outputs": [],
   "source": [
    "drop_rows = []\n",
    "for n in motif_orig.index:\n",
    "    if n not in motif4.index:\n",
    "        drop_rows.append(n)\n",
    "motif_orig = motif_orig.drop(drop_rows)"
   ]
  },
  {
   "cell_type": "code",
   "execution_count": 75,
   "metadata": {},
   "outputs": [],
   "source": [
    "X = np.concatenate((model.wv.vectors, motif_orig.values), axis=1)"
   ]
  },
  {
   "cell_type": "code",
   "execution_count": 76,
   "metadata": {},
   "outputs": [
    {
     "name": "stdout",
     "output_type": "stream",
     "text": [
      "Array shapes:\n",
      " X_train = (4311, 201)\n",
      " y_train = (4311, 30)\n",
      " X_test = (17246, 201)\n",
      " y_test = (17246, 30)\n"
     ]
    }
   ],
   "source": [
    "# Use validation and test set splits similar to graphnets\n",
    "X_train, X_test, y_train, y_test = train_test_split(X, y, train_size=0.2, test_size=None)\n",
    "print(\n",
    "    \"Array shapes:\\n X_train = {}\\n y_train = {}\\n X_test = {}\\n y_test = {}\".format(\n",
    "        X_train.shape, y_train.shape, X_test.shape, y_test.shape\n",
    "    )\n",
    ")"
   ]
  },
  {
   "cell_type": "code",
   "execution_count": 87,
   "metadata": {},
   "outputs": [
    {
     "data": {
      "text/plain": [
       "BinaryRelevance(classifier=LogisticRegression(max_iter=1000),\n",
       "                require_dense=[True, True])"
      ]
     },
     "execution_count": 87,
     "metadata": {},
     "output_type": "execute_result"
    }
   ],
   "source": [
    "clf = BinaryRelevance(LogisticRegression(max_iter=1000))\n",
    "scaler = StandardScaler()\n",
    "X_scaled = scaler.fit_transform(X_train)\n",
    "clf.fit(X_scaled, y_train)"
   ]
  },
  {
   "cell_type": "code",
   "execution_count": 88,
   "metadata": {},
   "outputs": [],
   "source": [
    "y_pred = clf.predict(X_test)"
   ]
  },
  {
   "cell_type": "code",
   "execution_count": 89,
   "metadata": {
    "scrolled": true
   },
   "outputs": [
    {
     "data": {
      "text/plain": [
       "array([[[17095,     0],\n",
       "        [  151,     0]],\n",
       "\n",
       "       [[10157,  6825],\n",
       "        [  139,   125]],\n",
       "\n",
       "       [[16738,     0],\n",
       "        [  508,     0]],\n",
       "\n",
       "       [[ 3615, 12693],\n",
       "        [  211,   727]],\n",
       "\n",
       "       [[ 9116,  7808],\n",
       "        [  165,   157]],\n",
       "\n",
       "       [[17111,    38],\n",
       "        [   96,     1]],\n",
       "\n",
       "       [[ 7168,  9811],\n",
       "        [   96,   171]],\n",
       "\n",
       "       [[ 4406, 12464],\n",
       "        [   92,   284]],\n",
       "\n",
       "       [[   69, 17165],\n",
       "        [    0,    12]],\n",
       "\n",
       "       [[15189,   324],\n",
       "        [ 1693,    40]],\n",
       "\n",
       "       [[14302,  2919],\n",
       "        [   22,     3]],\n",
       "\n",
       "       [[  190, 16915],\n",
       "        [    2,   139]],\n",
       "\n",
       "       [[ 4862, 11749],\n",
       "        [  195,   440]],\n",
       "\n",
       "       [[  307, 16661],\n",
       "        [    5,   273]],\n",
       "\n",
       "       [[ 8615,  8559],\n",
       "        [   39,    33]],\n",
       "\n",
       "       [[15328,  1506],\n",
       "        [  370,    42]],\n",
       "\n",
       "       [[ 8983,  8240],\n",
       "        [   14,     9]],\n",
       "\n",
       "       [[16606,   545],\n",
       "        [   93,     2]],\n",
       "\n",
       "       [[ 4077, 13083],\n",
       "        [   19,    67]],\n",
       "\n",
       "       [[15130,  2109],\n",
       "        [    5,     2]],\n",
       "\n",
       "       [[13336,  3820],\n",
       "        [   78,    12]],\n",
       "\n",
       "       [[   53, 17181],\n",
       "        [    0,    12]],\n",
       "\n",
       "       [[ 9429,  7799],\n",
       "        [   13,     5]],\n",
       "\n",
       "       [[ 1323, 15720],\n",
       "        [   19,   184]],\n",
       "\n",
       "       [[13777,  3456],\n",
       "        [   10,     3]],\n",
       "\n",
       "       [[12817,  4416],\n",
       "        [   10,     3]],\n",
       "\n",
       "       [[11203,  5829],\n",
       "        [  127,    87]],\n",
       "\n",
       "       [[ 9992,  7142],\n",
       "        [   66,    46]],\n",
       "\n",
       "       [[ 6201, 10882],\n",
       "        [   69,    94]],\n",
       "\n",
       "       [[13108,  4107],\n",
       "        [   22,     9]]])"
      ]
     },
     "execution_count": 89,
     "metadata": {},
     "output_type": "execute_result"
    }
   ],
   "source": [
    "multilabel_confusion_matrix(y_test, y_pred)"
   ]
  },
  {
   "cell_type": "code",
   "execution_count": 90,
   "metadata": {},
   "outputs": [
    {
     "name": "stdout",
     "output_type": "stream",
     "text": [
      "accuracy:  0.0012176736634581932\n",
      "samples:  0.020696051030747824\n",
      "macro: 0.02484389254308316\n",
      "micro: 0.019702732689223897\n",
      "weighted: 0.04092098370997712\n"
     ]
    },
    {
     "name": "stderr",
     "output_type": "stream",
     "text": [
      "/home/sahil/.local/lib/python3.8/site-packages/sklearn/metrics/_classification.py:1464: UndefinedMetricWarning: F-score is ill-defined and being set to 0.0 in samples with no true nor predicted labels. Use `zero_division` parameter to control this behavior.\n",
      "  _warn_prf(\n"
     ]
    }
   ],
   "source": [
    "print('accuracy: ', accuracy_score(y_test, y_pred))\n",
    "print('samples: ', f1_score(y_test, y_pred, average='samples'))\n",
    "print('macro:',f1_score(y_test, y_pred, average='micro'))\n",
    "print('micro:',f1_score(y_test, y_pred, average='macro'))\n",
    "print('weighted:',f1_score(y_test, y_pred, average='weighted'))"
   ]
  },
  {
   "cell_type": "code",
   "execution_count": 91,
   "metadata": {},
   "outputs": [
    {
     "name": "stderr",
     "output_type": "stream",
     "text": [
      "/home/sahil/.local/lib/python3.8/site-packages/sklearn/metrics/_classification.py:1221: UndefinedMetricWarning: Precision and F-score are ill-defined and being set to 0.0 in labels with no predicted samples. Use `zero_division` parameter to control this behavior.\n",
      "  _warn_prf(average, modifier, msg_start, len(result))\n"
     ]
    },
    {
     "data": {
      "text/plain": [
       "(array([0.        , 0.01798561, 0.        , 0.05417288, 0.01971124,\n",
       "        0.02564103, 0.01713084, 0.022278  , 0.00069861, 0.10989011,\n",
       "        0.00102669, 0.00815058, 0.03609812, 0.01612141, 0.00384078,\n",
       "        0.02713178, 0.00109104, 0.00365631, 0.00509506, 0.00094742,\n",
       "        0.00313152, 0.00069796, 0.0006407 , 0.01156942, 0.0008673 ,\n",
       "        0.00067889, 0.01470588, 0.00639955, 0.00856414, 0.00218659]),\n",
       " array([0.        , 0.47348485, 0.        , 0.7750533 , 0.48757764,\n",
       "        0.01030928, 0.64044944, 0.75531915, 1.        , 0.02308136,\n",
       "        0.12      , 0.9858156 , 0.69291339, 0.98201439, 0.45833333,\n",
       "        0.10194175, 0.39130435, 0.02105263, 0.77906977, 0.28571429,\n",
       "        0.13333333, 1.        , 0.27777778, 0.90640394, 0.23076923,\n",
       "        0.23076923, 0.40654206, 0.41071429, 0.57668712, 0.29032258]),\n",
       " array([0.        , 0.03465484, 0.        , 0.10126759, 0.03789067,\n",
       "        0.01470588, 0.03336911, 0.04327949, 0.00139624, 0.03814974,\n",
       "        0.00203597, 0.01616749, 0.06862133, 0.03172205, 0.00761773,\n",
       "        0.04285714, 0.00217602, 0.00623053, 0.0101239 , 0.00188857,\n",
       "        0.00611933, 0.00139494, 0.00127845, 0.02284721, 0.00172811,\n",
       "        0.00135379, 0.02838499, 0.01260274, 0.01687764, 0.00434049]),\n",
       " array([ 151,  264,  508,  938,  322,   97,  267,  376,   12, 1733,   25,\n",
       "         141,  635,  278,   72,  412,   23,   95,   86,    7,   90,   12,\n",
       "          18,  203,   13,   13,  214,  112,  163,   31]))"
      ]
     },
     "execution_count": 91,
     "metadata": {},
     "output_type": "execute_result"
    }
   ],
   "source": [
    "precision_recall_fscore_support(y_test, y_pred)"
   ]
  },
  {
   "cell_type": "code",
   "execution_count": null,
   "metadata": {},
   "outputs": [],
   "source": []
  }
 ],
 "metadata": {
  "kernelspec": {
   "display_name": "Python 3",
   "language": "python",
   "name": "python3"
  },
  "language_info": {
   "codemirror_mode": {
    "name": "ipython",
    "version": 3
   },
   "file_extension": ".py",
   "mimetype": "text/x-python",
   "name": "python",
   "nbconvert_exporter": "python",
   "pygments_lexer": "ipython3",
   "version": "3.8.5"
  }
 },
 "nbformat": 4,
 "nbformat_minor": 4
}
